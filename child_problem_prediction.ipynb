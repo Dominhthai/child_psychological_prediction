{
 "cells": [
  {
   "cell_type": "markdown",
   "id": "333e2a2e",
   "metadata": {
    "papermill": {
     "duration": 0.012626,
     "end_time": "2025-03-02T12:09:14.670844",
     "exception": false,
     "start_time": "2025-03-02T12:09:14.658218",
     "status": "completed"
    },
    "tags": []
   },
   "source": [
    "## Install Tabnet Package and Import Tabnet Model:"
   ]
  },
  {
   "cell_type": "code",
   "execution_count": 1,
   "id": "815ac12a",
   "metadata": {
    "execution": {
     "iopub.execute_input": "2025-03-02T12:09:14.694050Z",
     "iopub.status.busy": "2025-03-02T12:09:14.693297Z",
     "iopub.status.idle": "2025-03-02T12:09:25.529166Z",
     "shell.execute_reply": "2025-03-02T12:09:25.527974Z"
    },
    "papermill": {
     "duration": 10.849558,
     "end_time": "2025-03-02T12:09:25.531361",
     "exception": false,
     "start_time": "2025-03-02T12:09:14.681803",
     "status": "completed"
    },
    "tags": []
   },
   "outputs": [],
   "source": [
    "!pip -q install /kaggle/input/pytorchtabnet/pytorch_tabnet-4.1.0-py3-none-any.whl\n",
    "\n"
   ]
  },
  {
   "cell_type": "code",
   "execution_count": 2,
   "id": "97862929",
   "metadata": {
    "execution": {
     "iopub.execute_input": "2025-03-02T12:09:25.554650Z",
     "iopub.status.busy": "2025-03-02T12:09:25.554332Z",
     "iopub.status.idle": "2025-03-02T12:09:33.664441Z",
     "shell.execute_reply": "2025-03-02T12:09:33.663586Z"
    },
    "papermill": {
     "duration": 8.124204,
     "end_time": "2025-03-02T12:09:33.666607",
     "exception": false,
     "start_time": "2025-03-02T12:09:25.542403",
     "status": "completed"
    },
    "tags": []
   },
   "outputs": [],
   "source": [
    "from pytorch_tabnet.tab_model import TabNetRegressor\n",
    "import torch"
   ]
  },
  {
   "cell_type": "markdown",
   "id": "e90ae8ae",
   "metadata": {
    "papermill": {
     "duration": 0.011381,
     "end_time": "2025-03-02T12:09:33.690038",
     "exception": false,
     "start_time": "2025-03-02T12:09:33.678657",
     "status": "completed"
    },
    "tags": []
   },
   "source": [
    "**Import Important Libraries:**"
   ]
  },
  {
   "cell_type": "code",
   "execution_count": 3,
   "id": "20ca2a2c",
   "metadata": {
    "execution": {
     "iopub.execute_input": "2025-03-02T12:09:33.713999Z",
     "iopub.status.busy": "2025-03-02T12:09:33.713548Z",
     "iopub.status.idle": "2025-03-02T12:09:54.967059Z",
     "shell.execute_reply": "2025-03-02T12:09:54.966325Z"
    },
    "papermill": {
     "duration": 21.268381,
     "end_time": "2025-03-02T12:09:54.969022",
     "exception": false,
     "start_time": "2025-03-02T12:09:33.700641",
     "status": "completed"
    },
    "tags": []
   },
   "outputs": [],
   "source": [
    "import numpy as np\n",
    "import pandas as pd\n",
    "import os\n",
    "import re\n",
    "from sklearn.base import clone\n",
    "from sklearn.metrics import cohen_kappa_score\n",
    "from sklearn.model_selection import StratifiedKFold\n",
    "from scipy.optimize import minimize\n",
    "from concurrent.futures import ThreadPoolExecutor\n",
    "from tqdm import tqdm\n",
    "import polars as pl\n",
    "import polars.selectors as cs\n",
    "import matplotlib.pyplot as plt\n",
    "from matplotlib.ticker import MaxNLocator, FormatStrFormatter, PercentFormatter\n",
    "import seaborn as sns\n",
    "\n",
    "from sklearn.preprocessing import StandardScaler\n",
    "import matplotlib.pyplot as plt\n",
    "from keras.models import Model\n",
    "from keras.layers import Input, Dense\n",
    "from keras.optimizers import Adam\n",
    "import torch\n",
    "import torch.nn as nn\n",
    "import torch.optim as optim\n",
    "\n",
    "from colorama import Fore, Style\n",
    "from IPython.display import clear_output\n",
    "import warnings\n",
    "from lightgbm import LGBMRegressor\n",
    "from xgboost import XGBRegressor\n",
    "from catboost import CatBoostRegressor\n",
    "from sklearn.ensemble import VotingRegressor, RandomForestRegressor, GradientBoostingRegressor\n",
    "from sklearn.impute import SimpleImputer, KNNImputer\n",
    "from sklearn.pipeline import Pipeline\n",
    "warnings.filterwarnings('ignore')\n",
    "pd.options.display.max_columns = None"
   ]
  },
  {
   "cell_type": "code",
   "execution_count": 4,
   "id": "dc79803a",
   "metadata": {
    "execution": {
     "iopub.execute_input": "2025-03-02T12:09:54.991860Z",
     "iopub.status.busy": "2025-03-02T12:09:54.991232Z",
     "iopub.status.idle": "2025-03-02T12:09:54.995516Z",
     "shell.execute_reply": "2025-03-02T12:09:54.994700Z"
    },
    "papermill": {
     "duration": 0.017236,
     "end_time": "2025-03-02T12:09:54.997127",
     "exception": false,
     "start_time": "2025-03-02T12:09:54.979891",
     "status": "completed"
    },
    "tags": []
   },
   "outputs": [],
   "source": [
    "labels = ['None', 'Mild', 'Moderate', 'Severe']"
   ]
  },
  {
   "cell_type": "markdown",
   "id": "eba7faf4",
   "metadata": {
    "papermill": {
     "duration": 0.011175,
     "end_time": "2025-03-02T12:09:55.018846",
     "exception": false,
     "start_time": "2025-03-02T12:09:55.007671",
     "status": "completed"
    },
    "tags": []
   },
   "source": [
    "## Preprocessing Data:"
   ]
  },
  {
   "cell_type": "markdown",
   "id": "ff0eb6f1",
   "metadata": {
    "papermill": {
     "duration": 0.010936,
     "end_time": "2025-03-02T12:09:55.040500",
     "exception": false,
     "start_time": "2025-03-02T12:09:55.029564",
     "status": "completed"
    },
    "tags": []
   },
   "source": [
    "### Discrete Data Analysis:"
   ]
  },
  {
   "cell_type": "markdown",
   "id": "ba195234",
   "metadata": {
    "papermill": {
     "duration": 0.010392,
     "end_time": "2025-03-02T12:09:55.061820",
     "exception": false,
     "start_time": "2025-03-02T12:09:55.051428",
     "status": "completed"
    },
    "tags": []
   },
   "source": [
    "Read dataset"
   ]
  },
  {
   "cell_type": "code",
   "execution_count": 5,
   "id": "7ddacf0a",
   "metadata": {
    "execution": {
     "iopub.execute_input": "2025-03-02T12:09:55.084298Z",
     "iopub.status.busy": "2025-03-02T12:09:55.083736Z",
     "iopub.status.idle": "2025-03-02T12:09:55.240450Z",
     "shell.execute_reply": "2025-03-02T12:09:55.239599Z"
    },
    "papermill": {
     "duration": 0.170127,
     "end_time": "2025-03-02T12:09:55.242343",
     "exception": false,
     "start_time": "2025-03-02T12:09:55.072216",
     "status": "completed"
    },
    "tags": []
   },
   "outputs": [
    {
     "data": {
      "text/html": [
       "<div><style>\n",
       ".dataframe > thead > tr,\n",
       ".dataframe > tbody > tr {\n",
       "  text-align: right;\n",
       "  white-space: pre-wrap;\n",
       "}\n",
       "</style>\n",
       "<small>shape: (3_960, 82)</small><table border=\"1\" class=\"dataframe\"><thead><tr><th>id</th><th>Basic_Demos-Enroll_Season</th><th>Basic_Demos-Age</th><th>Basic_Demos-Sex</th><th>CGAS-Season</th><th>CGAS-CGAS_Score</th><th>Physical-Season</th><th>Physical-BMI</th><th>Physical-Height</th><th>Physical-Weight</th><th>Physical-Waist_Circumference</th><th>Physical-Diastolic_BP</th><th>Physical-HeartRate</th><th>Physical-Systolic_BP</th><th>Fitness_Endurance-Season</th><th>Fitness_Endurance-Max_Stage</th><th>Fitness_Endurance-Time_Mins</th><th>Fitness_Endurance-Time_Sec</th><th>FGC-Season</th><th>FGC-FGC_CU</th><th>FGC-FGC_CU_Zone</th><th>FGC-FGC_GSND</th><th>FGC-FGC_GSND_Zone</th><th>FGC-FGC_GSD</th><th>FGC-FGC_GSD_Zone</th><th>FGC-FGC_PU</th><th>FGC-FGC_PU_Zone</th><th>FGC-FGC_SRL</th><th>FGC-FGC_SRL_Zone</th><th>FGC-FGC_SRR</th><th>FGC-FGC_SRR_Zone</th><th>FGC-FGC_TL</th><th>FGC-FGC_TL_Zone</th><th>BIA-Season</th><th>BIA-BIA_Activity_Level_num</th><th>BIA-BIA_BMC</th><th>BIA-BIA_BMI</th><th>&hellip;</th><th>BIA-BIA_ICW</th><th>BIA-BIA_LDM</th><th>BIA-BIA_LST</th><th>BIA-BIA_SMM</th><th>BIA-BIA_TBW</th><th>PAQ_A-Season</th><th>PAQ_A-PAQ_A_Total</th><th>PAQ_C-Season</th><th>PAQ_C-PAQ_C_Total</th><th>PCIAT-Season</th><th>PCIAT-PCIAT_01</th><th>PCIAT-PCIAT_02</th><th>PCIAT-PCIAT_03</th><th>PCIAT-PCIAT_04</th><th>PCIAT-PCIAT_05</th><th>PCIAT-PCIAT_06</th><th>PCIAT-PCIAT_07</th><th>PCIAT-PCIAT_08</th><th>PCIAT-PCIAT_09</th><th>PCIAT-PCIAT_10</th><th>PCIAT-PCIAT_11</th><th>PCIAT-PCIAT_12</th><th>PCIAT-PCIAT_13</th><th>PCIAT-PCIAT_14</th><th>PCIAT-PCIAT_15</th><th>PCIAT-PCIAT_16</th><th>PCIAT-PCIAT_17</th><th>PCIAT-PCIAT_18</th><th>PCIAT-PCIAT_19</th><th>PCIAT-PCIAT_20</th><th>PCIAT-PCIAT_Total</th><th>SDS-Season</th><th>SDS-SDS_Total_Raw</th><th>SDS-SDS_Total_T</th><th>PreInt_EduHx-Season</th><th>PreInt_EduHx-computerinternet_hoursday</th><th>sii</th></tr><tr><td>str</td><td>str</td><td>i64</td><td>i64</td><td>str</td><td>i64</td><td>str</td><td>f64</td><td>f64</td><td>f64</td><td>f64</td><td>i64</td><td>i64</td><td>i64</td><td>str</td><td>i64</td><td>i64</td><td>i64</td><td>str</td><td>i64</td><td>i64</td><td>f64</td><td>i64</td><td>f64</td><td>i64</td><td>i64</td><td>i64</td><td>f64</td><td>i64</td><td>f64</td><td>i64</td><td>f64</td><td>i64</td><td>str</td><td>i64</td><td>f64</td><td>f64</td><td>&hellip;</td><td>f64</td><td>f64</td><td>f64</td><td>f64</td><td>f64</td><td>str</td><td>f64</td><td>str</td><td>f64</td><td>str</td><td>i64</td><td>i64</td><td>i64</td><td>i64</td><td>i64</td><td>i64</td><td>i64</td><td>i64</td><td>i64</td><td>i64</td><td>i64</td><td>i64</td><td>i64</td><td>i64</td><td>i64</td><td>i64</td><td>i64</td><td>i64</td><td>i64</td><td>i64</td><td>i64</td><td>str</td><td>i64</td><td>i64</td><td>str</td><td>i64</td><td>i64</td></tr></thead><tbody><tr><td>&quot;00008ff9&quot;</td><td>&quot;Fall&quot;</td><td>5</td><td>0</td><td>&quot;Winter&quot;</td><td>51</td><td>&quot;Fall&quot;</td><td>16.877316</td><td>46.0</td><td>50.8</td><td>null</td><td>null</td><td>null</td><td>null</td><td>null</td><td>null</td><td>null</td><td>null</td><td>&quot;Fall&quot;</td><td>0</td><td>0</td><td>null</td><td>null</td><td>null</td><td>null</td><td>0</td><td>0</td><td>7.0</td><td>0</td><td>6.0</td><td>0</td><td>6.0</td><td>1</td><td>&quot;Fall&quot;</td><td>2</td><td>2.66855</td><td>16.8792</td><td>&hellip;</td><td>24.4349</td><td>8.89536</td><td>38.9177</td><td>19.5413</td><td>32.6909</td><td>null</td><td>null</td><td>null</td><td>null</td><td>&quot;Fall&quot;</td><td>5</td><td>4</td><td>4</td><td>0</td><td>4</td><td>0</td><td>0</td><td>4</td><td>0</td><td>0</td><td>4</td><td>0</td><td>4</td><td>4</td><td>4</td><td>4</td><td>4</td><td>4</td><td>2</td><td>4</td><td>55</td><td>null</td><td>null</td><td>null</td><td>&quot;Fall&quot;</td><td>3</td><td>2</td></tr><tr><td>&quot;000fd460&quot;</td><td>&quot;Summer&quot;</td><td>9</td><td>0</td><td>null</td><td>null</td><td>&quot;Fall&quot;</td><td>14.03559</td><td>48.0</td><td>46.0</td><td>22.0</td><td>75</td><td>70</td><td>122</td><td>null</td><td>null</td><td>null</td><td>null</td><td>&quot;Fall&quot;</td><td>3</td><td>0</td><td>null</td><td>null</td><td>null</td><td>null</td><td>5</td><td>0</td><td>11.0</td><td>1</td><td>11.0</td><td>1</td><td>3.0</td><td>0</td><td>&quot;Winter&quot;</td><td>2</td><td>2.57949</td><td>14.0371</td><td>&hellip;</td><td>21.0352</td><td>14.974</td><td>39.4497</td><td>15.4107</td><td>27.0552</td><td>null</td><td>null</td><td>&quot;Fall&quot;</td><td>2.34</td><td>&quot;Fall&quot;</td><td>0</td><td>0</td><td>0</td><td>0</td><td>0</td><td>0</td><td>0</td><td>0</td><td>0</td><td>0</td><td>0</td><td>0</td><td>0</td><td>0</td><td>0</td><td>0</td><td>0</td><td>0</td><td>0</td><td>0</td><td>0</td><td>&quot;Fall&quot;</td><td>46</td><td>64</td><td>&quot;Summer&quot;</td><td>0</td><td>0</td></tr><tr><td>&quot;00105258&quot;</td><td>&quot;Summer&quot;</td><td>10</td><td>1</td><td>&quot;Fall&quot;</td><td>71</td><td>&quot;Fall&quot;</td><td>16.648696</td><td>56.5</td><td>75.6</td><td>null</td><td>65</td><td>94</td><td>117</td><td>&quot;Fall&quot;</td><td>5</td><td>7</td><td>33</td><td>&quot;Fall&quot;</td><td>20</td><td>1</td><td>10.2</td><td>1</td><td>14.7</td><td>2</td><td>7</td><td>1</td><td>10.0</td><td>1</td><td>10.0</td><td>1</td><td>5.0</td><td>0</td><td>null</td><td>null</td><td>null</td><td>null</td><td>&hellip;</td><td>null</td><td>null</td><td>null</td><td>null</td><td>null</td><td>null</td><td>null</td><td>&quot;Summer&quot;</td><td>2.17</td><td>&quot;Fall&quot;</td><td>5</td><td>2</td><td>2</td><td>1</td><td>2</td><td>1</td><td>1</td><td>2</td><td>1</td><td>1</td><td>1</td><td>0</td><td>1</td><td>1</td><td>1</td><td>0</td><td>2</td><td>2</td><td>1</td><td>1</td><td>28</td><td>&quot;Fall&quot;</td><td>38</td><td>54</td><td>&quot;Summer&quot;</td><td>2</td><td>0</td></tr><tr><td>&quot;00115b9f&quot;</td><td>&quot;Winter&quot;</td><td>9</td><td>0</td><td>&quot;Fall&quot;</td><td>71</td><td>&quot;Summer&quot;</td><td>18.292347</td><td>56.0</td><td>81.6</td><td>null</td><td>60</td><td>97</td><td>117</td><td>&quot;Summer&quot;</td><td>6</td><td>9</td><td>37</td><td>&quot;Summer&quot;</td><td>18</td><td>1</td><td>null</td><td>null</td><td>null</td><td>null</td><td>5</td><td>0</td><td>7.0</td><td>0</td><td>7.0</td><td>0</td><td>7.0</td><td>1</td><td>&quot;Summer&quot;</td><td>3</td><td>3.84191</td><td>18.2943</td><td>&hellip;</td><td>30.4041</td><td>16.779</td><td>58.9338</td><td>26.4798</td><td>45.9966</td><td>null</td><td>null</td><td>&quot;Winter&quot;</td><td>2.451</td><td>&quot;Summer&quot;</td><td>4</td><td>2</td><td>4</td><td>0</td><td>5</td><td>1</td><td>0</td><td>3</td><td>2</td><td>2</td><td>3</td><td>0</td><td>3</td><td>0</td><td>0</td><td>3</td><td>4</td><td>3</td><td>4</td><td>1</td><td>44</td><td>&quot;Summer&quot;</td><td>31</td><td>45</td><td>&quot;Winter&quot;</td><td>0</td><td>1</td></tr><tr><td>&quot;0016bb22&quot;</td><td>&quot;Spring&quot;</td><td>18</td><td>1</td><td>&quot;Summer&quot;</td><td>null</td><td>null</td><td>null</td><td>null</td><td>null</td><td>null</td><td>null</td><td>null</td><td>null</td><td>null</td><td>null</td><td>null</td><td>null</td><td>null</td><td>null</td><td>null</td><td>null</td><td>null</td><td>null</td><td>null</td><td>null</td><td>null</td><td>null</td><td>null</td><td>null</td><td>null</td><td>null</td><td>null</td><td>null</td><td>null</td><td>null</td><td>null</td><td>&hellip;</td><td>null</td><td>null</td><td>null</td><td>null</td><td>null</td><td>&quot;Summer&quot;</td><td>1.04</td><td>null</td><td>null</td><td>null</td><td>null</td><td>null</td><td>null</td><td>null</td><td>null</td><td>null</td><td>null</td><td>null</td><td>null</td><td>null</td><td>null</td><td>null</td><td>null</td><td>null</td><td>null</td><td>null</td><td>null</td><td>null</td><td>null</td><td>null</td><td>null</td><td>null</td><td>null</td><td>null</td><td>null</td><td>null</td><td>null</td></tr><tr><td>&hellip;</td><td>&hellip;</td><td>&hellip;</td><td>&hellip;</td><td>&hellip;</td><td>&hellip;</td><td>&hellip;</td><td>&hellip;</td><td>&hellip;</td><td>&hellip;</td><td>&hellip;</td><td>&hellip;</td><td>&hellip;</td><td>&hellip;</td><td>&hellip;</td><td>&hellip;</td><td>&hellip;</td><td>&hellip;</td><td>&hellip;</td><td>&hellip;</td><td>&hellip;</td><td>&hellip;</td><td>&hellip;</td><td>&hellip;</td><td>&hellip;</td><td>&hellip;</td><td>&hellip;</td><td>&hellip;</td><td>&hellip;</td><td>&hellip;</td><td>&hellip;</td><td>&hellip;</td><td>&hellip;</td><td>&hellip;</td><td>&hellip;</td><td>&hellip;</td><td>&hellip;</td><td>&hellip;</td><td>&hellip;</td><td>&hellip;</td><td>&hellip;</td><td>&hellip;</td><td>&hellip;</td><td>&hellip;</td><td>&hellip;</td><td>&hellip;</td><td>&hellip;</td><td>&hellip;</td><td>&hellip;</td><td>&hellip;</td><td>&hellip;</td><td>&hellip;</td><td>&hellip;</td><td>&hellip;</td><td>&hellip;</td><td>&hellip;</td><td>&hellip;</td><td>&hellip;</td><td>&hellip;</td><td>&hellip;</td><td>&hellip;</td><td>&hellip;</td><td>&hellip;</td><td>&hellip;</td><td>&hellip;</td><td>&hellip;</td><td>&hellip;</td><td>&hellip;</td><td>&hellip;</td><td>&hellip;</td><td>&hellip;</td><td>&hellip;</td><td>&hellip;</td><td>&hellip;</td><td>&hellip;</td></tr><tr><td>&quot;ff8a2de4&quot;</td><td>&quot;Fall&quot;</td><td>13</td><td>0</td><td>&quot;Spring&quot;</td><td>60</td><td>&quot;Fall&quot;</td><td>16.36246</td><td>59.5</td><td>82.4</td><td>null</td><td>71</td><td>70</td><td>104</td><td>null</td><td>null</td><td>null</td><td>null</td><td>&quot;Fall&quot;</td><td>16</td><td>0</td><td>18.0</td><td>1</td><td>19.9</td><td>2</td><td>10</td><td>1</td><td>8.0</td><td>1</td><td>9.0</td><td>1</td><td>12.0</td><td>1</td><td>&quot;Fall&quot;</td><td>3</td><td>4.52277</td><td>16.3642</td><td>&hellip;</td><td>33.3709</td><td>17.9797</td><td>66.2889</td><td>29.779</td><td>52.832</td><td>null</td><td>null</td><td>&quot;Winter&quot;</td><td>3.26</td><td>&quot;Winter&quot;</td><td>3</td><td>3</td><td>3</td><td>2</td><td>3</td><td>2</td><td>2</td><td>2</td><td>2</td><td>1</td><td>2</td><td>0</td><td>2</td><td>0</td><td>1</td><td>0</td><td>2</td><td>1</td><td>1</td><td>0</td><td>32</td><td>&quot;Winter&quot;</td><td>35</td><td>50</td><td>&quot;Fall&quot;</td><td>1</td><td>1</td></tr><tr><td>&quot;ffa9794a&quot;</td><td>&quot;Winter&quot;</td><td>10</td><td>0</td><td>null</td><td>null</td><td>&quot;Spring&quot;</td><td>18.764678</td><td>53.5</td><td>76.4</td><td>27.0</td><td>60</td><td>78</td><td>118</td><td>null</td><td>null</td><td>null</td><td>null</td><td>&quot;Spring&quot;</td><td>0</td><td>0</td><td>null</td><td>null</td><td>null</td><td>null</td><td>4</td><td>0</td><td>0.0</td><td>0</td><td>0.0</td><td>0</td><td>12.0</td><td>1</td><td>&quot;Spring&quot;</td><td>null</td><td>null</td><td>null</td><td>&hellip;</td><td>null</td><td>null</td><td>null</td><td>null</td><td>null</td><td>null</td><td>null</td><td>&quot;Winter&quot;</td><td>2.34</td><td>null</td><td>null</td><td>null</td><td>null</td><td>null</td><td>null</td><td>null</td><td>null</td><td>null</td><td>null</td><td>null</td><td>null</td><td>null</td><td>null</td><td>null</td><td>null</td><td>null</td><td>null</td><td>null</td><td>null</td><td>null</td><td>null</td><td>null</td><td>null</td><td>null</td><td>&quot;Winter&quot;</td><td>0</td><td>null</td></tr><tr><td>&quot;ffcd4dbd&quot;</td><td>&quot;Fall&quot;</td><td>11</td><td>0</td><td>&quot;Spring&quot;</td><td>68</td><td>&quot;Winter&quot;</td><td>21.4415</td><td>60.0</td><td>109.8</td><td>null</td><td>79</td><td>99</td><td>116</td><td>null</td><td>null</td><td>null</td><td>null</td><td>&quot;Winter&quot;</td><td>15</td><td>1</td><td>18.5</td><td>2</td><td>15.8</td><td>2</td><td>0</td><td>0</td><td>10.0</td><td>1</td><td>10.0</td><td>1</td><td>14.0</td><td>1</td><td>&quot;Winter&quot;</td><td>2</td><td>4.41305</td><td>21.4438</td><td>&hellip;</td><td>33.9805</td><td>21.3403</td><td>71.3903</td><td>28.7792</td><td>54.463</td><td>null</td><td>null</td><td>&quot;Winter&quot;</td><td>2.729</td><td>&quot;Winter&quot;</td><td>5</td><td>5</td><td>3</td><td>0</td><td>5</td><td>1</td><td>0</td><td>2</td><td>0</td><td>2</td><td>1</td><td>0</td><td>1</td><td>3</td><td>0</td><td>0</td><td>1</td><td>1</td><td>0</td><td>1</td><td>31</td><td>&quot;Winter&quot;</td><td>56</td><td>77</td><td>&quot;Fall&quot;</td><td>0</td><td>1</td></tr><tr><td>&quot;ffed1dd5&quot;</td><td>&quot;Spring&quot;</td><td>13</td><td>0</td><td>&quot;Spring&quot;</td><td>70</td><td>&quot;Winter&quot;</td><td>12.235895</td><td>70.7</td><td>87.0</td><td>null</td><td>59</td><td>61</td><td>113</td><td>null</td><td>null</td><td>null</td><td>null</td><td>&quot;Spring&quot;</td><td>null</td><td>null</td><td>null</td><td>null</td><td>null</td><td>null</td><td>null</td><td>null</td><td>null</td><td>null</td><td>null</td><td>null</td><td>null</td><td>null</td><td>&quot;Summer&quot;</td><td>4</td><td>6.66168</td><td>12.2372</td><td>&hellip;</td><td>41.3715</td><td>25.0054</td><td>86.2475</td><td>45.434</td><td>67.9038</td><td>null</td><td>null</td><td>&quot;Spring&quot;</td><td>3.3</td><td>&quot;Spring&quot;</td><td>2</td><td>1</td><td>1</td><td>1</td><td>0</td><td>0</td><td>0</td><td>1</td><td>1</td><td>1</td><td>2</td><td>0</td><td>1</td><td>1</td><td>2</td><td>1</td><td>1</td><td>1</td><td>1</td><td>1</td><td>19</td><td>&quot;Spring&quot;</td><td>33</td><td>47</td><td>&quot;Spring&quot;</td><td>1</td><td>0</td></tr><tr><td>&quot;ffef538e&quot;</td><td>&quot;Spring&quot;</td><td>11</td><td>0</td><td>null</td><td>null</td><td>&quot;Winter&quot;</td><td>null</td><td>null</td><td>null</td><td>null</td><td>null</td><td>null</td><td>null</td><td>null</td><td>null</td><td>null</td><td>null</td><td>&quot;Winter&quot;</td><td>null</td><td>null</td><td>null</td><td>null</td><td>null</td><td>null</td><td>null</td><td>null</td><td>null</td><td>null</td><td>null</td><td>null</td><td>null</td><td>null</td><td>null</td><td>null</td><td>null</td><td>null</td><td>&hellip;</td><td>null</td><td>null</td><td>null</td><td>null</td><td>null</td><td>null</td><td>null</td><td>null</td><td>null</td><td>null</td><td>null</td><td>null</td><td>null</td><td>null</td><td>null</td><td>null</td><td>null</td><td>null</td><td>null</td><td>null</td><td>null</td><td>null</td><td>null</td><td>null</td><td>null</td><td>null</td><td>null</td><td>null</td><td>null</td><td>null</td><td>null</td><td>null</td><td>null</td><td>null</td><td>&quot;Spring&quot;</td><td>1</td><td>null</td></tr></tbody></table></div>"
      ],
      "text/plain": [
       "shape: (3_960, 82)\n",
       "┌──────────┬────────────┬────────────┬────────────┬───┬────────────┬────────────┬───────────┬──────┐\n",
       "│ id       ┆ Basic_Demo ┆ Basic_Demo ┆ Basic_Demo ┆ … ┆ SDS-SDS_To ┆ PreInt_Edu ┆ PreInt_Ed ┆ sii  │\n",
       "│ ---      ┆ s-Enroll_S ┆ s-Age      ┆ s-Sex      ┆   ┆ tal_T      ┆ Hx-Season  ┆ uHx-compu ┆ ---  │\n",
       "│ str      ┆ eason      ┆ ---        ┆ ---        ┆   ┆ ---        ┆ ---        ┆ terintern ┆ i64  │\n",
       "│          ┆ ---        ┆ i64        ┆ i64        ┆   ┆ i64        ┆ str        ┆ et_…      ┆      │\n",
       "│          ┆ str        ┆            ┆            ┆   ┆            ┆            ┆ ---       ┆      │\n",
       "│          ┆            ┆            ┆            ┆   ┆            ┆            ┆ i64       ┆      │\n",
       "╞══════════╪════════════╪════════════╪════════════╪═══╪════════════╪════════════╪═══════════╪══════╡\n",
       "│ 00008ff9 ┆ Fall       ┆ 5          ┆ 0          ┆ … ┆ null       ┆ Fall       ┆ 3         ┆ 2    │\n",
       "│ 000fd460 ┆ Summer     ┆ 9          ┆ 0          ┆ … ┆ 64         ┆ Summer     ┆ 0         ┆ 0    │\n",
       "│ 00105258 ┆ Summer     ┆ 10         ┆ 1          ┆ … ┆ 54         ┆ Summer     ┆ 2         ┆ 0    │\n",
       "│ 00115b9f ┆ Winter     ┆ 9          ┆ 0          ┆ … ┆ 45         ┆ Winter     ┆ 0         ┆ 1    │\n",
       "│ 0016bb22 ┆ Spring     ┆ 18         ┆ 1          ┆ … ┆ null       ┆ null       ┆ null      ┆ null │\n",
       "│ …        ┆ …          ┆ …          ┆ …          ┆ … ┆ …          ┆ …          ┆ …         ┆ …    │\n",
       "│ ff8a2de4 ┆ Fall       ┆ 13         ┆ 0          ┆ … ┆ 50         ┆ Fall       ┆ 1         ┆ 1    │\n",
       "│ ffa9794a ┆ Winter     ┆ 10         ┆ 0          ┆ … ┆ null       ┆ Winter     ┆ 0         ┆ null │\n",
       "│ ffcd4dbd ┆ Fall       ┆ 11         ┆ 0          ┆ … ┆ 77         ┆ Fall       ┆ 0         ┆ 1    │\n",
       "│ ffed1dd5 ┆ Spring     ┆ 13         ┆ 0          ┆ … ┆ 47         ┆ Spring     ┆ 1         ┆ 0    │\n",
       "│ ffef538e ┆ Spring     ┆ 11         ┆ 0          ┆ … ┆ null       ┆ Spring     ┆ 1         ┆ null │\n",
       "└──────────┴────────────┴────────────┴────────────┴───┴────────────┴────────────┴───────────┴──────┘"
      ]
     },
     "metadata": {},
     "output_type": "display_data"
    },
    {
     "data": {
      "text/html": [
       "<div><style>\n",
       ".dataframe > thead > tr,\n",
       ".dataframe > tbody > tr {\n",
       "  text-align: right;\n",
       "  white-space: pre-wrap;\n",
       "}\n",
       "</style>\n",
       "<small>shape: (20, 59)</small><table border=\"1\" class=\"dataframe\"><thead><tr><th>id</th><th>Basic_Demos-Enroll_Season</th><th>Basic_Demos-Age</th><th>Basic_Demos-Sex</th><th>CGAS-Season</th><th>CGAS-CGAS_Score</th><th>Physical-Season</th><th>Physical-BMI</th><th>Physical-Height</th><th>Physical-Weight</th><th>Physical-Waist_Circumference</th><th>Physical-Diastolic_BP</th><th>Physical-HeartRate</th><th>Physical-Systolic_BP</th><th>Fitness_Endurance-Season</th><th>Fitness_Endurance-Max_Stage</th><th>Fitness_Endurance-Time_Mins</th><th>Fitness_Endurance-Time_Sec</th><th>FGC-Season</th><th>FGC-FGC_CU</th><th>FGC-FGC_CU_Zone</th><th>FGC-FGC_GSND</th><th>FGC-FGC_GSND_Zone</th><th>FGC-FGC_GSD</th><th>FGC-FGC_GSD_Zone</th><th>FGC-FGC_PU</th><th>FGC-FGC_PU_Zone</th><th>FGC-FGC_SRL</th><th>FGC-FGC_SRL_Zone</th><th>FGC-FGC_SRR</th><th>FGC-FGC_SRR_Zone</th><th>FGC-FGC_TL</th><th>FGC-FGC_TL_Zone</th><th>BIA-Season</th><th>BIA-BIA_Activity_Level_num</th><th>BIA-BIA_BMC</th><th>BIA-BIA_BMI</th><th>BIA-BIA_BMR</th><th>BIA-BIA_DEE</th><th>BIA-BIA_ECW</th><th>BIA-BIA_FFM</th><th>BIA-BIA_FFMI</th><th>BIA-BIA_FMI</th><th>BIA-BIA_Fat</th><th>BIA-BIA_Frame_num</th><th>BIA-BIA_ICW</th><th>BIA-BIA_LDM</th><th>BIA-BIA_LST</th><th>BIA-BIA_SMM</th><th>BIA-BIA_TBW</th><th>PAQ_A-Season</th><th>PAQ_A-PAQ_A_Total</th><th>PAQ_C-Season</th><th>PAQ_C-PAQ_C_Total</th><th>SDS-Season</th><th>SDS-SDS_Total_Raw</th><th>SDS-SDS_Total_T</th><th>PreInt_EduHx-Season</th><th>PreInt_EduHx-computerinternet_hoursday</th></tr><tr><td>str</td><td>str</td><td>i64</td><td>i64</td><td>str</td><td>i64</td><td>str</td><td>f64</td><td>f64</td><td>f64</td><td>f64</td><td>i64</td><td>i64</td><td>i64</td><td>str</td><td>i64</td><td>i64</td><td>i64</td><td>str</td><td>i64</td><td>i64</td><td>f64</td><td>i64</td><td>f64</td><td>i64</td><td>i64</td><td>i64</td><td>f64</td><td>i64</td><td>f64</td><td>i64</td><td>f64</td><td>i64</td><td>str</td><td>i64</td><td>f64</td><td>f64</td><td>f64</td><td>f64</td><td>f64</td><td>f64</td><td>f64</td><td>f64</td><td>f64</td><td>i64</td><td>f64</td><td>f64</td><td>f64</td><td>f64</td><td>f64</td><td>str</td><td>f64</td><td>str</td><td>f64</td><td>str</td><td>i64</td><td>i64</td><td>str</td><td>i64</td></tr></thead><tbody><tr><td>&quot;00008ff9&quot;</td><td>&quot;Fall&quot;</td><td>5</td><td>0</td><td>&quot;Winter&quot;</td><td>51</td><td>&quot;Fall&quot;</td><td>16.877316</td><td>46.0</td><td>50.8</td><td>null</td><td>null</td><td>null</td><td>null</td><td>null</td><td>null</td><td>null</td><td>null</td><td>&quot;Fall&quot;</td><td>0</td><td>0</td><td>null</td><td>null</td><td>null</td><td>null</td><td>0</td><td>0</td><td>7.0</td><td>0</td><td>6.0</td><td>0</td><td>6.0</td><td>1</td><td>&quot;Fall&quot;</td><td>2</td><td>2.66855</td><td>16.8792</td><td>932.498</td><td>1492.0</td><td>8.25598</td><td>41.5862</td><td>13.8177</td><td>3.06143</td><td>9.21377</td><td>1</td><td>24.4349</td><td>8.89536</td><td>38.9177</td><td>19.5413</td><td>32.6909</td><td>null</td><td>null</td><td>null</td><td>null</td><td>null</td><td>null</td><td>null</td><td>&quot;Fall&quot;</td><td>3</td></tr><tr><td>&quot;000fd460&quot;</td><td>&quot;Summer&quot;</td><td>9</td><td>0</td><td>null</td><td>null</td><td>&quot;Fall&quot;</td><td>14.03559</td><td>48.0</td><td>46.0</td><td>22.0</td><td>75</td><td>70</td><td>122</td><td>null</td><td>null</td><td>null</td><td>null</td><td>&quot;Fall&quot;</td><td>3</td><td>0</td><td>null</td><td>null</td><td>null</td><td>null</td><td>5</td><td>0</td><td>11.0</td><td>1</td><td>11.0</td><td>1</td><td>3.0</td><td>0</td><td>&quot;Winter&quot;</td><td>2</td><td>2.57949</td><td>14.0371</td><td>936.656</td><td>1498.65</td><td>6.01993</td><td>42.0291</td><td>12.8254</td><td>1.21172</td><td>3.97085</td><td>1</td><td>21.0352</td><td>14.974</td><td>39.4497</td><td>15.4107</td><td>27.0552</td><td>null</td><td>null</td><td>&quot;Fall&quot;</td><td>2.34</td><td>&quot;Fall&quot;</td><td>46</td><td>64</td><td>&quot;Summer&quot;</td><td>0</td></tr><tr><td>&quot;00105258&quot;</td><td>&quot;Summer&quot;</td><td>10</td><td>1</td><td>&quot;Fall&quot;</td><td>71</td><td>&quot;Fall&quot;</td><td>16.648696</td><td>56.5</td><td>75.6</td><td>null</td><td>65</td><td>94</td><td>117</td><td>&quot;Fall&quot;</td><td>5</td><td>7</td><td>33</td><td>&quot;Fall&quot;</td><td>20</td><td>1</td><td>10.2</td><td>1</td><td>14.7</td><td>2</td><td>7</td><td>1</td><td>10.0</td><td>1</td><td>10.0</td><td>1</td><td>5.0</td><td>0</td><td>null</td><td>null</td><td>null</td><td>null</td><td>null</td><td>null</td><td>null</td><td>null</td><td>null</td><td>null</td><td>null</td><td>null</td><td>null</td><td>null</td><td>null</td><td>null</td><td>null</td><td>null</td><td>null</td><td>&quot;Summer&quot;</td><td>2.17</td><td>&quot;Fall&quot;</td><td>38</td><td>54</td><td>&quot;Summer&quot;</td><td>2</td></tr><tr><td>&quot;00115b9f&quot;</td><td>&quot;Winter&quot;</td><td>9</td><td>0</td><td>&quot;Fall&quot;</td><td>71</td><td>&quot;Summer&quot;</td><td>18.292347</td><td>56.0</td><td>81.6</td><td>null</td><td>60</td><td>97</td><td>117</td><td>&quot;Summer&quot;</td><td>6</td><td>9</td><td>37</td><td>&quot;Summer&quot;</td><td>18</td><td>1</td><td>null</td><td>null</td><td>null</td><td>null</td><td>5</td><td>0</td><td>7.0</td><td>0</td><td>7.0</td><td>0</td><td>7.0</td><td>1</td><td>&quot;Summer&quot;</td><td>3</td><td>3.84191</td><td>18.2943</td><td>1131.43</td><td>1923.44</td><td>15.5925</td><td>62.7757</td><td>14.074</td><td>4.22033</td><td>18.8243</td><td>2</td><td>30.4041</td><td>16.779</td><td>58.9338</td><td>26.4798</td><td>45.9966</td><td>null</td><td>null</td><td>&quot;Winter&quot;</td><td>2.451</td><td>&quot;Summer&quot;</td><td>31</td><td>45</td><td>&quot;Winter&quot;</td><td>0</td></tr><tr><td>&quot;0016bb22&quot;</td><td>&quot;Spring&quot;</td><td>18</td><td>1</td><td>&quot;Summer&quot;</td><td>null</td><td>null</td><td>null</td><td>null</td><td>null</td><td>null</td><td>null</td><td>null</td><td>null</td><td>null</td><td>null</td><td>null</td><td>null</td><td>null</td><td>null</td><td>null</td><td>null</td><td>null</td><td>null</td><td>null</td><td>null</td><td>null</td><td>null</td><td>null</td><td>null</td><td>null</td><td>null</td><td>null</td><td>null</td><td>null</td><td>null</td><td>null</td><td>null</td><td>null</td><td>null</td><td>null</td><td>null</td><td>null</td><td>null</td><td>null</td><td>null</td><td>null</td><td>null</td><td>null</td><td>null</td><td>&quot;Summer&quot;</td><td>1.04</td><td>null</td><td>null</td><td>null</td><td>null</td><td>null</td><td>null</td><td>null</td></tr><tr><td>&hellip;</td><td>&hellip;</td><td>&hellip;</td><td>&hellip;</td><td>&hellip;</td><td>&hellip;</td><td>&hellip;</td><td>&hellip;</td><td>&hellip;</td><td>&hellip;</td><td>&hellip;</td><td>&hellip;</td><td>&hellip;</td><td>&hellip;</td><td>&hellip;</td><td>&hellip;</td><td>&hellip;</td><td>&hellip;</td><td>&hellip;</td><td>&hellip;</td><td>&hellip;</td><td>&hellip;</td><td>&hellip;</td><td>&hellip;</td><td>&hellip;</td><td>&hellip;</td><td>&hellip;</td><td>&hellip;</td><td>&hellip;</td><td>&hellip;</td><td>&hellip;</td><td>&hellip;</td><td>&hellip;</td><td>&hellip;</td><td>&hellip;</td><td>&hellip;</td><td>&hellip;</td><td>&hellip;</td><td>&hellip;</td><td>&hellip;</td><td>&hellip;</td><td>&hellip;</td><td>&hellip;</td><td>&hellip;</td><td>&hellip;</td><td>&hellip;</td><td>&hellip;</td><td>&hellip;</td><td>&hellip;</td><td>&hellip;</td><td>&hellip;</td><td>&hellip;</td><td>&hellip;</td><td>&hellip;</td><td>&hellip;</td><td>&hellip;</td><td>&hellip;</td><td>&hellip;</td><td>&hellip;</td></tr><tr><td>&quot;00c0cd71&quot;</td><td>&quot;Winter&quot;</td><td>7</td><td>0</td><td>&quot;Summer&quot;</td><td>51</td><td>&quot;Spring&quot;</td><td>29.315775</td><td>54.0</td><td>121.6</td><td>null</td><td>80</td><td>75</td><td>99</td><td>&quot;Spring&quot;</td><td>4</td><td>5</td><td>32</td><td>&quot;Spring&quot;</td><td>6</td><td>1</td><td>null</td><td>null</td><td>null</td><td>null</td><td>0</td><td>0</td><td>12.0</td><td>1</td><td>15.0</td><td>1</td><td>12.0</td><td>1</td><td>null</td><td>null</td><td>null</td><td>null</td><td>null</td><td>null</td><td>null</td><td>null</td><td>null</td><td>null</td><td>null</td><td>null</td><td>null</td><td>null</td><td>null</td><td>null</td><td>null</td><td>null</td><td>null</td><td>null</td><td>null</td><td>&quot;Spring&quot;</td><td>35</td><td>50</td><td>&quot;Winter&quot;</td><td>2</td></tr><tr><td>&quot;00d56d4b&quot;</td><td>&quot;Spring&quot;</td><td>5</td><td>1</td><td>&quot;Summer&quot;</td><td>80</td><td>&quot;Spring&quot;</td><td>17.284504</td><td>44.0</td><td>47.6</td><td>null</td><td>61</td><td>76</td><td>109</td><td>&quot;Spring&quot;</td><td>null</td><td>null</td><td>null</td><td>&quot;Spring&quot;</td><td>0</td><td>0</td><td>null</td><td>null</td><td>null</td><td>null</td><td>0</td><td>0</td><td>10.5</td><td>1</td><td>10.0</td><td>1</td><td>7.0</td><td>1</td><td>null</td><td>null</td><td>null</td><td>null</td><td>null</td><td>null</td><td>null</td><td>null</td><td>null</td><td>null</td><td>null</td><td>null</td><td>null</td><td>null</td><td>null</td><td>null</td><td>null</td><td>null</td><td>null</td><td>null</td><td>null</td><td>&quot;Spring&quot;</td><td>37</td><td>53</td><td>&quot;Spring&quot;</td><td>0</td></tr><tr><td>&quot;00d9913d&quot;</td><td>&quot;Fall&quot;</td><td>10</td><td>1</td><td>null</td><td>null</td><td>&quot;Fall&quot;</td><td>19.893157</td><td>55.0</td><td>85.6</td><td>30.0</td><td>null</td><td>81</td><td>null</td><td>null</td><td>null</td><td>null</td><td>null</td><td>&quot;Fall&quot;</td><td>5</td><td>0</td><td>null</td><td>null</td><td>null</td><td>null</td><td>0</td><td>0</td><td>0.0</td><td>0</td><td>0.0</td><td>0</td><td>9.0</td><td>1</td><td>null</td><td>null</td><td>null</td><td>null</td><td>null</td><td>null</td><td>null</td><td>null</td><td>null</td><td>null</td><td>null</td><td>null</td><td>null</td><td>null</td><td>null</td><td>null</td><td>null</td><td>null</td><td>null</td><td>null</td><td>null</td><td>null</td><td>null</td><td>null</td><td>&quot;Fall&quot;</td><td>1</td></tr><tr><td>&quot;00e6167c&quot;</td><td>&quot;Winter&quot;</td><td>6</td><td>0</td><td>&quot;Spring&quot;</td><td>60</td><td>&quot;Winter&quot;</td><td>30.094649</td><td>37.5</td><td>60.2</td><td>24.0</td><td>61</td><td>91</td><td>95</td><td>null</td><td>null</td><td>null</td><td>null</td><td>&quot;Winter&quot;</td><td>6</td><td>1</td><td>null</td><td>null</td><td>null</td><td>null</td><td>0</td><td>0</td><td>4.0</td><td>0</td><td>4.0</td><td>0</td><td>7.0</td><td>1</td><td>&quot;Winter&quot;</td><td>2</td><td>2.75035</td><td>17.2738</td><td>1003.07</td><td>1504.61</td><td>15.1456</td><td>49.1034</td><td>14.0898</td><td>3.18407</td><td>11.0966</td><td>1</td><td>23.6182</td><td>10.3396</td><td>46.3531</td><td>19.8886</td><td>38.7638</td><td>null</td><td>null</td><td>null</td><td>null</td><td>&quot;Winter&quot;</td><td>39</td><td>55</td><td>&quot;Winter&quot;</td><td>3</td></tr><tr><td>&quot;00ebc35d&quot;</td><td>&quot;Winter&quot;</td><td>10</td><td>0</td><td>null</td><td>null</td><td>null</td><td>null</td><td>null</td><td>null</td><td>null</td><td>null</td><td>null</td><td>null</td><td>null</td><td>null</td><td>null</td><td>null</td><td>&quot;Spring&quot;</td><td>null</td><td>null</td><td>null</td><td>null</td><td>null</td><td>null</td><td>null</td><td>null</td><td>null</td><td>null</td><td>null</td><td>null</td><td>null</td><td>null</td><td>null</td><td>null</td><td>null</td><td>null</td><td>null</td><td>null</td><td>null</td><td>null</td><td>null</td><td>null</td><td>null</td><td>null</td><td>null</td><td>null</td><td>null</td><td>null</td><td>null</td><td>null</td><td>null</td><td>null</td><td>null</td><td>null</td><td>null</td><td>null</td><td>&quot;Winter&quot;</td><td>2</td></tr></tbody></table></div>"
      ],
      "text/plain": [
       "shape: (20, 59)\n",
       "┌──────────┬───────────┬───────────┬───────────┬───┬───────────┬───────────┬───────────┬───────────┐\n",
       "│ id       ┆ Basic_Dem ┆ Basic_Dem ┆ Basic_Dem ┆ … ┆ SDS-SDS_T ┆ SDS-SDS_T ┆ PreInt_Ed ┆ PreInt_Ed │\n",
       "│ ---      ┆ os-Enroll ┆ os-Age    ┆ os-Sex    ┆   ┆ otal_Raw  ┆ otal_T    ┆ uHx-Seaso ┆ uHx-compu │\n",
       "│ str      ┆ _Season   ┆ ---       ┆ ---       ┆   ┆ ---       ┆ ---       ┆ n         ┆ terintern │\n",
       "│          ┆ ---       ┆ i64       ┆ i64       ┆   ┆ i64       ┆ i64       ┆ ---       ┆ et_…      │\n",
       "│          ┆ str       ┆           ┆           ┆   ┆           ┆           ┆ str       ┆ ---       │\n",
       "│          ┆           ┆           ┆           ┆   ┆           ┆           ┆           ┆ i64       │\n",
       "╞══════════╪═══════════╪═══════════╪═══════════╪═══╪═══════════╪═══════════╪═══════════╪═══════════╡\n",
       "│ 00008ff9 ┆ Fall      ┆ 5         ┆ 0         ┆ … ┆ null      ┆ null      ┆ Fall      ┆ 3         │\n",
       "│ 000fd460 ┆ Summer    ┆ 9         ┆ 0         ┆ … ┆ 46        ┆ 64        ┆ Summer    ┆ 0         │\n",
       "│ 00105258 ┆ Summer    ┆ 10        ┆ 1         ┆ … ┆ 38        ┆ 54        ┆ Summer    ┆ 2         │\n",
       "│ 00115b9f ┆ Winter    ┆ 9         ┆ 0         ┆ … ┆ 31        ┆ 45        ┆ Winter    ┆ 0         │\n",
       "│ 0016bb22 ┆ Spring    ┆ 18        ┆ 1         ┆ … ┆ null      ┆ null      ┆ null      ┆ null      │\n",
       "│ …        ┆ …         ┆ …         ┆ …         ┆ … ┆ …         ┆ …         ┆ …         ┆ …         │\n",
       "│ 00c0cd71 ┆ Winter    ┆ 7         ┆ 0         ┆ … ┆ 35        ┆ 50        ┆ Winter    ┆ 2         │\n",
       "│ 00d56d4b ┆ Spring    ┆ 5         ┆ 1         ┆ … ┆ 37        ┆ 53        ┆ Spring    ┆ 0         │\n",
       "│ 00d9913d ┆ Fall      ┆ 10        ┆ 1         ┆ … ┆ null      ┆ null      ┆ Fall      ┆ 1         │\n",
       "│ 00e6167c ┆ Winter    ┆ 6         ┆ 0         ┆ … ┆ 39        ┆ 55        ┆ Winter    ┆ 3         │\n",
       "│ 00ebc35d ┆ Winter    ┆ 10        ┆ 0         ┆ … ┆ null      ┆ null      ┆ Winter    ┆ 2         │\n",
       "└──────────┴───────────┴───────────┴───────────┴───┴───────────┴───────────┴───────────┴───────────┘"
      ]
     },
     "metadata": {},
     "output_type": "display_data"
    }
   ],
   "source": [
    "train = pl.read_csv('/kaggle/input/child-mind-institute-problematic-internet-use/train.csv')\n",
    "test = pl.read_csv('/kaggle/input/child-mind-institute-problematic-internet-use/test.csv')\n",
    "\n",
    "display(train)\n",
    "display(test)"
   ]
  },
  {
   "cell_type": "markdown",
   "id": "a4997484",
   "metadata": {
    "papermill": {
     "duration": 0.01076,
     "end_time": "2025-03-02T12:09:55.264581",
     "exception": false,
     "start_time": "2025-03-02T12:09:55.253821",
     "status": "completed"
    },
    "tags": []
   },
   "source": [
    "As can be seen in file ***data_dictionary.csv***, all the Season-related columns are **string** type. Since we have 4 seasons only, we wanna convert it into **categorical** data (***enum***)."
   ]
  },
  {
   "cell_type": "code",
   "execution_count": 6,
   "id": "cd6bf96a",
   "metadata": {
    "execution": {
     "iopub.execute_input": "2025-03-02T12:09:55.287705Z",
     "iopub.status.busy": "2025-03-02T12:09:55.287155Z",
     "iopub.status.idle": "2025-03-02T12:09:55.302410Z",
     "shell.execute_reply": "2025-03-02T12:09:55.301827Z"
    },
    "papermill": {
     "duration": 0.028323,
     "end_time": "2025-03-02T12:09:55.303919",
     "exception": false,
     "start_time": "2025-03-02T12:09:55.275596",
     "status": "completed"
    },
    "tags": []
   },
   "outputs": [],
   "source": [
    "season_dtype = pl.Enum(['Spring', 'Summer', 'Fall', 'Winter'])"
   ]
  },
  {
   "cell_type": "code",
   "execution_count": 7,
   "id": "5d1175f3",
   "metadata": {
    "execution": {
     "iopub.execute_input": "2025-03-02T12:09:55.327117Z",
     "iopub.status.busy": "2025-03-02T12:09:55.326853Z",
     "iopub.status.idle": "2025-03-02T12:09:55.435012Z",
     "shell.execute_reply": "2025-03-02T12:09:55.434167Z"
    },
    "papermill": {
     "duration": 0.121638,
     "end_time": "2025-03-02T12:09:55.436664",
     "exception": false,
     "start_time": "2025-03-02T12:09:55.315026",
     "status": "completed"
    },
    "tags": []
   },
   "outputs": [
    {
     "data": {
      "text/html": [
       "<div><style>\n",
       ".dataframe > thead > tr,\n",
       ".dataframe > tbody > tr {\n",
       "  text-align: right;\n",
       "  white-space: pre-wrap;\n",
       "}\n",
       "</style>\n",
       "<small>shape: (3_960, 82)</small><table border=\"1\" class=\"dataframe\"><thead><tr><th>id</th><th>Basic_Demos-Enroll_Season</th><th>Basic_Demos-Age</th><th>Basic_Demos-Sex</th><th>CGAS-Season</th><th>CGAS-CGAS_Score</th><th>Physical-Season</th><th>Physical-BMI</th><th>Physical-Height</th><th>Physical-Weight</th><th>Physical-Waist_Circumference</th><th>Physical-Diastolic_BP</th><th>Physical-HeartRate</th><th>Physical-Systolic_BP</th><th>Fitness_Endurance-Season</th><th>Fitness_Endurance-Max_Stage</th><th>Fitness_Endurance-Time_Mins</th><th>Fitness_Endurance-Time_Sec</th><th>FGC-Season</th><th>FGC-FGC_CU</th><th>FGC-FGC_CU_Zone</th><th>FGC-FGC_GSND</th><th>FGC-FGC_GSND_Zone</th><th>FGC-FGC_GSD</th><th>FGC-FGC_GSD_Zone</th><th>FGC-FGC_PU</th><th>FGC-FGC_PU_Zone</th><th>FGC-FGC_SRL</th><th>FGC-FGC_SRL_Zone</th><th>FGC-FGC_SRR</th><th>FGC-FGC_SRR_Zone</th><th>FGC-FGC_TL</th><th>FGC-FGC_TL_Zone</th><th>BIA-Season</th><th>BIA-BIA_Activity_Level_num</th><th>BIA-BIA_BMC</th><th>BIA-BIA_BMI</th><th>&hellip;</th><th>BIA-BIA_ICW</th><th>BIA-BIA_LDM</th><th>BIA-BIA_LST</th><th>BIA-BIA_SMM</th><th>BIA-BIA_TBW</th><th>PAQ_A-Season</th><th>PAQ_A-PAQ_A_Total</th><th>PAQ_C-Season</th><th>PAQ_C-PAQ_C_Total</th><th>PCIAT-Season</th><th>PCIAT-PCIAT_01</th><th>PCIAT-PCIAT_02</th><th>PCIAT-PCIAT_03</th><th>PCIAT-PCIAT_04</th><th>PCIAT-PCIAT_05</th><th>PCIAT-PCIAT_06</th><th>PCIAT-PCIAT_07</th><th>PCIAT-PCIAT_08</th><th>PCIAT-PCIAT_09</th><th>PCIAT-PCIAT_10</th><th>PCIAT-PCIAT_11</th><th>PCIAT-PCIAT_12</th><th>PCIAT-PCIAT_13</th><th>PCIAT-PCIAT_14</th><th>PCIAT-PCIAT_15</th><th>PCIAT-PCIAT_16</th><th>PCIAT-PCIAT_17</th><th>PCIAT-PCIAT_18</th><th>PCIAT-PCIAT_19</th><th>PCIAT-PCIAT_20</th><th>PCIAT-PCIAT_Total</th><th>SDS-Season</th><th>SDS-SDS_Total_Raw</th><th>SDS-SDS_Total_T</th><th>PreInt_EduHx-Season</th><th>PreInt_EduHx-computerinternet_hoursday</th><th>sii</th></tr><tr><td>str</td><td>enum</td><td>i64</td><td>i64</td><td>enum</td><td>i64</td><td>enum</td><td>f64</td><td>f64</td><td>f64</td><td>f64</td><td>i64</td><td>i64</td><td>i64</td><td>enum</td><td>i64</td><td>i64</td><td>i64</td><td>enum</td><td>i64</td><td>i64</td><td>f64</td><td>i64</td><td>f64</td><td>i64</td><td>i64</td><td>i64</td><td>f64</td><td>i64</td><td>f64</td><td>i64</td><td>f64</td><td>i64</td><td>enum</td><td>i64</td><td>f64</td><td>f64</td><td>&hellip;</td><td>f64</td><td>f64</td><td>f64</td><td>f64</td><td>f64</td><td>enum</td><td>f64</td><td>enum</td><td>f64</td><td>enum</td><td>i64</td><td>i64</td><td>i64</td><td>i64</td><td>i64</td><td>i64</td><td>i64</td><td>i64</td><td>i64</td><td>i64</td><td>i64</td><td>i64</td><td>i64</td><td>i64</td><td>i64</td><td>i64</td><td>i64</td><td>i64</td><td>i64</td><td>i64</td><td>i64</td><td>enum</td><td>i64</td><td>i64</td><td>enum</td><td>i64</td><td>i64</td></tr></thead><tbody><tr><td>&quot;00008ff9&quot;</td><td>&quot;Fall&quot;</td><td>5</td><td>0</td><td>&quot;Winter&quot;</td><td>51</td><td>&quot;Fall&quot;</td><td>16.877316</td><td>46.0</td><td>50.8</td><td>null</td><td>null</td><td>null</td><td>null</td><td>null</td><td>null</td><td>null</td><td>null</td><td>&quot;Fall&quot;</td><td>0</td><td>0</td><td>null</td><td>null</td><td>null</td><td>null</td><td>0</td><td>0</td><td>7.0</td><td>0</td><td>6.0</td><td>0</td><td>6.0</td><td>1</td><td>&quot;Fall&quot;</td><td>2</td><td>2.66855</td><td>16.8792</td><td>&hellip;</td><td>24.4349</td><td>8.89536</td><td>38.9177</td><td>19.5413</td><td>32.6909</td><td>null</td><td>null</td><td>null</td><td>null</td><td>&quot;Fall&quot;</td><td>5</td><td>4</td><td>4</td><td>0</td><td>4</td><td>0</td><td>0</td><td>4</td><td>0</td><td>0</td><td>4</td><td>0</td><td>4</td><td>4</td><td>4</td><td>4</td><td>4</td><td>4</td><td>2</td><td>4</td><td>55</td><td>null</td><td>null</td><td>null</td><td>&quot;Fall&quot;</td><td>3</td><td>2</td></tr><tr><td>&quot;000fd460&quot;</td><td>&quot;Summer&quot;</td><td>9</td><td>0</td><td>null</td><td>null</td><td>&quot;Fall&quot;</td><td>14.03559</td><td>48.0</td><td>46.0</td><td>22.0</td><td>75</td><td>70</td><td>122</td><td>null</td><td>null</td><td>null</td><td>null</td><td>&quot;Fall&quot;</td><td>3</td><td>0</td><td>null</td><td>null</td><td>null</td><td>null</td><td>5</td><td>0</td><td>11.0</td><td>1</td><td>11.0</td><td>1</td><td>3.0</td><td>0</td><td>&quot;Winter&quot;</td><td>2</td><td>2.57949</td><td>14.0371</td><td>&hellip;</td><td>21.0352</td><td>14.974</td><td>39.4497</td><td>15.4107</td><td>27.0552</td><td>null</td><td>null</td><td>&quot;Fall&quot;</td><td>2.34</td><td>&quot;Fall&quot;</td><td>0</td><td>0</td><td>0</td><td>0</td><td>0</td><td>0</td><td>0</td><td>0</td><td>0</td><td>0</td><td>0</td><td>0</td><td>0</td><td>0</td><td>0</td><td>0</td><td>0</td><td>0</td><td>0</td><td>0</td><td>0</td><td>&quot;Fall&quot;</td><td>46</td><td>64</td><td>&quot;Summer&quot;</td><td>0</td><td>0</td></tr><tr><td>&quot;00105258&quot;</td><td>&quot;Summer&quot;</td><td>10</td><td>1</td><td>&quot;Fall&quot;</td><td>71</td><td>&quot;Fall&quot;</td><td>16.648696</td><td>56.5</td><td>75.6</td><td>null</td><td>65</td><td>94</td><td>117</td><td>&quot;Fall&quot;</td><td>5</td><td>7</td><td>33</td><td>&quot;Fall&quot;</td><td>20</td><td>1</td><td>10.2</td><td>1</td><td>14.7</td><td>2</td><td>7</td><td>1</td><td>10.0</td><td>1</td><td>10.0</td><td>1</td><td>5.0</td><td>0</td><td>null</td><td>null</td><td>null</td><td>null</td><td>&hellip;</td><td>null</td><td>null</td><td>null</td><td>null</td><td>null</td><td>null</td><td>null</td><td>&quot;Summer&quot;</td><td>2.17</td><td>&quot;Fall&quot;</td><td>5</td><td>2</td><td>2</td><td>1</td><td>2</td><td>1</td><td>1</td><td>2</td><td>1</td><td>1</td><td>1</td><td>0</td><td>1</td><td>1</td><td>1</td><td>0</td><td>2</td><td>2</td><td>1</td><td>1</td><td>28</td><td>&quot;Fall&quot;</td><td>38</td><td>54</td><td>&quot;Summer&quot;</td><td>2</td><td>0</td></tr><tr><td>&quot;00115b9f&quot;</td><td>&quot;Winter&quot;</td><td>9</td><td>0</td><td>&quot;Fall&quot;</td><td>71</td><td>&quot;Summer&quot;</td><td>18.292347</td><td>56.0</td><td>81.6</td><td>null</td><td>60</td><td>97</td><td>117</td><td>&quot;Summer&quot;</td><td>6</td><td>9</td><td>37</td><td>&quot;Summer&quot;</td><td>18</td><td>1</td><td>null</td><td>null</td><td>null</td><td>null</td><td>5</td><td>0</td><td>7.0</td><td>0</td><td>7.0</td><td>0</td><td>7.0</td><td>1</td><td>&quot;Summer&quot;</td><td>3</td><td>3.84191</td><td>18.2943</td><td>&hellip;</td><td>30.4041</td><td>16.779</td><td>58.9338</td><td>26.4798</td><td>45.9966</td><td>null</td><td>null</td><td>&quot;Winter&quot;</td><td>2.451</td><td>&quot;Summer&quot;</td><td>4</td><td>2</td><td>4</td><td>0</td><td>5</td><td>1</td><td>0</td><td>3</td><td>2</td><td>2</td><td>3</td><td>0</td><td>3</td><td>0</td><td>0</td><td>3</td><td>4</td><td>3</td><td>4</td><td>1</td><td>44</td><td>&quot;Summer&quot;</td><td>31</td><td>45</td><td>&quot;Winter&quot;</td><td>0</td><td>1</td></tr><tr><td>&quot;0016bb22&quot;</td><td>&quot;Spring&quot;</td><td>18</td><td>1</td><td>&quot;Summer&quot;</td><td>null</td><td>null</td><td>null</td><td>null</td><td>null</td><td>null</td><td>null</td><td>null</td><td>null</td><td>null</td><td>null</td><td>null</td><td>null</td><td>null</td><td>null</td><td>null</td><td>null</td><td>null</td><td>null</td><td>null</td><td>null</td><td>null</td><td>null</td><td>null</td><td>null</td><td>null</td><td>null</td><td>null</td><td>null</td><td>null</td><td>null</td><td>null</td><td>&hellip;</td><td>null</td><td>null</td><td>null</td><td>null</td><td>null</td><td>&quot;Summer&quot;</td><td>1.04</td><td>null</td><td>null</td><td>null</td><td>null</td><td>null</td><td>null</td><td>null</td><td>null</td><td>null</td><td>null</td><td>null</td><td>null</td><td>null</td><td>null</td><td>null</td><td>null</td><td>null</td><td>null</td><td>null</td><td>null</td><td>null</td><td>null</td><td>null</td><td>null</td><td>null</td><td>null</td><td>null</td><td>null</td><td>null</td><td>null</td></tr><tr><td>&hellip;</td><td>&hellip;</td><td>&hellip;</td><td>&hellip;</td><td>&hellip;</td><td>&hellip;</td><td>&hellip;</td><td>&hellip;</td><td>&hellip;</td><td>&hellip;</td><td>&hellip;</td><td>&hellip;</td><td>&hellip;</td><td>&hellip;</td><td>&hellip;</td><td>&hellip;</td><td>&hellip;</td><td>&hellip;</td><td>&hellip;</td><td>&hellip;</td><td>&hellip;</td><td>&hellip;</td><td>&hellip;</td><td>&hellip;</td><td>&hellip;</td><td>&hellip;</td><td>&hellip;</td><td>&hellip;</td><td>&hellip;</td><td>&hellip;</td><td>&hellip;</td><td>&hellip;</td><td>&hellip;</td><td>&hellip;</td><td>&hellip;</td><td>&hellip;</td><td>&hellip;</td><td>&hellip;</td><td>&hellip;</td><td>&hellip;</td><td>&hellip;</td><td>&hellip;</td><td>&hellip;</td><td>&hellip;</td><td>&hellip;</td><td>&hellip;</td><td>&hellip;</td><td>&hellip;</td><td>&hellip;</td><td>&hellip;</td><td>&hellip;</td><td>&hellip;</td><td>&hellip;</td><td>&hellip;</td><td>&hellip;</td><td>&hellip;</td><td>&hellip;</td><td>&hellip;</td><td>&hellip;</td><td>&hellip;</td><td>&hellip;</td><td>&hellip;</td><td>&hellip;</td><td>&hellip;</td><td>&hellip;</td><td>&hellip;</td><td>&hellip;</td><td>&hellip;</td><td>&hellip;</td><td>&hellip;</td><td>&hellip;</td><td>&hellip;</td><td>&hellip;</td><td>&hellip;</td><td>&hellip;</td></tr><tr><td>&quot;ff8a2de4&quot;</td><td>&quot;Fall&quot;</td><td>13</td><td>0</td><td>&quot;Spring&quot;</td><td>60</td><td>&quot;Fall&quot;</td><td>16.36246</td><td>59.5</td><td>82.4</td><td>null</td><td>71</td><td>70</td><td>104</td><td>null</td><td>null</td><td>null</td><td>null</td><td>&quot;Fall&quot;</td><td>16</td><td>0</td><td>18.0</td><td>1</td><td>19.9</td><td>2</td><td>10</td><td>1</td><td>8.0</td><td>1</td><td>9.0</td><td>1</td><td>12.0</td><td>1</td><td>&quot;Fall&quot;</td><td>3</td><td>4.52277</td><td>16.3642</td><td>&hellip;</td><td>33.3709</td><td>17.9797</td><td>66.2889</td><td>29.779</td><td>52.832</td><td>null</td><td>null</td><td>&quot;Winter&quot;</td><td>3.26</td><td>&quot;Winter&quot;</td><td>3</td><td>3</td><td>3</td><td>2</td><td>3</td><td>2</td><td>2</td><td>2</td><td>2</td><td>1</td><td>2</td><td>0</td><td>2</td><td>0</td><td>1</td><td>0</td><td>2</td><td>1</td><td>1</td><td>0</td><td>32</td><td>&quot;Winter&quot;</td><td>35</td><td>50</td><td>&quot;Fall&quot;</td><td>1</td><td>1</td></tr><tr><td>&quot;ffa9794a&quot;</td><td>&quot;Winter&quot;</td><td>10</td><td>0</td><td>null</td><td>null</td><td>&quot;Spring&quot;</td><td>18.764678</td><td>53.5</td><td>76.4</td><td>27.0</td><td>60</td><td>78</td><td>118</td><td>null</td><td>null</td><td>null</td><td>null</td><td>&quot;Spring&quot;</td><td>0</td><td>0</td><td>null</td><td>null</td><td>null</td><td>null</td><td>4</td><td>0</td><td>0.0</td><td>0</td><td>0.0</td><td>0</td><td>12.0</td><td>1</td><td>&quot;Spring&quot;</td><td>null</td><td>null</td><td>null</td><td>&hellip;</td><td>null</td><td>null</td><td>null</td><td>null</td><td>null</td><td>null</td><td>null</td><td>&quot;Winter&quot;</td><td>2.34</td><td>null</td><td>null</td><td>null</td><td>null</td><td>null</td><td>null</td><td>null</td><td>null</td><td>null</td><td>null</td><td>null</td><td>null</td><td>null</td><td>null</td><td>null</td><td>null</td><td>null</td><td>null</td><td>null</td><td>null</td><td>null</td><td>null</td><td>null</td><td>null</td><td>null</td><td>&quot;Winter&quot;</td><td>0</td><td>null</td></tr><tr><td>&quot;ffcd4dbd&quot;</td><td>&quot;Fall&quot;</td><td>11</td><td>0</td><td>&quot;Spring&quot;</td><td>68</td><td>&quot;Winter&quot;</td><td>21.4415</td><td>60.0</td><td>109.8</td><td>null</td><td>79</td><td>99</td><td>116</td><td>null</td><td>null</td><td>null</td><td>null</td><td>&quot;Winter&quot;</td><td>15</td><td>1</td><td>18.5</td><td>2</td><td>15.8</td><td>2</td><td>0</td><td>0</td><td>10.0</td><td>1</td><td>10.0</td><td>1</td><td>14.0</td><td>1</td><td>&quot;Winter&quot;</td><td>2</td><td>4.41305</td><td>21.4438</td><td>&hellip;</td><td>33.9805</td><td>21.3403</td><td>71.3903</td><td>28.7792</td><td>54.463</td><td>null</td><td>null</td><td>&quot;Winter&quot;</td><td>2.729</td><td>&quot;Winter&quot;</td><td>5</td><td>5</td><td>3</td><td>0</td><td>5</td><td>1</td><td>0</td><td>2</td><td>0</td><td>2</td><td>1</td><td>0</td><td>1</td><td>3</td><td>0</td><td>0</td><td>1</td><td>1</td><td>0</td><td>1</td><td>31</td><td>&quot;Winter&quot;</td><td>56</td><td>77</td><td>&quot;Fall&quot;</td><td>0</td><td>1</td></tr><tr><td>&quot;ffed1dd5&quot;</td><td>&quot;Spring&quot;</td><td>13</td><td>0</td><td>&quot;Spring&quot;</td><td>70</td><td>&quot;Winter&quot;</td><td>12.235895</td><td>70.7</td><td>87.0</td><td>null</td><td>59</td><td>61</td><td>113</td><td>null</td><td>null</td><td>null</td><td>null</td><td>&quot;Spring&quot;</td><td>null</td><td>null</td><td>null</td><td>null</td><td>null</td><td>null</td><td>null</td><td>null</td><td>null</td><td>null</td><td>null</td><td>null</td><td>null</td><td>null</td><td>&quot;Summer&quot;</td><td>4</td><td>6.66168</td><td>12.2372</td><td>&hellip;</td><td>41.3715</td><td>25.0054</td><td>86.2475</td><td>45.434</td><td>67.9038</td><td>null</td><td>null</td><td>&quot;Spring&quot;</td><td>3.3</td><td>&quot;Spring&quot;</td><td>2</td><td>1</td><td>1</td><td>1</td><td>0</td><td>0</td><td>0</td><td>1</td><td>1</td><td>1</td><td>2</td><td>0</td><td>1</td><td>1</td><td>2</td><td>1</td><td>1</td><td>1</td><td>1</td><td>1</td><td>19</td><td>&quot;Spring&quot;</td><td>33</td><td>47</td><td>&quot;Spring&quot;</td><td>1</td><td>0</td></tr><tr><td>&quot;ffef538e&quot;</td><td>&quot;Spring&quot;</td><td>11</td><td>0</td><td>null</td><td>null</td><td>&quot;Winter&quot;</td><td>null</td><td>null</td><td>null</td><td>null</td><td>null</td><td>null</td><td>null</td><td>null</td><td>null</td><td>null</td><td>null</td><td>&quot;Winter&quot;</td><td>null</td><td>null</td><td>null</td><td>null</td><td>null</td><td>null</td><td>null</td><td>null</td><td>null</td><td>null</td><td>null</td><td>null</td><td>null</td><td>null</td><td>null</td><td>null</td><td>null</td><td>null</td><td>&hellip;</td><td>null</td><td>null</td><td>null</td><td>null</td><td>null</td><td>null</td><td>null</td><td>null</td><td>null</td><td>null</td><td>null</td><td>null</td><td>null</td><td>null</td><td>null</td><td>null</td><td>null</td><td>null</td><td>null</td><td>null</td><td>null</td><td>null</td><td>null</td><td>null</td><td>null</td><td>null</td><td>null</td><td>null</td><td>null</td><td>null</td><td>null</td><td>null</td><td>null</td><td>null</td><td>&quot;Spring&quot;</td><td>1</td><td>null</td></tr></tbody></table></div>"
      ],
      "text/plain": [
       "shape: (3_960, 82)\n",
       "┌──────────┬────────────┬────────────┬────────────┬───┬────────────┬────────────┬───────────┬──────┐\n",
       "│ id       ┆ Basic_Demo ┆ Basic_Demo ┆ Basic_Demo ┆ … ┆ SDS-SDS_To ┆ PreInt_Edu ┆ PreInt_Ed ┆ sii  │\n",
       "│ ---      ┆ s-Enroll_S ┆ s-Age      ┆ s-Sex      ┆   ┆ tal_T      ┆ Hx-Season  ┆ uHx-compu ┆ ---  │\n",
       "│ str      ┆ eason      ┆ ---        ┆ ---        ┆   ┆ ---        ┆ ---        ┆ terintern ┆ i64  │\n",
       "│          ┆ ---        ┆ i64        ┆ i64        ┆   ┆ i64        ┆ enum       ┆ et_…      ┆      │\n",
       "│          ┆ enum       ┆            ┆            ┆   ┆            ┆            ┆ ---       ┆      │\n",
       "│          ┆            ┆            ┆            ┆   ┆            ┆            ┆ i64       ┆      │\n",
       "╞══════════╪════════════╪════════════╪════════════╪═══╪════════════╪════════════╪═══════════╪══════╡\n",
       "│ 00008ff9 ┆ Fall       ┆ 5          ┆ 0          ┆ … ┆ null       ┆ Fall       ┆ 3         ┆ 2    │\n",
       "│ 000fd460 ┆ Summer     ┆ 9          ┆ 0          ┆ … ┆ 64         ┆ Summer     ┆ 0         ┆ 0    │\n",
       "│ 00105258 ┆ Summer     ┆ 10         ┆ 1          ┆ … ┆ 54         ┆ Summer     ┆ 2         ┆ 0    │\n",
       "│ 00115b9f ┆ Winter     ┆ 9          ┆ 0          ┆ … ┆ 45         ┆ Winter     ┆ 0         ┆ 1    │\n",
       "│ 0016bb22 ┆ Spring     ┆ 18         ┆ 1          ┆ … ┆ null       ┆ null       ┆ null      ┆ null │\n",
       "│ …        ┆ …          ┆ …          ┆ …          ┆ … ┆ …          ┆ …          ┆ …         ┆ …    │\n",
       "│ ff8a2de4 ┆ Fall       ┆ 13         ┆ 0          ┆ … ┆ 50         ┆ Fall       ┆ 1         ┆ 1    │\n",
       "│ ffa9794a ┆ Winter     ┆ 10         ┆ 0          ┆ … ┆ null       ┆ Winter     ┆ 0         ┆ null │\n",
       "│ ffcd4dbd ┆ Fall       ┆ 11         ┆ 0          ┆ … ┆ 77         ┆ Fall       ┆ 0         ┆ 1    │\n",
       "│ ffed1dd5 ┆ Spring     ┆ 13         ┆ 0          ┆ … ┆ 47         ┆ Spring     ┆ 1         ┆ 0    │\n",
       "│ ffef538e ┆ Spring     ┆ 11         ┆ 0          ┆ … ┆ null       ┆ Spring     ┆ 1         ┆ null │\n",
       "└──────────┴────────────┴────────────┴────────────┴───┴────────────┴────────────┴───────────┴──────┘"
      ]
     },
     "metadata": {},
     "output_type": "display_data"
    },
    {
     "data": {
      "text/html": [
       "<div><style>\n",
       ".dataframe > thead > tr,\n",
       ".dataframe > tbody > tr {\n",
       "  text-align: right;\n",
       "  white-space: pre-wrap;\n",
       "}\n",
       "</style>\n",
       "<small>shape: (20, 59)</small><table border=\"1\" class=\"dataframe\"><thead><tr><th>id</th><th>Basic_Demos-Enroll_Season</th><th>Basic_Demos-Age</th><th>Basic_Demos-Sex</th><th>CGAS-Season</th><th>CGAS-CGAS_Score</th><th>Physical-Season</th><th>Physical-BMI</th><th>Physical-Height</th><th>Physical-Weight</th><th>Physical-Waist_Circumference</th><th>Physical-Diastolic_BP</th><th>Physical-HeartRate</th><th>Physical-Systolic_BP</th><th>Fitness_Endurance-Season</th><th>Fitness_Endurance-Max_Stage</th><th>Fitness_Endurance-Time_Mins</th><th>Fitness_Endurance-Time_Sec</th><th>FGC-Season</th><th>FGC-FGC_CU</th><th>FGC-FGC_CU_Zone</th><th>FGC-FGC_GSND</th><th>FGC-FGC_GSND_Zone</th><th>FGC-FGC_GSD</th><th>FGC-FGC_GSD_Zone</th><th>FGC-FGC_PU</th><th>FGC-FGC_PU_Zone</th><th>FGC-FGC_SRL</th><th>FGC-FGC_SRL_Zone</th><th>FGC-FGC_SRR</th><th>FGC-FGC_SRR_Zone</th><th>FGC-FGC_TL</th><th>FGC-FGC_TL_Zone</th><th>BIA-Season</th><th>BIA-BIA_Activity_Level_num</th><th>BIA-BIA_BMC</th><th>BIA-BIA_BMI</th><th>BIA-BIA_BMR</th><th>BIA-BIA_DEE</th><th>BIA-BIA_ECW</th><th>BIA-BIA_FFM</th><th>BIA-BIA_FFMI</th><th>BIA-BIA_FMI</th><th>BIA-BIA_Fat</th><th>BIA-BIA_Frame_num</th><th>BIA-BIA_ICW</th><th>BIA-BIA_LDM</th><th>BIA-BIA_LST</th><th>BIA-BIA_SMM</th><th>BIA-BIA_TBW</th><th>PAQ_A-Season</th><th>PAQ_A-PAQ_A_Total</th><th>PAQ_C-Season</th><th>PAQ_C-PAQ_C_Total</th><th>SDS-Season</th><th>SDS-SDS_Total_Raw</th><th>SDS-SDS_Total_T</th><th>PreInt_EduHx-Season</th><th>PreInt_EduHx-computerinternet_hoursday</th></tr><tr><td>str</td><td>enum</td><td>i64</td><td>i64</td><td>enum</td><td>i64</td><td>enum</td><td>f64</td><td>f64</td><td>f64</td><td>f64</td><td>i64</td><td>i64</td><td>i64</td><td>enum</td><td>i64</td><td>i64</td><td>i64</td><td>enum</td><td>i64</td><td>i64</td><td>f64</td><td>i64</td><td>f64</td><td>i64</td><td>i64</td><td>i64</td><td>f64</td><td>i64</td><td>f64</td><td>i64</td><td>f64</td><td>i64</td><td>enum</td><td>i64</td><td>f64</td><td>f64</td><td>f64</td><td>f64</td><td>f64</td><td>f64</td><td>f64</td><td>f64</td><td>f64</td><td>i64</td><td>f64</td><td>f64</td><td>f64</td><td>f64</td><td>f64</td><td>enum</td><td>f64</td><td>enum</td><td>f64</td><td>enum</td><td>i64</td><td>i64</td><td>enum</td><td>i64</td></tr></thead><tbody><tr><td>&quot;00008ff9&quot;</td><td>&quot;Fall&quot;</td><td>5</td><td>0</td><td>&quot;Winter&quot;</td><td>51</td><td>&quot;Fall&quot;</td><td>16.877316</td><td>46.0</td><td>50.8</td><td>null</td><td>null</td><td>null</td><td>null</td><td>null</td><td>null</td><td>null</td><td>null</td><td>&quot;Fall&quot;</td><td>0</td><td>0</td><td>null</td><td>null</td><td>null</td><td>null</td><td>0</td><td>0</td><td>7.0</td><td>0</td><td>6.0</td><td>0</td><td>6.0</td><td>1</td><td>&quot;Fall&quot;</td><td>2</td><td>2.66855</td><td>16.8792</td><td>932.498</td><td>1492.0</td><td>8.25598</td><td>41.5862</td><td>13.8177</td><td>3.06143</td><td>9.21377</td><td>1</td><td>24.4349</td><td>8.89536</td><td>38.9177</td><td>19.5413</td><td>32.6909</td><td>null</td><td>null</td><td>null</td><td>null</td><td>null</td><td>null</td><td>null</td><td>&quot;Fall&quot;</td><td>3</td></tr><tr><td>&quot;000fd460&quot;</td><td>&quot;Summer&quot;</td><td>9</td><td>0</td><td>null</td><td>null</td><td>&quot;Fall&quot;</td><td>14.03559</td><td>48.0</td><td>46.0</td><td>22.0</td><td>75</td><td>70</td><td>122</td><td>null</td><td>null</td><td>null</td><td>null</td><td>&quot;Fall&quot;</td><td>3</td><td>0</td><td>null</td><td>null</td><td>null</td><td>null</td><td>5</td><td>0</td><td>11.0</td><td>1</td><td>11.0</td><td>1</td><td>3.0</td><td>0</td><td>&quot;Winter&quot;</td><td>2</td><td>2.57949</td><td>14.0371</td><td>936.656</td><td>1498.65</td><td>6.01993</td><td>42.0291</td><td>12.8254</td><td>1.21172</td><td>3.97085</td><td>1</td><td>21.0352</td><td>14.974</td><td>39.4497</td><td>15.4107</td><td>27.0552</td><td>null</td><td>null</td><td>&quot;Fall&quot;</td><td>2.34</td><td>&quot;Fall&quot;</td><td>46</td><td>64</td><td>&quot;Summer&quot;</td><td>0</td></tr><tr><td>&quot;00105258&quot;</td><td>&quot;Summer&quot;</td><td>10</td><td>1</td><td>&quot;Fall&quot;</td><td>71</td><td>&quot;Fall&quot;</td><td>16.648696</td><td>56.5</td><td>75.6</td><td>null</td><td>65</td><td>94</td><td>117</td><td>&quot;Fall&quot;</td><td>5</td><td>7</td><td>33</td><td>&quot;Fall&quot;</td><td>20</td><td>1</td><td>10.2</td><td>1</td><td>14.7</td><td>2</td><td>7</td><td>1</td><td>10.0</td><td>1</td><td>10.0</td><td>1</td><td>5.0</td><td>0</td><td>null</td><td>null</td><td>null</td><td>null</td><td>null</td><td>null</td><td>null</td><td>null</td><td>null</td><td>null</td><td>null</td><td>null</td><td>null</td><td>null</td><td>null</td><td>null</td><td>null</td><td>null</td><td>null</td><td>&quot;Summer&quot;</td><td>2.17</td><td>&quot;Fall&quot;</td><td>38</td><td>54</td><td>&quot;Summer&quot;</td><td>2</td></tr><tr><td>&quot;00115b9f&quot;</td><td>&quot;Winter&quot;</td><td>9</td><td>0</td><td>&quot;Fall&quot;</td><td>71</td><td>&quot;Summer&quot;</td><td>18.292347</td><td>56.0</td><td>81.6</td><td>null</td><td>60</td><td>97</td><td>117</td><td>&quot;Summer&quot;</td><td>6</td><td>9</td><td>37</td><td>&quot;Summer&quot;</td><td>18</td><td>1</td><td>null</td><td>null</td><td>null</td><td>null</td><td>5</td><td>0</td><td>7.0</td><td>0</td><td>7.0</td><td>0</td><td>7.0</td><td>1</td><td>&quot;Summer&quot;</td><td>3</td><td>3.84191</td><td>18.2943</td><td>1131.43</td><td>1923.44</td><td>15.5925</td><td>62.7757</td><td>14.074</td><td>4.22033</td><td>18.8243</td><td>2</td><td>30.4041</td><td>16.779</td><td>58.9338</td><td>26.4798</td><td>45.9966</td><td>null</td><td>null</td><td>&quot;Winter&quot;</td><td>2.451</td><td>&quot;Summer&quot;</td><td>31</td><td>45</td><td>&quot;Winter&quot;</td><td>0</td></tr><tr><td>&quot;0016bb22&quot;</td><td>&quot;Spring&quot;</td><td>18</td><td>1</td><td>&quot;Summer&quot;</td><td>null</td><td>null</td><td>null</td><td>null</td><td>null</td><td>null</td><td>null</td><td>null</td><td>null</td><td>null</td><td>null</td><td>null</td><td>null</td><td>null</td><td>null</td><td>null</td><td>null</td><td>null</td><td>null</td><td>null</td><td>null</td><td>null</td><td>null</td><td>null</td><td>null</td><td>null</td><td>null</td><td>null</td><td>null</td><td>null</td><td>null</td><td>null</td><td>null</td><td>null</td><td>null</td><td>null</td><td>null</td><td>null</td><td>null</td><td>null</td><td>null</td><td>null</td><td>null</td><td>null</td><td>null</td><td>&quot;Summer&quot;</td><td>1.04</td><td>null</td><td>null</td><td>null</td><td>null</td><td>null</td><td>null</td><td>null</td></tr><tr><td>&hellip;</td><td>&hellip;</td><td>&hellip;</td><td>&hellip;</td><td>&hellip;</td><td>&hellip;</td><td>&hellip;</td><td>&hellip;</td><td>&hellip;</td><td>&hellip;</td><td>&hellip;</td><td>&hellip;</td><td>&hellip;</td><td>&hellip;</td><td>&hellip;</td><td>&hellip;</td><td>&hellip;</td><td>&hellip;</td><td>&hellip;</td><td>&hellip;</td><td>&hellip;</td><td>&hellip;</td><td>&hellip;</td><td>&hellip;</td><td>&hellip;</td><td>&hellip;</td><td>&hellip;</td><td>&hellip;</td><td>&hellip;</td><td>&hellip;</td><td>&hellip;</td><td>&hellip;</td><td>&hellip;</td><td>&hellip;</td><td>&hellip;</td><td>&hellip;</td><td>&hellip;</td><td>&hellip;</td><td>&hellip;</td><td>&hellip;</td><td>&hellip;</td><td>&hellip;</td><td>&hellip;</td><td>&hellip;</td><td>&hellip;</td><td>&hellip;</td><td>&hellip;</td><td>&hellip;</td><td>&hellip;</td><td>&hellip;</td><td>&hellip;</td><td>&hellip;</td><td>&hellip;</td><td>&hellip;</td><td>&hellip;</td><td>&hellip;</td><td>&hellip;</td><td>&hellip;</td><td>&hellip;</td></tr><tr><td>&quot;00c0cd71&quot;</td><td>&quot;Winter&quot;</td><td>7</td><td>0</td><td>&quot;Summer&quot;</td><td>51</td><td>&quot;Spring&quot;</td><td>29.315775</td><td>54.0</td><td>121.6</td><td>null</td><td>80</td><td>75</td><td>99</td><td>&quot;Spring&quot;</td><td>4</td><td>5</td><td>32</td><td>&quot;Spring&quot;</td><td>6</td><td>1</td><td>null</td><td>null</td><td>null</td><td>null</td><td>0</td><td>0</td><td>12.0</td><td>1</td><td>15.0</td><td>1</td><td>12.0</td><td>1</td><td>null</td><td>null</td><td>null</td><td>null</td><td>null</td><td>null</td><td>null</td><td>null</td><td>null</td><td>null</td><td>null</td><td>null</td><td>null</td><td>null</td><td>null</td><td>null</td><td>null</td><td>null</td><td>null</td><td>null</td><td>null</td><td>&quot;Spring&quot;</td><td>35</td><td>50</td><td>&quot;Winter&quot;</td><td>2</td></tr><tr><td>&quot;00d56d4b&quot;</td><td>&quot;Spring&quot;</td><td>5</td><td>1</td><td>&quot;Summer&quot;</td><td>80</td><td>&quot;Spring&quot;</td><td>17.284504</td><td>44.0</td><td>47.6</td><td>null</td><td>61</td><td>76</td><td>109</td><td>&quot;Spring&quot;</td><td>null</td><td>null</td><td>null</td><td>&quot;Spring&quot;</td><td>0</td><td>0</td><td>null</td><td>null</td><td>null</td><td>null</td><td>0</td><td>0</td><td>10.5</td><td>1</td><td>10.0</td><td>1</td><td>7.0</td><td>1</td><td>null</td><td>null</td><td>null</td><td>null</td><td>null</td><td>null</td><td>null</td><td>null</td><td>null</td><td>null</td><td>null</td><td>null</td><td>null</td><td>null</td><td>null</td><td>null</td><td>null</td><td>null</td><td>null</td><td>null</td><td>null</td><td>&quot;Spring&quot;</td><td>37</td><td>53</td><td>&quot;Spring&quot;</td><td>0</td></tr><tr><td>&quot;00d9913d&quot;</td><td>&quot;Fall&quot;</td><td>10</td><td>1</td><td>null</td><td>null</td><td>&quot;Fall&quot;</td><td>19.893157</td><td>55.0</td><td>85.6</td><td>30.0</td><td>null</td><td>81</td><td>null</td><td>null</td><td>null</td><td>null</td><td>null</td><td>&quot;Fall&quot;</td><td>5</td><td>0</td><td>null</td><td>null</td><td>null</td><td>null</td><td>0</td><td>0</td><td>0.0</td><td>0</td><td>0.0</td><td>0</td><td>9.0</td><td>1</td><td>null</td><td>null</td><td>null</td><td>null</td><td>null</td><td>null</td><td>null</td><td>null</td><td>null</td><td>null</td><td>null</td><td>null</td><td>null</td><td>null</td><td>null</td><td>null</td><td>null</td><td>null</td><td>null</td><td>null</td><td>null</td><td>null</td><td>null</td><td>null</td><td>&quot;Fall&quot;</td><td>1</td></tr><tr><td>&quot;00e6167c&quot;</td><td>&quot;Winter&quot;</td><td>6</td><td>0</td><td>&quot;Spring&quot;</td><td>60</td><td>&quot;Winter&quot;</td><td>30.094649</td><td>37.5</td><td>60.2</td><td>24.0</td><td>61</td><td>91</td><td>95</td><td>null</td><td>null</td><td>null</td><td>null</td><td>&quot;Winter&quot;</td><td>6</td><td>1</td><td>null</td><td>null</td><td>null</td><td>null</td><td>0</td><td>0</td><td>4.0</td><td>0</td><td>4.0</td><td>0</td><td>7.0</td><td>1</td><td>&quot;Winter&quot;</td><td>2</td><td>2.75035</td><td>17.2738</td><td>1003.07</td><td>1504.61</td><td>15.1456</td><td>49.1034</td><td>14.0898</td><td>3.18407</td><td>11.0966</td><td>1</td><td>23.6182</td><td>10.3396</td><td>46.3531</td><td>19.8886</td><td>38.7638</td><td>null</td><td>null</td><td>null</td><td>null</td><td>&quot;Winter&quot;</td><td>39</td><td>55</td><td>&quot;Winter&quot;</td><td>3</td></tr><tr><td>&quot;00ebc35d&quot;</td><td>&quot;Winter&quot;</td><td>10</td><td>0</td><td>null</td><td>null</td><td>null</td><td>null</td><td>null</td><td>null</td><td>null</td><td>null</td><td>null</td><td>null</td><td>null</td><td>null</td><td>null</td><td>null</td><td>&quot;Spring&quot;</td><td>null</td><td>null</td><td>null</td><td>null</td><td>null</td><td>null</td><td>null</td><td>null</td><td>null</td><td>null</td><td>null</td><td>null</td><td>null</td><td>null</td><td>null</td><td>null</td><td>null</td><td>null</td><td>null</td><td>null</td><td>null</td><td>null</td><td>null</td><td>null</td><td>null</td><td>null</td><td>null</td><td>null</td><td>null</td><td>null</td><td>null</td><td>null</td><td>null</td><td>null</td><td>null</td><td>null</td><td>null</td><td>null</td><td>&quot;Winter&quot;</td><td>2</td></tr></tbody></table></div>"
      ],
      "text/plain": [
       "shape: (20, 59)\n",
       "┌──────────┬───────────┬───────────┬───────────┬───┬───────────┬───────────┬───────────┬───────────┐\n",
       "│ id       ┆ Basic_Dem ┆ Basic_Dem ┆ Basic_Dem ┆ … ┆ SDS-SDS_T ┆ SDS-SDS_T ┆ PreInt_Ed ┆ PreInt_Ed │\n",
       "│ ---      ┆ os-Enroll ┆ os-Age    ┆ os-Sex    ┆   ┆ otal_Raw  ┆ otal_T    ┆ uHx-Seaso ┆ uHx-compu │\n",
       "│ str      ┆ _Season   ┆ ---       ┆ ---       ┆   ┆ ---       ┆ ---       ┆ n         ┆ terintern │\n",
       "│          ┆ ---       ┆ i64       ┆ i64       ┆   ┆ i64       ┆ i64       ┆ ---       ┆ et_…      │\n",
       "│          ┆ enum      ┆           ┆           ┆   ┆           ┆           ┆ enum      ┆ ---       │\n",
       "│          ┆           ┆           ┆           ┆   ┆           ┆           ┆           ┆ i64       │\n",
       "╞══════════╪═══════════╪═══════════╪═══════════╪═══╪═══════════╪═══════════╪═══════════╪═══════════╡\n",
       "│ 00008ff9 ┆ Fall      ┆ 5         ┆ 0         ┆ … ┆ null      ┆ null      ┆ Fall      ┆ 3         │\n",
       "│ 000fd460 ┆ Summer    ┆ 9         ┆ 0         ┆ … ┆ 46        ┆ 64        ┆ Summer    ┆ 0         │\n",
       "│ 00105258 ┆ Summer    ┆ 10        ┆ 1         ┆ … ┆ 38        ┆ 54        ┆ Summer    ┆ 2         │\n",
       "│ 00115b9f ┆ Winter    ┆ 9         ┆ 0         ┆ … ┆ 31        ┆ 45        ┆ Winter    ┆ 0         │\n",
       "│ 0016bb22 ┆ Spring    ┆ 18        ┆ 1         ┆ … ┆ null      ┆ null      ┆ null      ┆ null      │\n",
       "│ …        ┆ …         ┆ …         ┆ …         ┆ … ┆ …         ┆ …         ┆ …         ┆ …         │\n",
       "│ 00c0cd71 ┆ Winter    ┆ 7         ┆ 0         ┆ … ┆ 35        ┆ 50        ┆ Winter    ┆ 2         │\n",
       "│ 00d56d4b ┆ Spring    ┆ 5         ┆ 1         ┆ … ┆ 37        ┆ 53        ┆ Spring    ┆ 0         │\n",
       "│ 00d9913d ┆ Fall      ┆ 10        ┆ 1         ┆ … ┆ null      ┆ null      ┆ Fall      ┆ 1         │\n",
       "│ 00e6167c ┆ Winter    ┆ 6         ┆ 0         ┆ … ┆ 39        ┆ 55        ┆ Winter    ┆ 3         │\n",
       "│ 00ebc35d ┆ Winter    ┆ 10        ┆ 0         ┆ … ┆ null      ┆ null      ┆ Winter    ┆ 2         │\n",
       "└──────────┴───────────┴───────────┴───────────┴───┴───────────┴───────────┴───────────┴───────────┘"
      ]
     },
     "metadata": {},
     "output_type": "display_data"
    }
   ],
   "source": [
    "train = train.with_columns(pl.col('^.*Season$').cast(season_dtype))\n",
    "test = test.with_columns(pl.col('^.*Season$').cast(season_dtype))\n",
    "\n",
    "display(train)\n",
    "display(test)"
   ]
  },
  {
   "cell_type": "markdown",
   "id": "82dae646",
   "metadata": {
    "papermill": {
     "duration": 0.011366,
     "end_time": "2025-03-02T12:09:55.459520",
     "exception": false,
     "start_time": "2025-03-02T12:09:55.448154",
     "status": "completed"
    },
    "tags": []
   },
   "source": [
    "We see that at most columns (especially the target label columns ***ssi***), there are many missing values. , Since this is a supervised-learning problem, we have to:\n",
    "\n",
    "* Accept removing data samples where label ***ssi*** is not available(*null*).\n",
    "* From our new dataset(validlabel_dataset) containing only rows where sii is available, we **count** the missing values of each other feature and plot them."
   ]
  },
  {
   "cell_type": "code",
   "execution_count": 8,
   "id": "41f5508f",
   "metadata": {
    "execution": {
     "iopub.execute_input": "2025-03-02T12:09:55.483514Z",
     "iopub.status.busy": "2025-03-02T12:09:55.483284Z",
     "iopub.status.idle": "2025-03-02T12:09:56.540141Z",
     "shell.execute_reply": "2025-03-02T12:09:56.539314Z"
    },
    "papermill": {
     "duration": 1.072706,
     "end_time": "2025-03-02T12:09:56.543809",
     "exception": false,
     "start_time": "2025-03-02T12:09:55.471103",
     "status": "completed"
    },
    "tags": []
   },
   "outputs": [
    {
     "data": {
      "image/png": "[encoded data removed]",
      "text/plain": [
       "<Figure size 600x1500 with 1 Axes>"
      ]
     },
     "metadata": {},
     "output_type": "display_data"
    }
   ],
   "source": [
    "validlabel_dataset = (\n",
    "    train\n",
    "    .filter(pl.col('sii').is_not_null())\n",
    ")\n",
    "\n",
    "missing_count = (\n",
    "    validlabel_dataset\n",
    "    .null_count()\n",
    "    .transpose(include_header=True,\n",
    "               header_name='feature',\n",
    "               column_names=['null_count'])\n",
    "    .sort('null_count', descending=True)\n",
    "    .with_columns((pl.col('null_count') / len(validlabel_dataset)).alias('null_ratio'))\n",
    ")\n",
    "\n",
    "# Visualize missing data\n",
    "plt.figure(figsize=(6, 15))\n",
    "plt.title(f'Missing values over the {len(validlabel_dataset)} samples which have a target')\n",
    "plt.barh(np.arange(len(missing_count)), missing_count.get_column('null_ratio'), color='red', label='missing')\n",
    "plt.barh(np.arange(len(missing_count)), \n",
    "         1 - missing_count.get_column('null_ratio'),\n",
    "         left=missing_count.get_column('null_ratio'),\n",
    "         color='blue', label='available')\n",
    "plt.yticks(np.arange(len(missing_count)), missing_count.get_column('feature'))\n",
    "plt.gca().xaxis.set_major_formatter(PercentFormatter(xmax=1, decimals=0))\n",
    "plt.xlim(0, 1)\n",
    "plt.legend()\n",
    "plt.show()"
   ]
  },
  {
   "cell_type": "markdown",
   "id": "f0d71d6f",
   "metadata": {
    "papermill": {
     "duration": 0.014146,
     "end_time": "2025-03-02T12:09:56.572373",
     "exception": false,
     "start_time": "2025-03-02T12:09:56.558227",
     "status": "completed"
    },
    "tags": []
   },
   "source": [
    "As can be seen from the labels, half of the samples are in class 0, while very few in class 3.\n",
    "\n",
    "=> We can infer the dataset seems imbalanced."
   ]
  },
  {
   "cell_type": "code",
   "execution_count": 9,
   "id": "b1032fb3",
   "metadata": {
    "execution": {
     "iopub.execute_input": "2025-03-02T12:09:56.602127Z",
     "iopub.status.busy": "2025-03-02T12:09:56.601530Z",
     "iopub.status.idle": "2025-03-02T12:09:56.866844Z",
     "shell.execute_reply": "2025-03-02T12:09:56.866061Z"
    },
    "papermill": {
     "duration": 0.282158,
     "end_time": "2025-03-02T12:09:56.868615",
     "exception": false,
     "start_time": "2025-03-02T12:09:56.586457",
     "status": "completed"
    },
    "tags": []
   },
   "outputs": [
    {
     "data": {
      "text/plain": [
       "<Axes: xlabel='sii'>"
      ]
     },
     "execution_count": 9,
     "metadata": {},
     "output_type": "execute_result"
    },
    {
     "data": {
      "image/png": "[encoded data removed]",
      "text/plain": [
       "<Figure size 640x480 with 1 Axes>"
      ]
     },
     "metadata": {},
     "output_type": "display_data"
    }
   ],
   "source": [
    "# Convert to Pandas for plotting\n",
    "value_counts_pd = validlabel_dataset.to_pandas()\n",
    "\n",
    "# Plot the bar chart\n",
    "value_counts_pd['sii'].value_counts(normalize=True).plot(kind='bar')"
   ]
  },
  {
   "cell_type": "markdown",
   "id": "4c58ad26",
   "metadata": {
    "papermill": {
     "duration": 0.014525,
     "end_time": "2025-03-02T12:09:56.897919",
     "exception": false,
     "start_time": "2025-03-02T12:09:56.883394",
     "status": "completed"
    },
    "tags": []
   },
   "source": [
    "There are also missing values in test dataset"
   ]
  },
  {
   "cell_type": "code",
   "execution_count": 10,
   "id": "8a52206b",
   "metadata": {
    "execution": {
     "iopub.execute_input": "2025-03-02T12:09:56.928412Z",
     "iopub.status.busy": "2025-03-02T12:09:56.928137Z",
     "iopub.status.idle": "2025-03-02T12:09:56.933171Z",
     "shell.execute_reply": "2025-03-02T12:09:56.932262Z"
    },
    "papermill": {
     "duration": 0.022219,
     "end_time": "2025-03-02T12:09:56.934754",
     "exception": false,
     "start_time": "2025-03-02T12:09:56.912535",
     "status": "completed"
    },
    "tags": []
   },
   "outputs": [
    {
     "name": "stdout",
     "output_type": "stream",
     "text": [
      "Columns missing in test:\n",
      "['PCIAT-Season', 'PCIAT-PCIAT_01', 'PCIAT-PCIAT_02', 'PCIAT-PCIAT_03', 'PCIAT-PCIAT_04', 'PCIAT-PCIAT_05', 'PCIAT-PCIAT_06', 'PCIAT-PCIAT_07', 'PCIAT-PCIAT_08', 'PCIAT-PCIAT_09', 'PCIAT-PCIAT_10', 'PCIAT-PCIAT_11', 'PCIAT-PCIAT_12', 'PCIAT-PCIAT_13', 'PCIAT-PCIAT_14', 'PCIAT-PCIAT_15', 'PCIAT-PCIAT_16', 'PCIAT-PCIAT_17', 'PCIAT-PCIAT_18', 'PCIAT-PCIAT_19', 'PCIAT-PCIAT_20', 'PCIAT-PCIAT_Total', 'sii']\n"
     ]
    }
   ],
   "source": [
    "print('Columns missing in test:')\n",
    "print([f for f in train.columns if f not in test.columns])"
   ]
  },
  {
   "cell_type": "markdown",
   "id": "15a5b3e0",
   "metadata": {
    "papermill": {
     "duration": 0.01472,
     "end_time": "2025-03-02T12:09:56.963830",
     "exception": false,
     "start_time": "2025-03-02T12:09:56.949110",
     "status": "completed"
    },
    "tags": []
   },
   "source": [
    "#### Univariate Analysis"
   ]
  },
  {
   "cell_type": "markdown",
   "id": "3794e476",
   "metadata": {
    "papermill": {
     "duration": 0.014373,
     "end_time": "2025-03-02T12:09:56.992779",
     "exception": false,
     "start_time": "2025-03-02T12:09:56.978406",
     "status": "completed"
    },
    "tags": []
   },
   "source": [
    "Here, we plot and visualize some features. Remember that we have 2 main features dtype, which are categorical type(categorical int and enum) and numeric type (int and float)."
   ]
  },
  {
   "cell_type": "markdown",
   "id": "4954e0df",
   "metadata": {
    "papermill": {
     "duration": 0.014524,
     "end_time": "2025-03-02T12:09:57.021970",
     "exception": false,
     "start_time": "2025-03-02T12:09:57.007446",
     "status": "completed"
    },
    "tags": []
   },
   "source": [
    "**1. Categorical Features:**"
   ]
  },
  {
   "cell_type": "markdown",
   "id": "e59f95fe",
   "metadata": {
    "papermill": {
     "duration": 0.014464,
     "end_time": "2025-03-02T12:09:57.050833",
     "exception": false,
     "start_time": "2025-03-02T12:09:57.036369",
     "status": "completed"
    },
    "tags": []
   },
   "source": [
    "- Raw Train Dataset:"
   ]
  },
  {
   "cell_type": "code",
   "execution_count": 11,
   "id": "c617ced3",
   "metadata": {
    "execution": {
     "iopub.execute_input": "2025-03-02T12:09:57.081885Z",
     "iopub.status.busy": "2025-03-02T12:09:57.081317Z",
     "iopub.status.idle": "2025-03-02T12:09:57.197180Z",
     "shell.execute_reply": "2025-03-02T12:09:57.195963Z"
    },
    "papermill": {
     "duration": 0.134479,
     "end_time": "2025-03-02T12:09:57.200212",
     "exception": false,
     "start_time": "2025-03-02T12:09:57.065733",
     "status": "completed"
    },
    "tags": []
   },
   "outputs": [
    {
     "data": {
      "image/png": "[encoded data removed]",
      "text/plain": [
       "<Figure size 640x480 with 1 Axes>"
      ]
     },
     "metadata": {},
     "output_type": "display_data"
    }
   ],
   "source": [
    "vc = train.get_column('Basic_Demos-Enroll_Season').value_counts()\n",
    "plt.pie(vc.get_column('count'), labels=vc.get_column('Basic_Demos-Enroll_Season'))\n",
    "plt.title('Season of enrollment')\n",
    "plt.show()"
   ]
  },
  {
   "cell_type": "markdown",
   "id": "31386c4c",
   "metadata": {
    "papermill": {
     "duration": 0.042713,
     "end_time": "2025-03-02T12:09:57.286873",
     "exception": false,
     "start_time": "2025-03-02T12:09:57.244160",
     "status": "completed"
    },
    "tags": []
   },
   "source": [
    "- validlabel_dataset:"
   ]
  },
  {
   "cell_type": "code",
   "execution_count": 12,
   "id": "65169e28",
   "metadata": {
    "execution": {
     "iopub.execute_input": "2025-03-02T12:09:57.318232Z",
     "iopub.status.busy": "2025-03-02T12:09:57.317663Z",
     "iopub.status.idle": "2025-03-02T12:09:57.418081Z",
     "shell.execute_reply": "2025-03-02T12:09:57.416958Z"
    },
    "papermill": {
     "duration": 0.119225,
     "end_time": "2025-03-02T12:09:57.421564",
     "exception": false,
     "start_time": "2025-03-02T12:09:57.302339",
     "status": "completed"
    },
    "tags": []
   },
   "outputs": [
    {
     "data": {
      "image/png": "[encoded data removed]",
      "text/plain": [
       "<Figure size 640x480 with 1 Axes>"
      ]
     },
     "metadata": {},
     "output_type": "display_data"
    }
   ],
   "source": [
    "vc = validlabel_dataset.get_column('Basic_Demos-Enroll_Season').value_counts()\n",
    "plt.pie(vc.get_column('count'), labels=vc.get_column('Basic_Demos-Enroll_Season'))\n",
    "plt.title('Season of enrollment')\n",
    "plt.show()"
   ]
  },
  {
   "cell_type": "markdown",
   "id": "55c639b1",
   "metadata": {
    "papermill": {
     "duration": 0.040658,
     "end_time": "2025-03-02T12:09:57.508018",
     "exception": false,
     "start_time": "2025-03-02T12:09:57.467360",
     "status": "completed"
    },
    "tags": []
   },
   "source": [
    "- Raw Train Dataset:"
   ]
  },
  {
   "cell_type": "code",
   "execution_count": 13,
   "id": "f78c66f3",
   "metadata": {
    "execution": {
     "iopub.execute_input": "2025-03-02T12:09:57.539384Z",
     "iopub.status.busy": "2025-03-02T12:09:57.539151Z",
     "iopub.status.idle": "2025-03-02T12:09:57.634053Z",
     "shell.execute_reply": "2025-03-02T12:09:57.632856Z"
    },
    "papermill": {
     "duration": 0.114171,
     "end_time": "2025-03-02T12:09:57.637350",
     "exception": false,
     "start_time": "2025-03-02T12:09:57.523179",
     "status": "completed"
    },
    "tags": []
   },
   "outputs": [
    {
     "data": {
      "image/png": "[encoded data removed]",
      "text/plain": [
       "<Figure size 640x480 with 1 Axes>"
      ]
     },
     "metadata": {},
     "output_type": "display_data"
    }
   ],
   "source": [
    "vc = train.get_column('Basic_Demos-Sex').value_counts()\n",
    "plt.pie(vc.get_column('count'), labels=['boys', 'girls'])\n",
    "plt.title('Sex of participant')\n",
    "plt.show()"
   ]
  },
  {
   "cell_type": "markdown",
   "id": "96748967",
   "metadata": {
    "papermill": {
     "duration": 0.044005,
     "end_time": "2025-03-02T12:09:57.728151",
     "exception": false,
     "start_time": "2025-03-02T12:09:57.684146",
     "status": "completed"
    },
    "tags": []
   },
   "source": [
    "- validlabel_dataset:"
   ]
  },
  {
   "cell_type": "code",
   "execution_count": 14,
   "id": "b4008856",
   "metadata": {
    "execution": {
     "iopub.execute_input": "2025-03-02T12:09:57.761159Z",
     "iopub.status.busy": "2025-03-02T12:09:57.760835Z",
     "iopub.status.idle": "2025-03-02T12:09:57.864615Z",
     "shell.execute_reply": "2025-03-02T12:09:57.863372Z"
    },
    "papermill": {
     "duration": 0.123457,
     "end_time": "2025-03-02T12:09:57.868099",
     "exception": false,
     "start_time": "2025-03-02T12:09:57.744642",
     "status": "completed"
    },
    "tags": []
   },
   "outputs": [
    {
     "data": {
      "image/png": "[encoded data removed]",
      "text/plain": [
       "<Figure size 640x480 with 1 Axes>"
      ]
     },
     "metadata": {},
     "output_type": "display_data"
    }
   ],
   "source": [
    "vc = validlabel_dataset.get_column('Basic_Demos-Sex').value_counts()\n",
    "plt.pie(vc.get_column('count'), labels=['boys', 'girls'])\n",
    "plt.title('Sex of participant')\n",
    "plt.show()"
   ]
  },
  {
   "cell_type": "markdown",
   "id": "3ba0fd71",
   "metadata": {
    "papermill": {
     "duration": 0.03857,
     "end_time": "2025-03-02T12:09:57.961604",
     "exception": false,
     "start_time": "2025-03-02T12:09:57.923034",
     "status": "completed"
    },
    "tags": []
   },
   "source": [
    "**2.  Numeric Features:**"
   ]
  },
  {
   "cell_type": "markdown",
   "id": "15f19eba",
   "metadata": {
    "papermill": {
     "duration": 0.01556,
     "end_time": "2025-03-02T12:09:57.993555",
     "exception": false,
     "start_time": "2025-03-02T12:09:57.977995",
     "status": "completed"
    },
    "tags": []
   },
   "source": [
    "- Raw Train Dataset:"
   ]
  },
  {
   "cell_type": "code",
   "execution_count": 15,
   "id": "e91592ac",
   "metadata": {
    "execution": {
     "iopub.execute_input": "2025-03-02T12:09:58.026066Z",
     "iopub.status.busy": "2025-03-02T12:09:58.025750Z",
     "iopub.status.idle": "2025-03-02T12:09:58.693592Z",
     "shell.execute_reply": "2025-03-02T12:09:58.692613Z"
    },
    "papermill": {
     "duration": 0.686192,
     "end_time": "2025-03-02T12:09:58.695327",
     "exception": false,
     "start_time": "2025-03-02T12:09:58.009135",
     "status": "completed"
    },
    "tags": []
   },
   "outputs": [
    {
     "data": {
      "image/png": "[encoded data removed]",
      "text/plain": [
       "<Figure size 640x480 with 2 Axes>"
      ]
     },
     "metadata": {},
     "output_type": "display_data"
    }
   ],
   "source": [
    "_, axs = plt.subplots(2, 1, sharex=True)\n",
    "for sex in range(2):\n",
    "    ax = axs.ravel()[sex]\n",
    "    vc = train.filter(pl.col('Basic_Demos-Sex') == sex).get_column('Basic_Demos-Age').value_counts()\n",
    "    ax.bar(vc.get_column('Basic_Demos-Age'),\n",
    "           vc.get_column('count'),\n",
    "           color=['lime', 'coral'][sex],\n",
    "           label=['boys', 'girls'][sex])\n",
    "    ax.xaxis.set_major_locator(MaxNLocator(integer=True))\n",
    "    ax.set_ylabel('count')\n",
    "    ax.legend()\n",
    "plt.suptitle('Age distribution')\n",
    "axs.ravel()[1].set_xlabel('years')\n",
    "plt.show()\n"
   ]
  },
  {
   "cell_type": "markdown",
   "id": "10924092",
   "metadata": {
    "papermill": {
     "duration": 0.016857,
     "end_time": "2025-03-02T12:09:58.729866",
     "exception": false,
     "start_time": "2025-03-02T12:09:58.713009",
     "status": "completed"
    },
    "tags": []
   },
   "source": [
    "- validlabel_dataset:"
   ]
  },
  {
   "cell_type": "code",
   "execution_count": 16,
   "id": "091f8421",
   "metadata": {
    "execution": {
     "iopub.execute_input": "2025-03-02T12:09:58.766325Z",
     "iopub.status.busy": "2025-03-02T12:09:58.765760Z",
     "iopub.status.idle": "2025-03-02T12:09:59.082323Z",
     "shell.execute_reply": "2025-03-02T12:09:59.081437Z"
    },
    "papermill": {
     "duration": 0.335947,
     "end_time": "2025-03-02T12:09:59.084044",
     "exception": false,
     "start_time": "2025-03-02T12:09:58.748097",
     "status": "completed"
    },
    "tags": []
   },
   "outputs": [
    {
     "data": {
      "image/png": "[encoded data removed]",
      "text/plain": [
       "<Figure size 640x480 with 2 Axes>"
      ]
     },
     "metadata": {},
     "output_type": "display_data"
    }
   ],
   "source": [
    "_, axs = plt.subplots(2, 1, sharex=True)\n",
    "for sex in range(2):\n",
    "    ax = axs.ravel()[sex]\n",
    "    vc = validlabel_dataset.filter(pl.col('Basic_Demos-Sex') == sex).get_column('Basic_Demos-Age').value_counts()\n",
    "    ax.bar(vc.get_column('Basic_Demos-Age'),\n",
    "           vc.get_column('count'),\n",
    "           color=['lime', 'coral'][sex],\n",
    "           label=['boys', 'girls'][sex])\n",
    "    ax.xaxis.set_major_locator(MaxNLocator(integer=True))\n",
    "    ax.set_ylabel('count')\n",
    "    ax.legend()\n",
    "plt.suptitle('Age distribution')\n",
    "axs.ravel()[1].set_xlabel('years')\n",
    "plt.show()\n"
   ]
  },
  {
   "cell_type": "markdown",
   "id": "d51051d3",
   "metadata": {
    "papermill": {
     "duration": 0.016857,
     "end_time": "2025-03-02T12:09:59.117843",
     "exception": false,
     "start_time": "2025-03-02T12:09:59.100986",
     "status": "completed"
    },
    "tags": []
   },
   "source": [
    "#### Bivariate Analysis:"
   ]
  },
  {
   "cell_type": "markdown",
   "id": "68fc8823",
   "metadata": {
    "papermill": {
     "duration": 0.01671,
     "end_time": "2025-03-02T12:09:59.151284",
     "exception": false,
     "start_time": "2025-03-02T12:09:59.134574",
     "status": "completed"
    },
    "tags": []
   },
   "source": [
    "- Correlation Matrix:"
   ]
  },
  {
   "cell_type": "markdown",
   "id": "ff1b023d",
   "metadata": {
    "papermill": {
     "duration": 0.016627,
     "end_time": "2025-03-02T12:09:59.184970",
     "exception": false,
     "start_time": "2025-03-02T12:09:59.168343",
     "status": "completed"
    },
    "tags": []
   },
   "source": [
    "* Starting from fundamental belief that each Feature contributes to deciding the final ouput result(label 'sii'). Hence, they might have some Relationship with the label, we call this 'Correlation'. Moreover, this 'Correlation' might exist among features.\n",
    "* Here, we estimate the Correlation Matrix which calculates the relation among features, and keep the correlation between each single feature and target feature (PCIAT-PCIAT_Total), because this feature decides the ssi values. "
   ]
  },
  {
   "cell_type": "code",
   "execution_count": 17,
   "id": "27789996",
   "metadata": {
    "execution": {
     "iopub.execute_input": "2025-03-02T12:09:59.220672Z",
     "iopub.status.busy": "2025-03-02T12:09:59.220149Z",
     "iopub.status.idle": "2025-03-02T12:09:59.552345Z",
     "shell.execute_reply": "2025-03-02T12:09:59.551495Z"
    },
    "papermill": {
     "duration": 0.352444,
     "end_time": "2025-03-02T12:09:59.554287",
     "exception": false,
     "start_time": "2025-03-02T12:09:59.201843",
     "status": "completed"
    },
    "tags": []
   },
   "outputs": [
    {
     "data": {
      "text/plain": [
       "<Figure size 1400x1200 with 0 Axes>"
      ]
     },
     "metadata": {},
     "output_type": "display_data"
    },
    {
     "data": {
      "image/png": "[encoded data removed]",
      "text/plain": [
       "<Figure size 800x600 with 1 Axes>"
      ]
     },
     "metadata": {},
     "output_type": "display_data"
    }
   ],
   "source": [
    "plt.figure(figsize=(14, 12))\n",
    "# Correlation Matrix\n",
    "corr_matrix = validlabel_dataset.select([\n",
    "    'PCIAT-PCIAT_Total', 'Basic_Demos-Age', 'Basic_Demos-Sex', 'Physical-BMI', \n",
    "    'Physical-Height', 'Physical-Weight', 'Physical-Waist_Circumference',\n",
    "    'Physical-Diastolic_BP', 'Physical-Systolic_BP', 'Physical-HeartRate',\n",
    "    'PreInt_EduHx-computerinternet_hoursday', 'SDS-SDS_Total_T', 'PAQ_A-PAQ_A_Total',\n",
    "    'PAQ_C-PAQ_C_Total', 'Fitness_Endurance-Max_Stage', 'Fitness_Endurance-Time_Mins','Fitness_Endurance-Time_Sec',\n",
    "    'FGC-FGC_CU', 'FGC-FGC_GSND','FGC-FGC_GSD','FGC-FGC_PU','FGC-FGC_SRL','FGC-FGC_SRR','FGC-FGC_TL','BIA-BIA_Activity_Level_num', \n",
    "    'BIA-BIA_BMC', 'BIA-BIA_BMI', 'BIA-BIA_BMR', 'BIA-BIA_DEE', 'BIA-BIA_ECW', 'BIA-BIA_FFM',\n",
    "    'BIA-BIA_FFMI','BIA-BIA_FMI', 'BIA-BIA_Fat','BIA-BIA_Frame_num','BIA-BIA_ICW','BIA-BIA_LDM','BIA-BIA_LST',\n",
    "    'BIA-BIA_SMM','BIA-BIA_TBW'\n",
    "    # Add other relevant columns\n",
    "]).to_pandas().corr()\n",
    "\n",
    "sii_corr = corr_matrix['PCIAT-PCIAT_Total'].drop('PCIAT-PCIAT_Total') # Drop correlation between PCIAT-PCIAT_Total and PCIAT-PCIAT_Total\n",
    "filtered_corr = sii_corr[(sii_corr > 0.1) | (sii_corr < -0.1)]\n",
    "\n",
    "#Plot the correlation matrix\n",
    "plt.figure(figsize=(8, 6))\n",
    "filtered_corr.sort_values().plot(kind='barh', color='lightcoral')\n",
    "plt.title('Correlation > 0.1 or < -0.1 with PCIAT-PCIAT_Total')\n",
    "plt.xlabel('Correlation coefficient')\n",
    "plt.ylabel('Features')\n",
    "plt.show()"
   ]
  },
  {
   "cell_type": "markdown",
   "id": "a61bd0dd",
   "metadata": {
    "papermill": {
     "duration": 0.0173,
     "end_time": "2025-03-02T12:09:59.589816",
     "exception": false,
     "start_time": "2025-03-02T12:09:59.572516",
     "status": "completed"
    },
    "tags": []
   },
   "source": [
    "### Continuous Data Analysis ( Time Series):"
   ]
  },
  {
   "cell_type": "markdown",
   "id": "e98e11c0",
   "metadata": {
    "papermill": {
     "duration": 0.017283,
     "end_time": "2025-03-02T12:09:59.624876",
     "exception": false,
     "start_time": "2025-03-02T12:09:59.607593",
     "status": "completed"
    },
    "tags": []
   },
   "source": [
    "We analyze and visualize actigraphy data for a specific individual identified by their id. Actigraphy data, typically collected from wearable devices, measures movement (via acceleration) and other related metrics (e.g., light exposure). The aim is to inspect and understand behavioral patterns over time by examining specific features, with options to focus on a single week or simplify the analysis."
   ]
  },
  {
   "cell_type": "markdown",
   "id": "c060f957",
   "metadata": {
    "papermill": {
     "duration": 0.017124,
     "end_time": "2025-03-02T12:09:59.659429",
     "exception": false,
     "start_time": "2025-03-02T12:09:59.642305",
     "status": "completed"
    },
    "tags": []
   },
   "source": [
    "1. Understand Behavioral Patterns:\n",
    "* By plotting metrics like acceleration (X, Y, Z), light exposure, and derived measures (norm, enmo), we gain insights into daily activity trends.\n",
    "* The function filters and highlights relevant data, such as periods when the wearable device was actively used.\n",
    "\n",
    "2. Inspect Subsets of Data:\n",
    "\n",
    "Allows filtering the data to focus on a smaller subset, such as one week's worth of activity.\n",
    "Can visualize specific features to simplify or tailor analysis for specific use cases.\n",
    "\n",
    "3. Support Data Cleaning:\n",
    "\n",
    "By visualizing metrics like non-wear_flag, analysts can ensure that unwanted or invalid data points are excluded from further analysis."
   ]
  },
  {
   "cell_type": "code",
   "execution_count": 18,
   "id": "83f16cb2",
   "metadata": {
    "execution": {
     "iopub.execute_input": "2025-03-02T12:09:59.695987Z",
     "iopub.status.busy": "2025-03-02T12:09:59.695434Z",
     "iopub.status.idle": "2025-03-02T12:10:01.787667Z",
     "shell.execute_reply": "2025-03-02T12:10:01.786783Z"
    },
    "papermill": {
     "duration": 2.112412,
     "end_time": "2025-03-02T12:10:01.789604",
     "exception": false,
     "start_time": "2025-03-02T12:09:59.677192",
     "status": "completed"
    },
    "tags": []
   },
   "outputs": [
    {
     "data": {
      "image/png": "[encoded data removed]",
      "text/plain": [
       "<Figure size 1200x820 with 7 Axes>"
      ]
     },
     "metadata": {},
     "output_type": "display_data"
    }
   ],
   "source": [
    "def analyze_actigraphy(actigraphy='/kaggle/input/child-mind-institute-problematic-internet-use/series_train.parquet/id={id}/part-0.parquet', id=0, only_one_week=False, small=False):\n",
    "\n",
    "    day = actigraphy.get_column('relative_date_PCIAT') + actigraphy.get_column('time_of_day') / 86400e9\n",
    "    sample = train.filter(pl.col('id') == id)\n",
    "    age = sample.get_column('Basic_Demos-Age').item()\n",
    "    sex = ['boy', 'girl'][sample.get_column('Basic_Demos-Sex').item()]\n",
    "    actigraphy = (\n",
    "        actigraphy\n",
    "        .with_columns(\n",
    "            (day.diff() * 86400).alias('diff_seconds'),\n",
    "            (np.sqrt(np.square(pl.col('X')) + np.square(pl.col('Y')) + np.square(pl.col('Z'))).alias('norm'))\n",
    "        )\n",
    "    )\n",
    "\n",
    "    if only_one_week:\n",
    "        start = np.ceil(day.min())\n",
    "        mask = (start <= day.to_numpy()) & (day.to_numpy() <= start + 7*3)\n",
    "        mask &= ~ actigraphy.get_column('non-wear_flag').cast(bool).to_numpy()\n",
    "    else:\n",
    "        mask = np.full(len(day), True)\n",
    "        \n",
    "    if small:\n",
    "        timelines = [\n",
    "            ('enmo', 'forestgreen'),\n",
    "            ('light', 'orange'),\n",
    "        ]\n",
    "    else:\n",
    "        timelines = [\n",
    "            ('X', 'c'),\n",
    "            ('Y', 'c'),\n",
    "            ('Z', 'c'),\n",
    "#             ('norm', 'c'),\n",
    "            ('enmo', 'lightgreen'),\n",
    "            ('anglez', 'lightblue'),\n",
    "            ('light', 'orange'),\n",
    "            ('non-wear_flag', 'brown')\n",
    "    #         ('diff_seconds', 'k'),\n",
    "        ]\n",
    "\n",
    "    # Plotting\n",
    "    _, axs = plt.subplots(len(timelines), 1, sharex=True, figsize=(12, len(timelines) * 1.1 + 0.5))\n",
    "    for ax, (feature, color) in zip(axs, timelines):\n",
    "        ax.set_facecolor('#eeeeee')\n",
    "        ax.scatter(day.to_numpy()[mask],\n",
    "                   actigraphy.get_column(feature).to_numpy()[mask],\n",
    "                   color=color, label=feature, s=1)\n",
    "        ax.legend(loc='upper left', facecolor='#eeeeee')\n",
    "        if feature == 'diff_seconds':\n",
    "            ax.set_ylim(-0.5, 20.5)\n",
    "    axs[-1].set_xlabel('day')\n",
    "    axs[-1].xaxis.set_major_locator(MaxNLocator(integer=True))\n",
    "    plt.tight_layout()\n",
    "    axs[0].set_title(f'id={id}, {sex}, age={age}')\n",
    "    plt.show()\n",
    "    \n",
    "\n",
    "# Import And Read Time Series Dataset\n",
    "actigraphy = pl.read_parquet('/kaggle/input/child-mind-institute-problematic-internet-use/series_train.parquet/id=0417c91e/part-0.parquet')\n",
    "# display(actigraphy)\n",
    "analyze_actigraphy(actigraphy,'064e8da5', only_one_week=False)"
   ]
  },
  {
   "cell_type": "markdown",
   "id": "e5b02b7e",
   "metadata": {
    "papermill": {
     "duration": 0.019269,
     "end_time": "2025-03-02T12:10:01.828716",
     "exception": false,
     "start_time": "2025-03-02T12:10:01.809447",
     "status": "completed"
    },
    "tags": []
   },
   "source": [
    "## Feature Engineering"
   ]
  },
  {
   "cell_type": "markdown",
   "id": "f5024d51",
   "metadata": {
    "papermill": {
     "duration": 0.018873,
     "end_time": "2025-03-02T12:10:01.866651",
     "exception": false,
     "start_time": "2025-03-02T12:10:01.847778",
     "status": "completed"
    },
    "tags": []
   },
   "source": [
    "* Processes all files in a directory using multithreading (ThreadPoolExecutor and tqdm for progress tracking).\n",
    "* Returns a DataFrame with summary statistics for each file.\n"
   ]
  },
  {
   "cell_type": "code",
   "execution_count": 19,
   "id": "9a48ff32",
   "metadata": {
    "execution": {
     "iopub.execute_input": "2025-03-02T12:10:01.906976Z",
     "iopub.status.busy": "2025-03-02T12:10:01.906652Z",
     "iopub.status.idle": "2025-03-02T12:10:01.913230Z",
     "shell.execute_reply": "2025-03-02T12:10:01.912390Z"
    },
    "papermill": {
     "duration": 0.029086,
     "end_time": "2025-03-02T12:10:01.914798",
     "exception": false,
     "start_time": "2025-03-02T12:10:01.885712",
     "status": "completed"
    },
    "tags": []
   },
   "outputs": [],
   "source": [
    "def process_file(filename, dirname):\n",
    "    dataset = pd.read_parquet(os.path.join(dirname, filename, 'part-0.parquet'))\n",
    "    dataset.drop('step', axis=1, inplace=True)\n",
    "    return dataset.describe().values.reshape(-1), filename.split('=')[1]\n",
    "\n",
    "def load_time_series(dirname) -> pd.DataFrame:\n",
    "    ids = os.listdir(dirname)\n",
    "    \n",
    "    with ThreadPoolExecutor() as executor:\n",
    "        results = list(tqdm(executor.map(lambda fname: process_file(fname, dirname), ids), total=len(ids)))\n",
    "    \n",
    "    stats, indexes = zip(*results)\n",
    "    \n",
    "    dataset = pd.DataFrame(stats, columns=[f\"stat_{i}\" for i in range(len(stats[0]))])\n",
    "    dataset['id'] = indexes\n",
    "    return dataset"
   ]
  },
  {
   "cell_type": "markdown",
   "id": "4ae94348",
   "metadata": {
    "papermill": {
     "duration": 0.019773,
     "end_time": "2025-03-02T12:10:01.955123",
     "exception": false,
     "start_time": "2025-03-02T12:10:01.935350",
     "status": "completed"
    },
    "tags": []
   },
   "source": [
    "This below Encoder Class Learns representation of each feature, the relationship among them.\n",
    "* The Encoder learns relation of features (including the missing ones).\n",
    "* The Decoder retrieves the original data (return the full dataset, and it will label the null values). \n",
    "\n",
    "At the end, we have a so-called 'pretrained' model (The Encoder)"
   ]
  },
  {
   "cell_type": "markdown",
   "id": "db80576e",
   "metadata": {
    "papermill": {
     "duration": 0.019308,
     "end_time": "2025-03-02T12:10:01.994674",
     "exception": false,
     "start_time": "2025-03-02T12:10:01.975366",
     "status": "completed"
    },
    "tags": []
   },
   "source": [
    "> *Note: We must **NOT** call the Decoder. It is just for testing if dataset is restored as origin or not*"
   ]
  },
  {
   "cell_type": "code",
   "execution_count": 20,
   "id": "c8458b06",
   "metadata": {
    "execution": {
     "iopub.execute_input": "2025-03-02T12:10:02.033884Z",
     "iopub.status.busy": "2025-03-02T12:10:02.033604Z",
     "iopub.status.idle": "2025-03-02T12:10:02.042829Z",
     "shell.execute_reply": "2025-03-02T12:10:02.042134Z"
    },
    "papermill": {
     "duration": 0.030685,
     "end_time": "2025-03-02T12:10:02.044279",
     "exception": false,
     "start_time": "2025-03-02T12:10:02.013594",
     "status": "completed"
    },
    "tags": []
   },
   "outputs": [],
   "source": [
    "class AutoEncoder(nn.Module):\n",
    "    def __init__(self, input_dim, encoding_dim):\n",
    "        super(AutoEncoder, self).__init__()\n",
    "        self.encoder = nn.Sequential(\n",
    "            nn.Linear(input_dim, encoding_dim*3),\n",
    "            nn.ReLU(),\n",
    "            nn.Linear(encoding_dim*3, encoding_dim*2),\n",
    "            nn.ReLU(),\n",
    "            nn.Linear(encoding_dim*2, encoding_dim),\n",
    "            nn.ReLU()\n",
    "        )\n",
    "        self.decoder = nn.Sequential(\n",
    "            nn.Linear(encoding_dim, input_dim*2),\n",
    "            nn.ReLU(),\n",
    "            nn.Linear(input_dim*2, input_dim*3),\n",
    "            nn.ReLU(),\n",
    "            nn.Linear(input_dim*3, input_dim),\n",
    "            nn.Sigmoid()\n",
    "        )\n",
    "        \n",
    "    def forward(self, x):\n",
    "        encoded = self.encoder(x)\n",
    "        decoded = self.decoder(encoded)\n",
    "        return decoded\n",
    "\n",
    "\n",
    "def Encoding(dataset, encoding_dim=50, epochs=50, batch_size=32):\n",
    "    # Standardalize data\n",
    "    scaler = StandardScaler()\n",
    "    df_scaled = scaler.fit_transform(dataset)\n",
    "    \n",
    "    data_tensor = torch.FloatTensor(df_scaled)\n",
    "\n",
    "    # Setup Encoder\n",
    "    input_dim = data_tensor.shape[1]\n",
    "    autoencoder = AutoEncoder(input_dim, encoding_dim)\n",
    "    \n",
    "    criterion = nn.MSELoss() # Loss Function\n",
    "    optimizer = optim.Adam(autoencoder.parameters()) # Optimizer\n",
    "\n",
    "    # 'Training' to extract features representations\n",
    "    for epoch in range(epochs):\n",
    "        for i in range(0, len(data_tensor), batch_size):\n",
    "            batch = data_tensor[i : i + batch_size]\n",
    "            optimizer.zero_grad()\n",
    "            reconstructed = autoencoder(batch)\n",
    "            loss = criterion(reconstructed, batch)\n",
    "            loss.backward()\n",
    "            optimizer.step()\n",
    "            \n",
    "        if (epoch + 1) % 10 == 0:\n",
    "            print(f'Epoch [{epoch + 1}/{epochs}], Loss: {loss.item():.4f}]')\n",
    "\n",
    "    # After having the Encoder learnt parameters and feature representations, call Encoder to train the real model\n",
    "    with torch.no_grad():\n",
    "        encoded_data = autoencoder.encoder(data_tensor).numpy()\n",
    "        \n",
    "    df_encoded = pd.DataFrame(encoded_data, columns=[f'Enc_{i + 1}' for i in range(encoded_data.shape[1])])\n",
    "    \n",
    "    return df_encoded"
   ]
  },
  {
   "cell_type": "markdown",
   "id": "df5861e9",
   "metadata": {
    "papermill": {
     "duration": 0.018992,
     "end_time": "2025-03-02T12:10:02.082880",
     "exception": false,
     "start_time": "2025-03-02T12:10:02.063888",
     "status": "completed"
    },
    "tags": []
   },
   "source": [
    "* Read our dataset:"
   ]
  },
  {
   "cell_type": "code",
   "execution_count": 21,
   "id": "7759749a",
   "metadata": {
    "execution": {
     "iopub.execute_input": "2025-03-02T12:10:02.123193Z",
     "iopub.status.busy": "2025-03-02T12:10:02.122889Z",
     "iopub.status.idle": "2025-03-02T12:11:14.438723Z",
     "shell.execute_reply": "2025-03-02T12:11:14.437733Z"
    },
    "papermill": {
     "duration": 72.338412,
     "end_time": "2025-03-02T12:11:14.440677",
     "exception": false,
     "start_time": "2025-03-02T12:10:02.102265",
     "status": "completed"
    },
    "tags": []
   },
   "outputs": [
    {
     "name": "stderr",
     "output_type": "stream",
     "text": [
      "100%|██████████| 996/996 [01:12<00:00, 13.83it/s]\n",
      "100%|██████████| 2/2 [00:00<00:00, 10.48it/s]\n"
     ]
    }
   ],
   "source": [
    "train = pd.read_csv('/kaggle/input/child-mind-institute-problematic-internet-use/train.csv')\n",
    "test = pd.read_csv('/kaggle/input/child-mind-institute-problematic-internet-use/test.csv')\n",
    "sample = pd.read_csv('/kaggle/input/child-mind-institute-problematic-internet-use/sample_submission.csv')\n",
    "\n",
    "train_ts = load_time_series(\"/kaggle/input/child-mind-institute-problematic-internet-use/series_train.parquet\")\n",
    "test_ts = load_time_series(\"/kaggle/input/child-mind-institute-problematic-internet-use/series_test.parquet\")\n",
    "\n",
    "train_id = train_ts.drop('id', axis=1)\n",
    "test_id = test_ts.drop('id', axis=1)"
   ]
  },
  {
   "cell_type": "markdown",
   "id": "75445557",
   "metadata": {
    "papermill": {
     "duration": 0.03163,
     "end_time": "2025-03-02T12:11:14.508541",
     "exception": false,
     "start_time": "2025-03-02T12:11:14.476911",
     "status": "completed"
    },
    "tags": []
   },
   "source": [
    "* Train AutoEncoder for **time series** dataset:"
   ]
  },
  {
   "cell_type": "code",
   "execution_count": 22,
   "id": "0d2f8094",
   "metadata": {
    "execution": {
     "iopub.execute_input": "2025-03-02T12:11:14.614355Z",
     "iopub.status.busy": "2025-03-02T12:11:14.614008Z",
     "iopub.status.idle": "2025-03-02T12:11:26.907457Z",
     "shell.execute_reply": "2025-03-02T12:11:26.906461Z"
    },
    "papermill": {
     "duration": 12.334514,
     "end_time": "2025-03-02T12:11:26.909697",
     "exception": false,
     "start_time": "2025-03-02T12:11:14.575183",
     "status": "completed"
    },
    "tags": []
   },
   "outputs": [
    {
     "name": "stdout",
     "output_type": "stream",
     "text": [
      "Epoch [10/100], Loss: 1.6098]\n",
      "Epoch [20/100], Loss: 1.5299]\n",
      "Epoch [30/100], Loss: 1.5035]\n",
      "Epoch [40/100], Loss: 1.5172]\n",
      "Epoch [50/100], Loss: 1.5003]\n",
      "Epoch [60/100], Loss: 1.4944]\n",
      "Epoch [70/100], Loss: 1.4822]\n",
      "Epoch [80/100], Loss: 1.4518]\n",
      "Epoch [90/100], Loss: 1.3741]\n",
      "Epoch [100/100], Loss: 1.3573]\n",
      "Epoch [10/100], Loss: 1.0127]\n",
      "Epoch [20/100], Loss: 0.5565]\n",
      "Epoch [30/100], Loss: 0.4271]\n",
      "Epoch [40/100], Loss: 0.4271]\n",
      "Epoch [50/100], Loss: 0.4271]\n",
      "Epoch [60/100], Loss: 0.4271]\n",
      "Epoch [70/100], Loss: 0.4271]\n",
      "Epoch [80/100], Loss: 0.4271]\n",
      "Epoch [90/100], Loss: 0.4271]\n",
      "Epoch [100/100], Loss: 0.4271]\n"
     ]
    }
   ],
   "source": [
    "train_ts_encoded = Encoding(train_id, encoding_dim=60, epochs=100, batch_size=32) # Output will be 60 columns(features)\n",
    "test_ts_encoded = Encoding(test_id, encoding_dim=60, epochs=100, batch_size=32)# Output will be 60 columns(features)"
   ]
  },
  {
   "cell_type": "code",
   "execution_count": 23,
   "id": "e8fc6bb4",
   "metadata": {
    "execution": {
     "iopub.execute_input": "2025-03-02T12:11:26.983579Z",
     "iopub.status.busy": "2025-03-02T12:11:26.982378Z",
     "iopub.status.idle": "2025-03-02T12:11:33.715423Z",
     "shell.execute_reply": "2025-03-02T12:11:33.714701Z"
    },
    "papermill": {
     "duration": 6.768969,
     "end_time": "2025-03-02T12:11:33.717479",
     "exception": false,
     "start_time": "2025-03-02T12:11:26.948510",
     "status": "completed"
    },
    "tags": []
   },
   "outputs": [],
   "source": [
    "time_series_cols = train_ts_encoded.columns.tolist()\n",
    "train_ts_encoded[\"id\"]=train_ts[\"id\"]\n",
    "test_ts_encoded['id']=test_ts[\"id\"]\n",
    "\n",
    "# Merge time series encoded with train and test\n",
    "train = pd.merge(train, train_ts_encoded, how=\"left\", on='id')\n",
    "test = pd.merge(test, test_ts_encoded, how=\"left\", on='id')\n",
    "\n",
    "# imputer: Fill in the Missing values in numeric columns using a KNNImputer.\n",
    "# For each missing value,looks at the 5 nearest rows and computes the mean of the corresponding values to replace the missing value.\n",
    "# Remember if it cannot find missing values based on 5 nearest neighbors, its value is set to inf\n",
    "imputer = KNNImputer(n_neighbors=6)\n",
    "numeric_cols = train.select_dtypes(include=['int32', 'int64', 'float64']).columns\n",
    "imputed_data = imputer.fit_transform(train[numeric_cols])\n",
    "train_imputed = pd.DataFrame(imputed_data, columns=numeric_cols)\n",
    "train_imputed['sii'] = train_imputed['sii'].round().astype(int)\n",
    "for col in train.columns:\n",
    "    if col not in numeric_cols:\n",
    "        train_imputed[col] = train[col]\n",
    "\n",
    "# Assign the numeric columns with no missing values into train (mean train loses categorical columns)\n",
    "# Note: We'll have to add categorical columns later\n",
    "train = train_imputed"
   ]
  },
  {
   "cell_type": "markdown",
   "id": "a1ab0d58",
   "metadata": {
    "papermill": {
     "duration": 0.032415,
     "end_time": "2025-03-02T12:11:33.782972",
     "exception": false,
     "start_time": "2025-03-02T12:11:33.750557",
     "status": "completed"
    },
    "tags": []
   },
   "source": [
    "* Next step is Feature Engineering. We will create new columns from 2 old columns. These new columns will have features of both, plus its own information (hidden features). That way, our can learn and give better performance."
   ]
  },
  {
   "cell_type": "code",
   "execution_count": 24,
   "id": "26c182d9",
   "metadata": {
    "execution": {
     "iopub.execute_input": "2025-03-02T12:11:33.848754Z",
     "iopub.status.busy": "2025-03-02T12:11:33.848437Z",
     "iopub.status.idle": "2025-03-02T12:11:33.855211Z",
     "shell.execute_reply": "2025-03-02T12:11:33.854523Z"
    },
    "papermill": {
     "duration": 0.04162,
     "end_time": "2025-03-02T12:11:33.856719",
     "exception": false,
     "start_time": "2025-03-02T12:11:33.815099",
     "status": "completed"
    },
    "tags": []
   },
   "outputs": [],
   "source": [
    "def feature_engineering(data):\n",
    "    season_cols = [col for col in data.columns if 'Season' in col]\n",
    "    data = data.drop(season_cols, axis=1) \n",
    "    data['BMI_Age'] = data['Physical-BMI'] * data['Basic_Demos-Age']\n",
    "    data['Internet_Hours_Age'] = data['PreInt_EduHx-computerinternet_hoursday'] * data['Basic_Demos-Age']\n",
    "    data['BMI_Internet_Hours'] = data['Physical-BMI'] * data['PreInt_EduHx-computerinternet_hoursday']\n",
    "    data['BFP_BMI'] = data['BIA-BIA_Fat'] / data['BIA-BIA_BMI']\n",
    "    data['FFMI_BFP'] = data['BIA-BIA_FFMI'] / data['BIA-BIA_Fat']\n",
    "    data['FMI_BFP'] = data['BIA-BIA_FMI'] / data['BIA-BIA_Fat']\n",
    "    data['LST_TBW'] = data['BIA-BIA_LST'] / data['BIA-BIA_TBW']\n",
    "    data['BFP_BMR'] = data['BIA-BIA_Fat'] * data['BIA-BIA_BMR']\n",
    "    data['BFP_DEE'] = data['BIA-BIA_Fat'] * data['BIA-BIA_DEE']\n",
    "    data['BMR_Weight'] = data['BIA-BIA_BMR'] / data['Physical-Weight']\n",
    "    data['DEE_Weight'] = data['BIA-BIA_DEE'] / data['Physical-Weight']\n",
    "    data['SMM_Height'] = data['BIA-BIA_SMM'] / data['Physical-Height']\n",
    "    data['Muscle_to_Fat'] = data['BIA-BIA_SMM'] / data['BIA-BIA_FMI']\n",
    "    data['Hydration_Status'] = data['BIA-BIA_TBW'] / data['Physical-Weight']\n",
    "    data['ICW_TBW'] = data['BIA-BIA_ICW'] / data['BIA-BIA_TBW']\n",
    "    data['BMI_PHR'] = data['Physical-BMI'] * data['Physical-HeartRate']\n",
    "    data['SDS_InternetHours'] = data['SDS-SDS_Total_T'] * data['PreInt_EduHx-computerinternet_hoursday']\n",
    "    \n",
    "    return data"
   ]
  },
  {
   "cell_type": "code",
   "execution_count": 25,
   "id": "d0ff1cae",
   "metadata": {
    "execution": {
     "iopub.execute_input": "2025-03-02T12:11:33.923104Z",
     "iopub.status.busy": "2025-03-02T12:11:33.922834Z",
     "iopub.status.idle": "2025-03-02T12:11:33.954239Z",
     "shell.execute_reply": "2025-03-02T12:11:33.953322Z"
    },
    "papermill": {
     "duration": 0.067345,
     "end_time": "2025-03-02T12:11:33.955910",
     "exception": false,
     "start_time": "2025-03-02T12:11:33.888565",
     "status": "completed"
    },
    "tags": []
   },
   "outputs": [],
   "source": [
    "train = feature_engineering(train)\n",
    "train = train.dropna(thresh=10, axis=0)\n",
    "test = feature_engineering(test)\n",
    "\n",
    "train = train.drop('id', axis=1)\n",
    "test  = test .drop('id', axis=1)   "
   ]
  },
  {
   "cell_type": "markdown",
   "id": "4663f946",
   "metadata": {
    "papermill": {
     "duration": 0.031633,
     "end_time": "2025-03-02T12:11:34.019696",
     "exception": false,
     "start_time": "2025-03-02T12:11:33.988063",
     "status": "completed"
    },
    "tags": []
   },
   "source": [
    "* Next, we add missing columns(categorical columns) except for 'sii'"
   ]
  },
  {
   "cell_type": "code",
   "execution_count": 26,
   "id": "8d985ba8",
   "metadata": {
    "execution": {
     "iopub.execute_input": "2025-03-02T12:11:34.089512Z",
     "iopub.status.busy": "2025-03-02T12:11:34.089227Z",
     "iopub.status.idle": "2025-03-02T12:11:34.100623Z",
     "shell.execute_reply": "2025-03-02T12:11:34.099778Z"
    },
    "papermill": {
     "duration": 0.050058,
     "end_time": "2025-03-02T12:11:34.102211",
     "exception": false,
     "start_time": "2025-03-02T12:11:34.052153",
     "status": "completed"
    },
    "tags": []
   },
   "outputs": [],
   "source": [
    "featuresCols = ['Basic_Demos-Age', 'Basic_Demos-Sex',\n",
    "                'CGAS-CGAS_Score', 'Physical-BMI',\n",
    "                'Physical-Height', 'Physical-Weight', 'Physical-Waist_Circumference',\n",
    "                'Physical-Diastolic_BP', 'Physical-HeartRate', 'Physical-Systolic_BP',\n",
    "                'Fitness_Endurance-Max_Stage',\n",
    "                'Fitness_Endurance-Time_Mins', 'Fitness_Endurance-Time_Sec',\n",
    "                'FGC-FGC_CU', 'FGC-FGC_CU_Zone', 'FGC-FGC_GSND',\n",
    "                'FGC-FGC_GSND_Zone', 'FGC-FGC_GSD', 'FGC-FGC_GSD_Zone', 'FGC-FGC_PU',\n",
    "                'FGC-FGC_PU_Zone', 'FGC-FGC_SRL', 'FGC-FGC_SRL_Zone', 'FGC-FGC_SRR',\n",
    "                'FGC-FGC_SRR_Zone', 'FGC-FGC_TL', 'FGC-FGC_TL_Zone',\n",
    "                'BIA-BIA_Activity_Level_num', 'BIA-BIA_BMC', 'BIA-BIA_BMI',\n",
    "                'BIA-BIA_BMR', 'BIA-BIA_DEE', 'BIA-BIA_ECW', 'BIA-BIA_FFM',\n",
    "                'BIA-BIA_FFMI', 'BIA-BIA_FMI', 'BIA-BIA_Fat', 'BIA-BIA_Frame_num',\n",
    "                'BIA-BIA_ICW', 'BIA-BIA_LDM', 'BIA-BIA_LST', 'BIA-BIA_SMM',\n",
    "                'BIA-BIA_TBW', 'PAQ_A-PAQ_A_Total',\n",
    "                'PAQ_C-PAQ_C_Total', 'SDS-SDS_Total_Raw',\n",
    "                'SDS-SDS_Total_T',\n",
    "                'PreInt_EduHx-computerinternet_hoursday', 'sii', 'BMI_Age','Internet_Hours_Age','BMI_Internet_Hours',\n",
    "                'BFP_BMI', 'FFMI_BFP', 'FMI_BFP', 'LST_TBW', 'BFP_BMR', 'BFP_DEE', 'BMR_Weight', 'DEE_Weight',\n",
    "                'SMM_Height', 'Muscle_to_Fat', 'Hydration_Status', 'ICW_TBW', 'BMI_PHR', 'SDS_InternetHours']\n",
    "\n",
    "featuresCols += time_series_cols\n",
    "\n",
    "train = train[featuresCols]\n",
    "train = train.dropna(subset='sii')\n",
    "\n",
    "\n",
    "featuresCols = ['Basic_Demos-Age', 'Basic_Demos-Sex',\n",
    "                'CGAS-CGAS_Score', 'Physical-BMI',\n",
    "                'Physical-Height', 'Physical-Weight', 'Physical-Waist_Circumference',\n",
    "                'Physical-Diastolic_BP', 'Physical-HeartRate', 'Physical-Systolic_BP',\n",
    "                'Fitness_Endurance-Max_Stage',\n",
    "                'Fitness_Endurance-Time_Mins', 'Fitness_Endurance-Time_Sec',\n",
    "                'FGC-FGC_CU', 'FGC-FGC_CU_Zone', 'FGC-FGC_GSND',\n",
    "                'FGC-FGC_GSND_Zone', 'FGC-FGC_GSD', 'FGC-FGC_GSD_Zone', 'FGC-FGC_PU',\n",
    "                'FGC-FGC_PU_Zone', 'FGC-FGC_SRL', 'FGC-FGC_SRL_Zone', 'FGC-FGC_SRR',\n",
    "                'FGC-FGC_SRR_Zone', 'FGC-FGC_TL', 'FGC-FGC_TL_Zone',\n",
    "                'BIA-BIA_Activity_Level_num', 'BIA-BIA_BMC', 'BIA-BIA_BMI',\n",
    "                'BIA-BIA_BMR', 'BIA-BIA_DEE', 'BIA-BIA_ECW', 'BIA-BIA_FFM',\n",
    "                'BIA-BIA_FFMI', 'BIA-BIA_FMI', 'BIA-BIA_Fat', 'BIA-BIA_Frame_num',\n",
    "                'BIA-BIA_ICW', 'BIA-BIA_LDM', 'BIA-BIA_LST', 'BIA-BIA_SMM',\n",
    "                'BIA-BIA_TBW', 'PAQ_A-PAQ_A_Total',\n",
    "                'PAQ_C-PAQ_C_Total', 'SDS-SDS_Total_Raw',\n",
    "                'SDS-SDS_Total_T',\n",
    "                'PreInt_EduHx-computerinternet_hoursday', 'BMI_Age','Internet_Hours_Age','BMI_Internet_Hours',\n",
    "                'BFP_BMI', 'FFMI_BFP', 'FMI_BFP', 'LST_TBW', 'BFP_BMR', 'BFP_DEE', 'BMR_Weight', 'DEE_Weight',\n",
    "                'SMM_Height', 'Muscle_to_Fat', 'Hydration_Status', 'ICW_TBW', 'BMI_PHR', 'SDS_InternetHours']\n",
    "\n",
    "featuresCols += time_series_cols\n",
    "test = test[featuresCols]"
   ]
  },
  {
   "cell_type": "markdown",
   "id": "4212d859",
   "metadata": {
    "papermill": {
     "duration": 0.031432,
     "end_time": "2025-03-02T12:11:34.165266",
     "exception": false,
     "start_time": "2025-03-02T12:11:34.133834",
     "status": "completed"
    },
    "tags": []
   },
   "source": [
    "* Since there is inf values in our dataset, we need to handle them:"
   ]
  },
  {
   "cell_type": "code",
   "execution_count": 27,
   "id": "e3875593",
   "metadata": {
    "execution": {
     "iopub.execute_input": "2025-03-02T12:11:34.229590Z",
     "iopub.status.busy": "2025-03-02T12:11:34.229297Z",
     "iopub.status.idle": "2025-03-02T12:11:34.236190Z",
     "shell.execute_reply": "2025-03-02T12:11:34.235549Z"
    },
    "papermill": {
     "duration": 0.040846,
     "end_time": "2025-03-02T12:11:34.237661",
     "exception": false,
     "start_time": "2025-03-02T12:11:34.196815",
     "status": "completed"
    },
    "tags": []
   },
   "outputs": [],
   "source": [
    "if np.any(np.isinf(train)):\n",
    "    train = train.replace([np.inf, -np.inf], np.nan)"
   ]
  },
  {
   "cell_type": "markdown",
   "id": "017ee76b",
   "metadata": {
    "papermill": {
     "duration": 0.031604,
     "end_time": "2025-03-02T12:11:34.301181",
     "exception": false,
     "start_time": "2025-03-02T12:11:34.269577",
     "status": "completed"
    },
    "tags": []
   },
   "source": [
    "## Models Build"
   ]
  },
  {
   "cell_type": "markdown",
   "id": "70862b93",
   "metadata": {
    "papermill": {
     "duration": 0.031419,
     "end_time": "2025-03-02T12:11:34.364428",
     "exception": false,
     "start_time": "2025-03-02T12:11:34.333009",
     "status": "completed"
    },
    "tags": []
   },
   "source": [
    "Here, we use below models. These models all have strong multi-classfication, which are widely used.\n",
    "* **LightXGBM**.\r",
    "* **XGBoost**.\n",
    "* **CatBoost**.\n",
    "* **Voting Regressor**.cy."
   ]
  },
  {
   "cell_type": "markdown",
   "id": "aad05b94",
   "metadata": {
    "papermill": {
     "duration": 0.03145,
     "end_time": "2025-03-02T12:11:34.427619",
     "exception": false,
     "start_time": "2025-03-02T12:11:34.396169",
     "status": "completed"
    },
    "tags": []
   },
   "source": [
    "* Setup Parameters for **LightGBM**, **XGBoost** and **CatBoost**"
   ]
  },
  {
   "cell_type": "code",
   "execution_count": 28,
   "id": "c199fe07",
   "metadata": {
    "execution": {
     "iopub.execute_input": "2025-03-02T12:11:34.492809Z",
     "iopub.status.busy": "2025-03-02T12:11:34.492524Z",
     "iopub.status.idle": "2025-03-02T12:11:34.496300Z",
     "shell.execute_reply": "2025-03-02T12:11:34.495475Z"
    },
    "papermill": {
     "duration": 0.038161,
     "end_time": "2025-03-02T12:11:34.498003",
     "exception": false,
     "start_time": "2025-03-02T12:11:34.459842",
     "status": "completed"
    },
    "tags": []
   },
   "outputs": [],
   "source": [
    "SEED = 42\n",
    "n_splits = 5"
   ]
  },
  {
   "cell_type": "code",
   "execution_count": 29,
   "id": "b061a1f6",
   "metadata": {
    "execution": {
     "iopub.execute_input": "2025-03-02T12:11:34.562309Z",
     "iopub.status.busy": "2025-03-02T12:11:34.562068Z",
     "iopub.status.idle": "2025-03-02T12:11:34.567047Z",
     "shell.execute_reply": "2025-03-02T12:11:34.566337Z"
    },
    "papermill": {
     "duration": 0.039071,
     "end_time": "2025-03-02T12:11:34.568794",
     "exception": false,
     "start_time": "2025-03-02T12:11:34.529723",
     "status": "completed"
    },
    "tags": []
   },
   "outputs": [],
   "source": [
    "# Model parameters for LightGBM\n",
    "Params = {\n",
    "    'learning_rate': 0.046,\n",
    "    'max_depth': 12,\n",
    "    'num_leaves': 478,\n",
    "    'min_data_in_leaf': 13,\n",
    "    'feature_fraction': 0.893,\n",
    "    'bagging_fraction': 0.784,\n",
    "    'bagging_freq': 4,\n",
    "    'lambda_l1': 10,  # Increased from 6.59\n",
    "    'lambda_l2': 0.01,  # Increased from 2.68e-06\n",
    "    'device': 'cpu'\n",
    "\n",
    "}\n",
    "\n",
    "\n",
    "# XGBoost parameters\n",
    "XGB_Params = {\n",
    "    'learning_rate': 0.05,\n",
    "    'max_depth': 6,\n",
    "    'n_estimators': 200,\n",
    "    'subsample': 0.8,\n",
    "    'colsample_bytree': 0.8,\n",
    "    'reg_alpha': 1,  # Increased from 0.1\n",
    "    'reg_lambda': 5,  # Increased from 1\n",
    "    'random_state': SEED,\n",
    "    'tree_method': 'gpu_hist',\n",
    "\n",
    "}\n",
    "\n",
    "\n",
    "CatBoost_Params = {\n",
    "    'learning_rate': 0.05,\n",
    "    'depth': 6,\n",
    "    'iterations': 200,\n",
    "    'random_seed': SEED,\n",
    "    'verbose': 0,\n",
    "    'l2_leaf_reg': 10,  # Increase this value\n",
    "    'task_type': 'GPU'\n",
    "\n",
    "}"
   ]
  },
  {
   "cell_type": "markdown",
   "id": "8197a0ef",
   "metadata": {
    "papermill": {
     "duration": 0.038115,
     "end_time": "2025-03-02T12:11:34.647315",
     "exception": false,
     "start_time": "2025-03-02T12:11:34.609200",
     "status": "completed"
    },
    "tags": []
   },
   "source": [
    "We also call the class **TabNetWrapper** that applies **TabNet** Architecture. It will train our model using Tabnet, and then save the best performance state."
   ]
  },
  {
   "cell_type": "code",
   "execution_count": 30,
   "id": "fba96f5a",
   "metadata": {
    "execution": {
     "iopub.execute_input": "2025-03-02T12:11:34.716676Z",
     "iopub.status.busy": "2025-03-02T12:11:34.716412Z",
     "iopub.status.idle": "2025-03-02T12:11:34.729924Z",
     "shell.execute_reply": "2025-03-02T12:11:34.729338Z"
    },
    "papermill": {
     "duration": 0.04889,
     "end_time": "2025-03-02T12:11:34.731685",
     "exception": false,
     "start_time": "2025-03-02T12:11:34.682795",
     "status": "completed"
    },
    "tags": []
   },
   "outputs": [],
   "source": [
    "from sklearn.base import BaseEstimator, RegressorMixin\n",
    "from sklearn.impute import SimpleImputer\n",
    "from sklearn.model_selection import train_test_split\n",
    "from pytorch_tabnet.callbacks import Callback\n",
    "import os\n",
    "import torch\n",
    "from pytorch_tabnet.callbacks import Callback\n",
    "\n",
    "class TabNetWrapper(BaseEstimator, RegressorMixin):\n",
    "    def __init__(self, **kwargs):\n",
    "        self.model = TabNetRegressor(**kwargs)\n",
    "        self.kwargs = kwargs\n",
    "        self.imputer = SimpleImputer(strategy='median') # Handle missing values, replace them with median\n",
    "        self.best_model_path = 'best_model.pt'\n",
    "        \n",
    "    def fit(self, X, y):       \n",
    "        # Replace null values with cols median.\n",
    "        X_imputed = self.imputer.fit_transform(X)\n",
    "        \n",
    "        if hasattr(y, 'values'):\n",
    "            y = y.values\n",
    "            \n",
    "        # Separate inputs and labels of train and test\n",
    "        X_train, X_valid, y_train, y_valid = train_test_split(\n",
    "            X_imputed, \n",
    "            y, \n",
    "            test_size=0.2,\n",
    "            random_state=42\n",
    "        )\n",
    "        \n",
    "        # Train TabNet model\n",
    "        history = self.model.fit(\n",
    "            X_train=X_train,\n",
    "            y_train=y_train.reshape(-1, 1), # Ensure y_train and y_valid has the correct shape for TabNet\n",
    "            eval_set=[(X_valid, y_valid.reshape(-1, 1))], # Monitor best model\n",
    "            eval_name=['valid'],\n",
    "            eval_metric=['mse'],# Use Mean Squared Error as the evaluation metric\n",
    "            max_epochs=500, # Number of epoch\n",
    "            patience=50,# Stop early if no validation improvement for 50 epochs\n",
    "            batch_size=1024, # Batch size for train\n",
    "            virtual_batch_size=128, # Batch size for gradient updates\n",
    "            num_workers=0,\n",
    "            drop_last=False,\n",
    "            # Save the best model into file .pth\n",
    "            callbacks=[\n",
    "                TabNetPretrainedModelCheckpoint(\n",
    "                    filepath=self.best_model_path,\n",
    "                    monitor='valid_mse',\n",
    "                    mode='min',\n",
    "                    save_best_only=True,\n",
    "                    verbose=True\n",
    "                )\n",
    "            ]\n",
    "        )\n",
    "        \n",
    "        # Load the best model\n",
    "        if os.path.exists(self.best_model_path):\n",
    "            self.model.load_model(self.best_model_path)\n",
    "            os.remove(self.best_model_path)  # Remove temporary file\n",
    "\n",
    "        self.feature_importances_ = self.model.feature_importances_\n",
    "        \n",
    "        return self\n",
    "    \n",
    "    def predict(self, X):\n",
    "        X_imputed = self.imputer.transform(X)\n",
    "        return self.model.predict(X_imputed).flatten()\n",
    "    \n",
    "    def __deepcopy__(self, memo):\n",
    "        # Add deepcopy support for scikit-learn\n",
    "        cls = self.__class__\n",
    "        result = cls.__new__(cls)\n",
    "        memo[id(self)] = result\n",
    "        for k, v in self.__dict__.items():\n",
    "            setattr(result, k, deepcopy(v, memo))\n",
    "        return result\n",
    "\n",
    "# TabNet hyperparameters\n",
    "TabNet_Params = {\n",
    "    'n_d': 64,              # Width of the decision prediction layer\n",
    "    'n_a': 64,              # Width of the attention embedding for each step\n",
    "    'n_steps': 5,           # Number of steps in the architecture\n",
    "    'gamma': 1.5,           # Coefficient for feature selection regularization\n",
    "    'n_independent': 2,     # Number of independent GLU layer in each GLU block\n",
    "    'n_shared': 2,          # Number of shared GLU layer in each GLU block\n",
    "    'lambda_sparse': 1e-4,  # Sparsity regularization\n",
    "    'optimizer_fn': torch.optim.Adam,\n",
    "    'optimizer_params': dict(lr=2e-2, weight_decay=1e-5),\n",
    "    'mask_type': 'entmax',\n",
    "    'scheduler_params': dict(mode=\"min\", patience=10, min_lr=1e-5, factor=0.5),\n",
    "    'scheduler_fn': torch.optim.lr_scheduler.ReduceLROnPlateau,\n",
    "    'verbose': 1,\n",
    "    'device_name': 'cuda' if torch.cuda.is_available() else cpu\n",
    "}\n",
    "\n",
    "class TabNetPretrainedModelCheckpoint(Callback):\n",
    "    def __init__(self, filepath, monitor='val_loss', mode='min', \n",
    "                 save_best_only=True, verbose=1):\n",
    "        super().__init__()  # Initialize parent class\n",
    "        self.filepath = filepath\n",
    "        self.monitor = monitor\n",
    "        self.mode = mode\n",
    "        self.save_best_only = save_best_only\n",
    "        self.verbose = verbose\n",
    "        self.best = float('inf') if mode == 'min' else -float('inf')\n",
    "        \n",
    "    def on_train_begin(self, logs=None):\n",
    "        self.model = self.trainer  # Use trainer itself as model\n",
    "        \n",
    "    def on_epoch_end(self, epoch, logs=None):\n",
    "        logs = logs or {}\n",
    "        current = logs.get(self.monitor)\n",
    "        if current is None:\n",
    "            return\n",
    "        \n",
    "        # Check if current metric is better than best\n",
    "        if (self.mode == 'min' and current < self.best) or \\\n",
    "           (self.mode == 'max' and current > self.best):\n",
    "            if self.verbose:\n",
    "                print(f'\\nEpoch {epoch}: {self.monitor} improved from {self.best:.4f} to {current:.4f}')\n",
    "            self.best = current\n",
    "            if self.save_best_only:\n",
    "                self.model.save_model(self.filepath)  # Save the entire model"
   ]
  },
  {
   "cell_type": "markdown",
   "id": "dc5e8b7f",
   "metadata": {
    "papermill": {
     "duration": 0.039977,
     "end_time": "2025-03-02T12:11:34.813991",
     "exception": false,
     "start_time": "2025-03-02T12:11:34.774014",
     "status": "completed"
    },
    "tags": []
   },
   "source": [
    "## Train And Evaluation:"
   ]
  },
  {
   "cell_type": "markdown",
   "id": "f067b413",
   "metadata": {
    "papermill": {
     "duration": 0.031392,
     "end_time": "2025-03-02T12:11:34.877097",
     "exception": false,
     "start_time": "2025-03-02T12:11:34.845705",
     "status": "completed"
    },
    "tags": []
   },
   "source": [
    "> **All of our training process is implemented on GPU.**"
   ]
  },
  {
   "cell_type": "markdown",
   "id": "36a85a8d",
   "metadata": {
    "papermill": {
     "duration": 0.031731,
     "end_time": "2025-03-02T12:11:34.940540",
     "exception": false,
     "start_time": "2025-03-02T12:11:34.908809",
     "status": "completed"
    },
    "tags": []
   },
   "source": [
    "* Evaluation Metrics:"
   ]
  },
  {
   "cell_type": "code",
   "execution_count": 31,
   "id": "edd8074f",
   "metadata": {
    "execution": {
     "iopub.execute_input": "2025-03-02T12:11:35.005546Z",
     "iopub.status.busy": "2025-03-02T12:11:35.005221Z",
     "iopub.status.idle": "2025-03-02T12:11:35.010430Z",
     "shell.execute_reply": "2025-03-02T12:11:35.009757Z"
    },
    "papermill": {
     "duration": 0.039714,
     "end_time": "2025-03-02T12:11:35.011918",
     "exception": false,
     "start_time": "2025-03-02T12:11:34.972204",
     "status": "completed"
    },
    "tags": []
   },
   "outputs": [],
   "source": [
    "# if np.any(np.isinf(train)):\n",
    "#     train = train.replace([np.inf, -np.inf], np.nan)\n",
    "\n",
    "def quadratic_weighted_kappa(y_true, y_pred):\n",
    "    return cohen_kappa_score(y_true, y_pred, weights='quadratic')\n",
    "\n",
    "def threshold_Rounder(oof_non_rounded, thresholds):\n",
    "    return np.where(oof_non_rounded < thresholds[0], 0,\n",
    "                    np.where(oof_non_rounded < thresholds[1], 1,\n",
    "                             np.where(oof_non_rounded < thresholds[2], 2, 3)))\n",
    "\n",
    "def evaluate_predictions(thresholds, y_true, oof_non_rounded):\n",
    "    rounded_p = threshold_Rounder(oof_non_rounded, thresholds)\n",
    "    return -quadratic_weighted_kappa(y_true, rounded_p)"
   ]
  },
  {
   "cell_type": "markdown",
   "id": "ca9da529",
   "metadata": {
    "papermill": {
     "duration": 0.032395,
     "end_time": "2025-03-02T12:11:35.075844",
     "exception": false,
     "start_time": "2025-03-02T12:11:35.043449",
     "status": "completed"
    },
    "tags": []
   },
   "source": [
    "* Train Step:"
   ]
  },
  {
   "cell_type": "markdown",
   "id": "52a5e950",
   "metadata": {
    "papermill": {
     "duration": 0.031186,
     "end_time": "2025-03-02T12:11:35.139419",
     "exception": false,
     "start_time": "2025-03-02T12:11:35.108233",
     "status": "completed"
    },
    "tags": []
   },
   "source": [
    "* Cross-Validation: Stratified K-Folds cross-validation is employed to split the data into training and validation sets, ensuring balanced class distribution in each fold.\n",
    "  \r",
    "* \n",
    "Quadratic Weighted Kappa (QWK): The performance of the models is evaluated using QWK, which measures the agreement between predicted and actual values, taking into account the ordinal nature of the target variable\n",
    "  \n",
    "* \r\n",
    "Threshold Optimization: The minimize function from scipy.optimize is used to fine-tune decision thresholds that map continuous predictions to discrete categories (None, Mild, Moderate, Severe)."
   ]
  },
  {
   "cell_type": "code",
   "execution_count": 32,
   "id": "ba2910b6",
   "metadata": {
    "execution": {
     "iopub.execute_input": "2025-03-02T12:11:35.203644Z",
     "iopub.status.busy": "2025-03-02T12:11:35.203365Z",
     "iopub.status.idle": "2025-03-02T12:11:35.212407Z",
     "shell.execute_reply": "2025-03-02T12:11:35.211760Z"
    },
    "papermill": {
     "duration": 0.043175,
     "end_time": "2025-03-02T12:11:35.213957",
     "exception": false,
     "start_time": "2025-03-02T12:11:35.170782",
     "status": "completed"
    },
    "tags": []
   },
   "outputs": [],
   "source": [
    "def TrainML(model_class, test_data):\n",
    "    X = train.drop(['sii'], axis=1)\n",
    "    y = train['sii']\n",
    "\n",
    "    SKF = StratifiedKFold(n_splits=n_splits, shuffle=True, random_state=SEED)\n",
    "    \n",
    "    train_S = []\n",
    "    test_S = []\n",
    "    \n",
    "    oof_non_rounded = np.zeros(len(y), dtype=float) \n",
    "    oof_rounded = np.zeros(len(y), dtype=int) \n",
    "    test_preds = np.zeros((len(test_data), n_splits))\n",
    "\n",
    "    for fold, (train_idx, test_idx) in enumerate(tqdm(SKF.split(X, y), desc=\"Training Folds\", total=n_splits)):\n",
    "        X_train, X_val = X.iloc[train_idx], X.iloc[test_idx]\n",
    "        y_train, y_val = y.iloc[train_idx], y.iloc[test_idx]\n",
    "\n",
    "        model = clone(model_class)\n",
    "        model.fit(X_train, y_train)\n",
    "\n",
    "        y_train_pred = model.predict(X_train)\n",
    "        y_val_pred = model.predict(X_val)\n",
    "\n",
    "        oof_non_rounded[test_idx] = y_val_pred\n",
    "        y_val_pred_rounded = y_val_pred.round(0).astype(int)\n",
    "        oof_rounded[test_idx] = y_val_pred_rounded\n",
    "\n",
    "        train_kappa = quadratic_weighted_kappa(y_train, y_train_pred.round(0).astype(int))\n",
    "        val_kappa = quadratic_weighted_kappa(y_val, y_val_pred_rounded)\n",
    "\n",
    "        train_S.append(train_kappa)\n",
    "        test_S.append(val_kappa)\n",
    "        \n",
    "        test_preds[:, fold] = model.predict(test_data)\n",
    "        \n",
    "        print(f\"Fold {fold+1} - Train QWK: {train_kappa:.4f}, Validation QWK: {val_kappa:.4f}\")\n",
    "        clear_output(wait=True)\n",
    "\n",
    "    print(f\"Mean Train QWK --> {np.mean(train_S):.4f}\")\n",
    "    print(f\"Mean Validation QWK ---> {np.mean(test_S):.4f}\")\n",
    "\n",
    "    KappaOPtimizer = minimize(evaluate_predictions,\n",
    "                              x0=[0.5, 1.5, 2.5], args=(y, oof_non_rounded), \n",
    "                              method='Nelder-Mead')\n",
    "    assert KappaOPtimizer.success, \"Optimization did not converge.\"\n",
    "    \n",
    "    oof_tuned = threshold_Rounder(oof_non_rounded, KappaOPtimizer.x)\n",
    "    tKappa = quadratic_weighted_kappa(y, oof_tuned)\n",
    "\n",
    "    print(f\"----> || Optimized QWK SCORE :: {Fore.CYAN}{Style.BRIGHT} {tKappa:.3f}{Style.RESET_ALL}\")\n",
    "\n",
    "    tpm = test_preds.mean(axis=1)\n",
    "    tpTuned = threshold_Rounder(tpm, KappaOPtimizer.x)\n",
    "    \n",
    "    submission = pd.DataFrame({\n",
    "        'id': sample['id'],\n",
    "        'sii': tpTuned\n",
    "    })\n",
    "\n",
    "    return submission"
   ]
  },
  {
   "cell_type": "markdown",
   "id": "ec25ca20",
   "metadata": {
    "papermill": {
     "duration": 0.031649,
     "end_time": "2025-03-02T12:11:35.277162",
     "exception": false,
     "start_time": "2025-03-02T12:11:35.245513",
     "status": "completed"
    },
    "tags": []
   },
   "source": [
    "* Setup for the Models:"
   ]
  },
  {
   "cell_type": "code",
   "execution_count": 33,
   "id": "70c410dd",
   "metadata": {
    "execution": {
     "iopub.execute_input": "2025-03-02T12:11:35.342156Z",
     "iopub.status.busy": "2025-03-02T12:11:35.341836Z",
     "iopub.status.idle": "2025-03-02T12:11:35.362026Z",
     "shell.execute_reply": "2025-03-02T12:11:35.361173Z"
    },
    "papermill": {
     "duration": 0.054659,
     "end_time": "2025-03-02T12:11:35.363709",
     "exception": false,
     "start_time": "2025-03-02T12:11:35.309050",
     "status": "completed"
    },
    "tags": []
   },
   "outputs": [],
   "source": [
    "# Create model instances\n",
    "Light = LGBMRegressor(**Params, random_state=SEED, verbose=-1, n_estimators=300)\n",
    "XGB_Model = XGBRegressor(**XGB_Params)\n",
    "CatBoost_Model = CatBoostRegressor(**CatBoost_Params)\n",
    "TabNet_Model = TabNetWrapper(**TabNet_Params) # New"
   ]
  },
  {
   "cell_type": "markdown",
   "id": "01e7df21",
   "metadata": {
    "papermill": {
     "duration": 0.031339,
     "end_time": "2025-03-02T12:11:35.427038",
     "exception": false,
     "start_time": "2025-03-02T12:11:35.395699",
     "status": "completed"
    },
    "tags": []
   },
   "source": [
    "> **Here, We use Ensemble Learning: Voting Regressor. This approach is beneficial as it leverages the strengths of multiple models, reducing overfitting and improving overall model performance.**"
   ]
  },
  {
   "cell_type": "code",
   "execution_count": 34,
   "id": "28f29c04",
   "metadata": {
    "execution": {
     "iopub.execute_input": "2025-03-02T12:11:35.490906Z",
     "iopub.status.busy": "2025-03-02T12:11:35.490572Z",
     "iopub.status.idle": "2025-03-02T12:14:06.718999Z",
     "shell.execute_reply": "2025-03-02T12:14:06.717994Z"
    },
    "papermill": {
     "duration": 151.262858,
     "end_time": "2025-03-02T12:14:06.721171",
     "exception": false,
     "start_time": "2025-03-02T12:11:35.458313",
     "status": "completed"
    },
    "tags": []
   },
   "outputs": [
    {
     "name": "stderr",
     "output_type": "stream",
     "text": [
      "Training Folds: 100%|██████████| 5/5 [02:31<00:00, 30.22s/it]"
     ]
    },
    {
     "name": "stdout",
     "output_type": "stream",
     "text": [
      "Mean Train QWK --> 0.7633\n",
      "Mean Validation QWK ---> 0.5038\n",
      "----> || Optimized QWK SCORE :: \u001b[36m\u001b[1m 0.557\u001b[0m\n"
     ]
    },
    {
     "name": "stderr",
     "output_type": "stream",
     "text": [
      "\n"
     ]
    }
   ],
   "source": [
    "voting_model = VotingRegressor(estimators=[\n",
    "    ('lightgbm', Light),\n",
    "    ('xgboost', XGB_Model),\n",
    "    ('catboost', CatBoost_Model),\n",
    "    ('tabnet', TabNet_Model)\n",
    "], weights=[4.0,4.0,5.0,4.0])\n",
    "\n",
    "Submission1 = TrainML(voting_model, test)\n",
    "\n",
    "Submission1.to_csv('submission.csv', index=False)"
   ]
  },
  {
   "cell_type": "code",
   "execution_count": 35,
   "id": "4b36d64a",
   "metadata": {
    "execution": {
     "iopub.execute_input": "2025-03-02T12:14:06.792033Z",
     "iopub.status.busy": "2025-03-02T12:14:06.791481Z",
     "iopub.status.idle": "2025-03-02T12:14:06.803273Z",
     "shell.execute_reply": "2025-03-02T12:14:06.802482Z"
    },
    "papermill": {
     "duration": 0.046591,
     "end_time": "2025-03-02T12:14:06.804738",
     "exception": false,
     "start_time": "2025-03-02T12:14:06.758147",
     "status": "completed"
    },
    "tags": []
   },
   "outputs": [
    {
     "data": {
      "text/html": [
       "<div>\n",
       "<style scoped>\n",
       "    .dataframe tbody tr th:only-of-type {\n",
       "        vertical-align: middle;\n",
       "    }\n",
       "\n",
       "    .dataframe tbody tr th {\n",
       "        vertical-align: top;\n",
       "    }\n",
       "\n",
       "    .dataframe thead th {\n",
       "        text-align: right;\n",
       "    }\n",
       "</style>\n",
       "<table border=\"1\" class=\"dataframe\">\n",
       "  <thead>\n",
       "    <tr style=\"text-align: right;\">\n",
       "      <th></th>\n",
       "      <th>id</th>\n",
       "      <th>sii</th>\n",
       "    </tr>\n",
       "  </thead>\n",
       "  <tbody>\n",
       "    <tr>\n",
       "      <th>0</th>\n",
       "      <td>00008ff9</td>\n",
       "      <td>0</td>\n",
       "    </tr>\n",
       "    <tr>\n",
       "      <th>1</th>\n",
       "      <td>000fd460</td>\n",
       "      <td>0</td>\n",
       "    </tr>\n",
       "    <tr>\n",
       "      <th>2</th>\n",
       "      <td>00105258</td>\n",
       "      <td>1</td>\n",
       "    </tr>\n",
       "    <tr>\n",
       "      <th>3</th>\n",
       "      <td>00115b9f</td>\n",
       "      <td>0</td>\n",
       "    </tr>\n",
       "    <tr>\n",
       "      <th>4</th>\n",
       "      <td>0016bb22</td>\n",
       "      <td>1</td>\n",
       "    </tr>\n",
       "    <tr>\n",
       "      <th>5</th>\n",
       "      <td>001f3379</td>\n",
       "      <td>1</td>\n",
       "    </tr>\n",
       "    <tr>\n",
       "      <th>6</th>\n",
       "      <td>0038ba98</td>\n",
       "      <td>1</td>\n",
       "    </tr>\n",
       "    <tr>\n",
       "      <th>7</th>\n",
       "      <td>0068a485</td>\n",
       "      <td>1</td>\n",
       "    </tr>\n",
       "    <tr>\n",
       "      <th>8</th>\n",
       "      <td>0069fbed</td>\n",
       "      <td>1</td>\n",
       "    </tr>\n",
       "    <tr>\n",
       "      <th>9</th>\n",
       "      <td>0083e397</td>\n",
       "      <td>1</td>\n",
       "    </tr>\n",
       "    <tr>\n",
       "      <th>10</th>\n",
       "      <td>0087dd65</td>\n",
       "      <td>1</td>\n",
       "    </tr>\n",
       "    <tr>\n",
       "      <th>11</th>\n",
       "      <td>00abe655</td>\n",
       "      <td>1</td>\n",
       "    </tr>\n",
       "    <tr>\n",
       "      <th>12</th>\n",
       "      <td>00ae59c9</td>\n",
       "      <td>1</td>\n",
       "    </tr>\n",
       "    <tr>\n",
       "      <th>13</th>\n",
       "      <td>00af6387</td>\n",
       "      <td>1</td>\n",
       "    </tr>\n",
       "    <tr>\n",
       "      <th>14</th>\n",
       "      <td>00bd4359</td>\n",
       "      <td>1</td>\n",
       "    </tr>\n",
       "    <tr>\n",
       "      <th>15</th>\n",
       "      <td>00c0cd71</td>\n",
       "      <td>1</td>\n",
       "    </tr>\n",
       "    <tr>\n",
       "      <th>16</th>\n",
       "      <td>00d56d4b</td>\n",
       "      <td>0</td>\n",
       "    </tr>\n",
       "    <tr>\n",
       "      <th>17</th>\n",
       "      <td>00d9913d</td>\n",
       "      <td>1</td>\n",
       "    </tr>\n",
       "    <tr>\n",
       "      <th>18</th>\n",
       "      <td>00e6167c</td>\n",
       "      <td>0</td>\n",
       "    </tr>\n",
       "    <tr>\n",
       "      <th>19</th>\n",
       "      <td>00ebc35d</td>\n",
       "      <td>1</td>\n",
       "    </tr>\n",
       "  </tbody>\n",
       "</table>\n",
       "</div>"
      ],
      "text/plain": [
       "          id  sii\n",
       "0   00008ff9    0\n",
       "1   000fd460    0\n",
       "2   00105258    1\n",
       "3   00115b9f    0\n",
       "4   0016bb22    1\n",
       "5   001f3379    1\n",
       "6   0038ba98    1\n",
       "7   0068a485    1\n",
       "8   0069fbed    1\n",
       "9   0083e397    1\n",
       "10  0087dd65    1\n",
       "11  00abe655    1\n",
       "12  00ae59c9    1\n",
       "13  00af6387    1\n",
       "14  00bd4359    1\n",
       "15  00c0cd71    1\n",
       "16  00d56d4b    0\n",
       "17  00d9913d    1\n",
       "18  00e6167c    0\n",
       "19  00ebc35d    1"
      ]
     },
     "execution_count": 35,
     "metadata": {},
     "output_type": "execute_result"
    }
   ],
   "source": [
    "Submission1"
   ]
  },
  {
   "cell_type": "markdown",
   "id": "b1db8cc7",
   "metadata": {
    "papermill": {
     "duration": 0.031927,
     "end_time": "2025-03-02T12:14:06.868799",
     "exception": false,
     "start_time": "2025-03-02T12:14:06.836872",
     "status": "completed"
    },
    "tags": []
   },
   "source": [
    "#### Second Models:"
   ]
  },
  {
   "cell_type": "code",
   "execution_count": 36,
   "id": "b04a21a8",
   "metadata": {
    "execution": {
     "iopub.execute_input": "2025-03-02T12:14:06.936251Z",
     "iopub.status.busy": "2025-03-02T12:14:06.935998Z",
     "iopub.status.idle": "2025-03-02T12:16:06.248722Z",
     "shell.execute_reply": "2025-03-02T12:16:06.247853Z"
    },
    "papermill": {
     "duration": 119.348731,
     "end_time": "2025-03-02T12:16:06.250418",
     "exception": false,
     "start_time": "2025-03-02T12:14:06.901687",
     "status": "completed"
    },
    "tags": []
   },
   "outputs": [
    {
     "name": "stderr",
     "output_type": "stream",
     "text": [
      "Training Folds: 100%|██████████| 5/5 [00:49<00:00,  9.99s/it]"
     ]
    },
    {
     "name": "stdout",
     "output_type": "stream",
     "text": [
      "Mean Train QWK --> 0.7595\n",
      "Mean Validation QWK ---> 0.3926\n"
     ]
    },
    {
     "name": "stderr",
     "output_type": "stream",
     "text": [
      "\n"
     ]
    },
    {
     "name": "stdout",
     "output_type": "stream",
     "text": [
      "----> || Optimized QWK SCORE :: \u001b[36m\u001b[1m 0.457\u001b[0m\n"
     ]
    },
    {
     "data": {
      "text/html": [
       "<div>\n",
       "<style scoped>\n",
       "    .dataframe tbody tr th:only-of-type {\n",
       "        vertical-align: middle;\n",
       "    }\n",
       "\n",
       "    .dataframe tbody tr th {\n",
       "        vertical-align: top;\n",
       "    }\n",
       "\n",
       "    .dataframe thead th {\n",
       "        text-align: right;\n",
       "    }\n",
       "</style>\n",
       "<table border=\"1\" class=\"dataframe\">\n",
       "  <thead>\n",
       "    <tr style=\"text-align: right;\">\n",
       "      <th></th>\n",
       "      <th>id</th>\n",
       "      <th>sii</th>\n",
       "    </tr>\n",
       "  </thead>\n",
       "  <tbody>\n",
       "    <tr>\n",
       "      <th>0</th>\n",
       "      <td>00008ff9</td>\n",
       "      <td>1</td>\n",
       "    </tr>\n",
       "    <tr>\n",
       "      <th>1</th>\n",
       "      <td>000fd460</td>\n",
       "      <td>0</td>\n",
       "    </tr>\n",
       "    <tr>\n",
       "      <th>2</th>\n",
       "      <td>00105258</td>\n",
       "      <td>0</td>\n",
       "    </tr>\n",
       "    <tr>\n",
       "      <th>3</th>\n",
       "      <td>00115b9f</td>\n",
       "      <td>0</td>\n",
       "    </tr>\n",
       "    <tr>\n",
       "      <th>4</th>\n",
       "      <td>0016bb22</td>\n",
       "      <td>0</td>\n",
       "    </tr>\n",
       "    <tr>\n",
       "      <th>5</th>\n",
       "      <td>001f3379</td>\n",
       "      <td>1</td>\n",
       "    </tr>\n",
       "    <tr>\n",
       "      <th>6</th>\n",
       "      <td>0038ba98</td>\n",
       "      <td>0</td>\n",
       "    </tr>\n",
       "    <tr>\n",
       "      <th>7</th>\n",
       "      <td>0068a485</td>\n",
       "      <td>0</td>\n",
       "    </tr>\n",
       "    <tr>\n",
       "      <th>8</th>\n",
       "      <td>0069fbed</td>\n",
       "      <td>1</td>\n",
       "    </tr>\n",
       "    <tr>\n",
       "      <th>9</th>\n",
       "      <td>0083e397</td>\n",
       "      <td>0</td>\n",
       "    </tr>\n",
       "    <tr>\n",
       "      <th>10</th>\n",
       "      <td>0087dd65</td>\n",
       "      <td>0</td>\n",
       "    </tr>\n",
       "    <tr>\n",
       "      <th>11</th>\n",
       "      <td>00abe655</td>\n",
       "      <td>0</td>\n",
       "    </tr>\n",
       "    <tr>\n",
       "      <th>12</th>\n",
       "      <td>00ae59c9</td>\n",
       "      <td>1</td>\n",
       "    </tr>\n",
       "    <tr>\n",
       "      <th>13</th>\n",
       "      <td>00af6387</td>\n",
       "      <td>1</td>\n",
       "    </tr>\n",
       "    <tr>\n",
       "      <th>14</th>\n",
       "      <td>00bd4359</td>\n",
       "      <td>1</td>\n",
       "    </tr>\n",
       "    <tr>\n",
       "      <th>15</th>\n",
       "      <td>00c0cd71</td>\n",
       "      <td>1</td>\n",
       "    </tr>\n",
       "    <tr>\n",
       "      <th>16</th>\n",
       "      <td>00d56d4b</td>\n",
       "      <td>0</td>\n",
       "    </tr>\n",
       "    <tr>\n",
       "      <th>17</th>\n",
       "      <td>00d9913d</td>\n",
       "      <td>0</td>\n",
       "    </tr>\n",
       "    <tr>\n",
       "      <th>18</th>\n",
       "      <td>00e6167c</td>\n",
       "      <td>0</td>\n",
       "    </tr>\n",
       "    <tr>\n",
       "      <th>19</th>\n",
       "      <td>00ebc35d</td>\n",
       "      <td>1</td>\n",
       "    </tr>\n",
       "  </tbody>\n",
       "</table>\n",
       "</div>"
      ],
      "text/plain": [
       "          id  sii\n",
       "0   00008ff9    1\n",
       "1   000fd460    0\n",
       "2   00105258    0\n",
       "3   00115b9f    0\n",
       "4   0016bb22    0\n",
       "5   001f3379    1\n",
       "6   0038ba98    0\n",
       "7   0068a485    0\n",
       "8   0069fbed    1\n",
       "9   0083e397    0\n",
       "10  0087dd65    0\n",
       "11  00abe655    0\n",
       "12  00ae59c9    1\n",
       "13  00af6387    1\n",
       "14  00bd4359    1\n",
       "15  00c0cd71    1\n",
       "16  00d56d4b    0\n",
       "17  00d9913d    0\n",
       "18  00e6167c    0\n",
       "19  00ebc35d    1"
      ]
     },
     "execution_count": 36,
     "metadata": {},
     "output_type": "execute_result"
    }
   ],
   "source": [
    "train = pd.read_csv('/kaggle/input/child-mind-institute-problematic-internet-use/train.csv')\n",
    "test = pd.read_csv('/kaggle/input/child-mind-institute-problematic-internet-use/test.csv')\n",
    "sample = pd.read_csv('/kaggle/input/child-mind-institute-problematic-internet-use/sample_submission.csv')\n",
    "\n",
    "def process_file(filename, dirname):\n",
    "    df = pd.read_parquet(os.path.join(dirname, filename, 'part-0.parquet'))\n",
    "    df.drop('step', axis=1, inplace=True)\n",
    "    return df.describe().values.reshape(-1), filename.split('=')[1]\n",
    "\n",
    "def load_time_series(dirname) -> pd.DataFrame:\n",
    "    ids = os.listdir(dirname)\n",
    "    \n",
    "    with ThreadPoolExecutor() as executor:\n",
    "        results = list(tqdm(executor.map(lambda fname: process_file(fname, dirname), ids), total=len(ids)))\n",
    "    \n",
    "    stats, indexes = zip(*results)\n",
    "    \n",
    "    df = pd.DataFrame(stats, columns=[f\"stat_{i}\" for i in range(len(stats[0]))])\n",
    "    df['id'] = indexes\n",
    "    return df\n",
    "        \n",
    "train_ts = load_time_series(\"/kaggle/input/child-mind-institute-problematic-internet-use/series_train.parquet\")\n",
    "test_ts = load_time_series(\"/kaggle/input/child-mind-institute-problematic-internet-use/series_test.parquet\")\n",
    "\n",
    "time_series_cols = train_ts.columns.tolist()\n",
    "time_series_cols.remove(\"id\")\n",
    "\n",
    "train = pd.merge(train, train_ts, how=\"left\", on='id')\n",
    "test = pd.merge(test, test_ts, how=\"left\", on='id')\n",
    "\n",
    "train = train.drop('id', axis=1)\n",
    "test = test.drop('id', axis=1)   \n",
    "\n",
    "featuresCols = ['Basic_Demos-Enroll_Season', 'Basic_Demos-Age', 'Basic_Demos-Sex',\n",
    "                'CGAS-Season', 'CGAS-CGAS_Score', 'Physical-Season', 'Physical-BMI',\n",
    "                'Physical-Height', 'Physical-Weight', 'Physical-Waist_Circumference',\n",
    "                'Physical-Diastolic_BP', 'Physical-HeartRate', 'Physical-Systolic_BP',\n",
    "                'Fitness_Endurance-Season', 'Fitness_Endurance-Max_Stage',\n",
    "                'Fitness_Endurance-Time_Mins', 'Fitness_Endurance-Time_Sec',\n",
    "                'FGC-Season', 'FGC-FGC_CU', 'FGC-FGC_CU_Zone', 'FGC-FGC_GSND',\n",
    "                'FGC-FGC_GSND_Zone', 'FGC-FGC_GSD', 'FGC-FGC_GSD_Zone', 'FGC-FGC_PU',\n",
    "                'FGC-FGC_PU_Zone', 'FGC-FGC_SRL', 'FGC-FGC_SRL_Zone', 'FGC-FGC_SRR',\n",
    "                'FGC-FGC_SRR_Zone', 'FGC-FGC_TL', 'FGC-FGC_TL_Zone', 'BIA-Season',\n",
    "                'BIA-BIA_Activity_Level_num', 'BIA-BIA_BMC', 'BIA-BIA_BMI',\n",
    "                'BIA-BIA_BMR', 'BIA-BIA_DEE', 'BIA-BIA_ECW', 'BIA-BIA_FFM',\n",
    "                'BIA-BIA_FFMI', 'BIA-BIA_FMI', 'BIA-BIA_Fat', 'BIA-BIA_Frame_num',\n",
    "                'BIA-BIA_ICW', 'BIA-BIA_LDM', 'BIA-BIA_LST', 'BIA-BIA_SMM',\n",
    "                'BIA-BIA_TBW', 'PAQ_A-Season', 'PAQ_A-PAQ_A_Total', 'PAQ_C-Season',\n",
    "                'PAQ_C-PAQ_C_Total', 'SDS-Season', 'SDS-SDS_Total_Raw',\n",
    "                'SDS-SDS_Total_T', 'PreInt_EduHx-Season',\n",
    "                'PreInt_EduHx-computerinternet_hoursday', 'sii']\n",
    "\n",
    "featuresCols += time_series_cols\n",
    "\n",
    "train = train[featuresCols]\n",
    "train = train.dropna(subset='sii')\n",
    "\n",
    "cat_c = ['Basic_Demos-Enroll_Season', 'CGAS-Season', 'Physical-Season', \n",
    "          'Fitness_Endurance-Season', 'FGC-Season', 'BIA-Season', \n",
    "          'PAQ_A-Season', 'PAQ_C-Season', 'SDS-Season', 'PreInt_EduHx-Season']\n",
    "\n",
    "def update(df):\n",
    "    global cat_c\n",
    "    for c in cat_c: \n",
    "        df[c] = df[c].fillna('Missing')\n",
    "        df[c] = df[c].astype('category')\n",
    "    return df\n",
    "        \n",
    "train = update(train)\n",
    "test = update(test)\n",
    "\n",
    "def create_mapping(column, dataset):\n",
    "    unique_values = dataset[column].unique()\n",
    "    return {value: idx for idx, value in enumerate(unique_values)}\n",
    "\n",
    "for col in cat_c:\n",
    "    mapping = create_mapping(col, train)\n",
    "    mappingTe = create_mapping(col, test)\n",
    "    \n",
    "    train[col] = train[col].replace(mapping).astype(int)\n",
    "    test[col] = test[col].replace(mappingTe).astype(int)\n",
    "\n",
    "def quadratic_weighted_kappa(y_true, y_pred):\n",
    "    return cohen_kappa_score(y_true, y_pred, weights='quadratic')\n",
    "\n",
    "def threshold_Rounder(oof_non_rounded, thresholds):\n",
    "    return np.where(oof_non_rounded < thresholds[0], 0,\n",
    "                    np.where(oof_non_rounded < thresholds[1], 1,\n",
    "                             np.where(oof_non_rounded < thresholds[2], 2, 3)))\n",
    "\n",
    "def evaluate_predictions(thresholds, y_true, oof_non_rounded):\n",
    "    rounded_p = threshold_Rounder(oof_non_rounded, thresholds)\n",
    "    return -quadratic_weighted_kappa(y_true, rounded_p)\n",
    "\n",
    "def TrainML(model_class, test_data):\n",
    "    X = train.drop(['sii'], axis=1)\n",
    "    y = train['sii']\n",
    "\n",
    "    SKF = StratifiedKFold(n_splits=n_splits, shuffle=True, random_state=SEED)\n",
    "    \n",
    "    train_S = []\n",
    "    test_S = []\n",
    "    \n",
    "    oof_non_rounded = np.zeros(len(y), dtype=float) \n",
    "    oof_rounded = np.zeros(len(y), dtype=int) \n",
    "    test_preds = np.zeros((len(test_data), n_splits))\n",
    "\n",
    "    for fold, (train_idx, test_idx) in enumerate(tqdm(SKF.split(X, y), desc=\"Training Folds\", total=n_splits)):\n",
    "        X_train, X_val = X.iloc[train_idx], X.iloc[test_idx]\n",
    "        y_train, y_val = y.iloc[train_idx], y.iloc[test_idx]\n",
    "\n",
    "        model = clone(model_class)\n",
    "        model.fit(X_train, y_train)\n",
    "\n",
    "        y_train_pred = model.predict(X_train)\n",
    "        y_val_pred = model.predict(X_val)\n",
    "\n",
    "        oof_non_rounded[test_idx] = y_val_pred\n",
    "        y_val_pred_rounded = y_val_pred.round(0).astype(int)\n",
    "        oof_rounded[test_idx] = y_val_pred_rounded\n",
    "\n",
    "        train_kappa = quadratic_weighted_kappa(y_train, y_train_pred.round(0).astype(int))\n",
    "        val_kappa = quadratic_weighted_kappa(y_val, y_val_pred_rounded)\n",
    "\n",
    "        train_S.append(train_kappa)\n",
    "        test_S.append(val_kappa)\n",
    "        \n",
    "        test_preds[:, fold] = model.predict(test_data)\n",
    "        \n",
    "        print(f\"Fold {fold+1} - Train QWK: {train_kappa:.4f}, Validation QWK: {val_kappa:.4f}\")\n",
    "        clear_output(wait=True)\n",
    "\n",
    "    print(f\"Mean Train QWK --> {np.mean(train_S):.4f}\")\n",
    "    print(f\"Mean Validation QWK ---> {np.mean(test_S):.4f}\")\n",
    "\n",
    "    KappaOPtimizer = minimize(evaluate_predictions,\n",
    "                              x0=[0.5, 1.5, 2.5], args=(y, oof_non_rounded), \n",
    "                              method='Nelder-Mead')\n",
    "    assert KappaOPtimizer.success, \"Optimization did not converge.\"\n",
    "    \n",
    "    oof_tuned = threshold_Rounder(oof_non_rounded, KappaOPtimizer.x)\n",
    "    tKappa = quadratic_weighted_kappa(y, oof_tuned)\n",
    "\n",
    "    print(f\"----> || Optimized QWK SCORE :: {Fore.CYAN}{Style.BRIGHT} {tKappa:.3f}{Style.RESET_ALL}\")\n",
    "\n",
    "    tpm = test_preds.mean(axis=1)\n",
    "    tpTuned = threshold_Rounder(tpm, KappaOPtimizer.x)\n",
    "    \n",
    "    submission = pd.DataFrame({\n",
    "        'id': sample['id'],\n",
    "        'sii': tpTuned\n",
    "    })\n",
    "\n",
    "    return submission\n",
    "\n",
    "# Model parameters for LightGBM\n",
    "Params = {\n",
    "    'learning_rate': 0.046,\n",
    "    'max_depth': 12,\n",
    "    'num_leaves': 478,\n",
    "    'min_data_in_leaf': 13,\n",
    "    'feature_fraction': 0.893,\n",
    "    'bagging_fraction': 0.784,\n",
    "    'bagging_freq': 4,\n",
    "    'lambda_l1': 10,  # Increased from 6.59\n",
    "    'lambda_l2': 0.01  # Increased from 2.68e-06\n",
    "}\n",
    "\n",
    "\n",
    "# XGBoost parameters\n",
    "XGB_Params = {\n",
    "    'learning_rate': 0.05,\n",
    "    'max_depth': 6,\n",
    "    'n_estimators': 200,\n",
    "    'subsample': 0.8,\n",
    "    'colsample_bytree': 0.8,\n",
    "    'reg_alpha': 1,  # Increased from 0.1\n",
    "    'reg_lambda': 5,  # Increased from 1\n",
    "    'random_state': SEED\n",
    "}\n",
    "\n",
    "\n",
    "CatBoost_Params = {\n",
    "    'learning_rate': 0.05,\n",
    "    'depth': 6,\n",
    "    'iterations': 200,\n",
    "    'random_seed': SEED,\n",
    "    'cat_features': cat_c,\n",
    "    'verbose': 0,\n",
    "    'l2_leaf_reg': 10  # Increase this value\n",
    "}\n",
    "\n",
    "# Create model instances\n",
    "Light = LGBMRegressor(**Params, random_state=SEED, verbose=-1, n_estimators=300)\n",
    "XGB_Model = XGBRegressor(**XGB_Params)\n",
    "CatBoost_Model = CatBoostRegressor(**CatBoost_Params)\n",
    "# TabNet_Model = TabNetModel(**TabNet_Params)  # New:TAbNet\n",
    "\n",
    "# Combine models using Voting Regressor\n",
    "voting_model = VotingRegressor(estimators=[\n",
    "    ('lightgbm', Light),\n",
    "    ('xgboost', XGB_Model),\n",
    "    ('catboost', CatBoost_Model)\n",
    "    # ('tabnet', TabNet_Model)  # New:TabNet\n",
    "])\n",
    "\n",
    "# Train the ensemble model\n",
    "Submission2 = TrainML(voting_model, test)\n",
    "\n",
    "# Save submission\n",
    "#Submission2.to_csv('submission.csv', index=False)\n",
    "Submission2"
   ]
  },
  {
   "cell_type": "markdown",
   "id": "d5b81059",
   "metadata": {
    "papermill": {
     "duration": 0.032594,
     "end_time": "2025-03-02T12:16:06.316154",
     "exception": false,
     "start_time": "2025-03-02T12:16:06.283560",
     "status": "completed"
    },
    "tags": []
   },
   "source": [
    "#### Third Model:"
   ]
  },
  {
   "cell_type": "code",
   "execution_count": 37,
   "id": "62da8603",
   "metadata": {
    "execution": {
     "iopub.execute_input": "2025-03-02T12:16:06.382819Z",
     "iopub.status.busy": "2025-03-02T12:16:06.382560Z",
     "iopub.status.idle": "2025-03-02T12:21:16.662395Z",
     "shell.execute_reply": "2025-03-02T12:21:16.661531Z"
    },
    "papermill": {
     "duration": 310.315743,
     "end_time": "2025-03-02T12:21:16.664195",
     "exception": false,
     "start_time": "2025-03-02T12:16:06.348452",
     "status": "completed"
    },
    "tags": []
   },
   "outputs": [
    {
     "name": "stderr",
     "output_type": "stream",
     "text": [
      "Training Folds: 100%|██████████| 5/5 [02:00<00:00, 24.15s/it]"
     ]
    },
    {
     "name": "stdout",
     "output_type": "stream",
     "text": [
      "Mean Train QWK --> 0.9175\n",
      "Mean Validation QWK ---> 0.3803\n"
     ]
    },
    {
     "name": "stderr",
     "output_type": "stream",
     "text": [
      "\n"
     ]
    },
    {
     "name": "stdout",
     "output_type": "stream",
     "text": [
      "----> || Optimized QWK SCORE :: \u001b[36m\u001b[1m 0.450\u001b[0m\n"
     ]
    },
    {
     "data": {
      "text/html": [
       "<div>\n",
       "<style scoped>\n",
       "    .dataframe tbody tr th:only-of-type {\n",
       "        vertical-align: middle;\n",
       "    }\n",
       "\n",
       "    .dataframe tbody tr th {\n",
       "        vertical-align: top;\n",
       "    }\n",
       "\n",
       "    .dataframe thead th {\n",
       "        text-align: right;\n",
       "    }\n",
       "</style>\n",
       "<table border=\"1\" class=\"dataframe\">\n",
       "  <thead>\n",
       "    <tr style=\"text-align: right;\">\n",
       "      <th></th>\n",
       "      <th>id</th>\n",
       "      <th>sii</th>\n",
       "    </tr>\n",
       "  </thead>\n",
       "  <tbody>\n",
       "    <tr>\n",
       "      <th>0</th>\n",
       "      <td>00008ff9</td>\n",
       "      <td>2</td>\n",
       "    </tr>\n",
       "    <tr>\n",
       "      <th>1</th>\n",
       "      <td>000fd460</td>\n",
       "      <td>0</td>\n",
       "    </tr>\n",
       "    <tr>\n",
       "      <th>2</th>\n",
       "      <td>00105258</td>\n",
       "      <td>0</td>\n",
       "    </tr>\n",
       "    <tr>\n",
       "      <th>3</th>\n",
       "      <td>00115b9f</td>\n",
       "      <td>0</td>\n",
       "    </tr>\n",
       "    <tr>\n",
       "      <th>4</th>\n",
       "      <td>0016bb22</td>\n",
       "      <td>1</td>\n",
       "    </tr>\n",
       "    <tr>\n",
       "      <th>5</th>\n",
       "      <td>001f3379</td>\n",
       "      <td>1</td>\n",
       "    </tr>\n",
       "    <tr>\n",
       "      <th>6</th>\n",
       "      <td>0038ba98</td>\n",
       "      <td>0</td>\n",
       "    </tr>\n",
       "    <tr>\n",
       "      <th>7</th>\n",
       "      <td>0068a485</td>\n",
       "      <td>0</td>\n",
       "    </tr>\n",
       "    <tr>\n",
       "      <th>8</th>\n",
       "      <td>0069fbed</td>\n",
       "      <td>2</td>\n",
       "    </tr>\n",
       "    <tr>\n",
       "      <th>9</th>\n",
       "      <td>0083e397</td>\n",
       "      <td>0</td>\n",
       "    </tr>\n",
       "    <tr>\n",
       "      <th>10</th>\n",
       "      <td>0087dd65</td>\n",
       "      <td>1</td>\n",
       "    </tr>\n",
       "    <tr>\n",
       "      <th>11</th>\n",
       "      <td>00abe655</td>\n",
       "      <td>0</td>\n",
       "    </tr>\n",
       "    <tr>\n",
       "      <th>12</th>\n",
       "      <td>00ae59c9</td>\n",
       "      <td>2</td>\n",
       "    </tr>\n",
       "    <tr>\n",
       "      <th>13</th>\n",
       "      <td>00af6387</td>\n",
       "      <td>1</td>\n",
       "    </tr>\n",
       "    <tr>\n",
       "      <th>14</th>\n",
       "      <td>00bd4359</td>\n",
       "      <td>2</td>\n",
       "    </tr>\n",
       "    <tr>\n",
       "      <th>15</th>\n",
       "      <td>00c0cd71</td>\n",
       "      <td>2</td>\n",
       "    </tr>\n",
       "    <tr>\n",
       "      <th>16</th>\n",
       "      <td>00d56d4b</td>\n",
       "      <td>0</td>\n",
       "    </tr>\n",
       "    <tr>\n",
       "      <th>17</th>\n",
       "      <td>00d9913d</td>\n",
       "      <td>0</td>\n",
       "    </tr>\n",
       "    <tr>\n",
       "      <th>18</th>\n",
       "      <td>00e6167c</td>\n",
       "      <td>0</td>\n",
       "    </tr>\n",
       "    <tr>\n",
       "      <th>19</th>\n",
       "      <td>00ebc35d</td>\n",
       "      <td>1</td>\n",
       "    </tr>\n",
       "  </tbody>\n",
       "</table>\n",
       "</div>"
      ],
      "text/plain": [
       "          id  sii\n",
       "0   00008ff9    2\n",
       "1   000fd460    0\n",
       "2   00105258    0\n",
       "3   00115b9f    0\n",
       "4   0016bb22    1\n",
       "5   001f3379    1\n",
       "6   0038ba98    0\n",
       "7   0068a485    0\n",
       "8   0069fbed    2\n",
       "9   0083e397    0\n",
       "10  0087dd65    1\n",
       "11  00abe655    0\n",
       "12  00ae59c9    2\n",
       "13  00af6387    1\n",
       "14  00bd4359    2\n",
       "15  00c0cd71    2\n",
       "16  00d56d4b    0\n",
       "17  00d9913d    0\n",
       "18  00e6167c    0\n",
       "19  00ebc35d    1"
      ]
     },
     "execution_count": 37,
     "metadata": {},
     "output_type": "execute_result"
    }
   ],
   "source": [
    "train = pd.read_csv('/kaggle/input/child-mind-institute-problematic-internet-use/train.csv')\n",
    "test = pd.read_csv('/kaggle/input/child-mind-institute-problematic-internet-use/test.csv')\n",
    "sample = pd.read_csv('/kaggle/input/child-mind-institute-problematic-internet-use/sample_submission.csv')\n",
    "\n",
    "featuresCols = ['Basic_Demos-Enroll_Season', 'Basic_Demos-Age', 'Basic_Demos-Sex',\n",
    "                'CGAS-Season', 'CGAS-CGAS_Score', 'Physical-Season', 'Physical-BMI',\n",
    "                'Physical-Height', 'Physical-Weight', 'Physical-Waist_Circumference',\n",
    "                'Physical-Diastolic_BP', 'Physical-HeartRate', 'Physical-Systolic_BP',\n",
    "                'Fitness_Endurance-Season', 'Fitness_Endurance-Max_Stage',\n",
    "                'Fitness_Endurance-Time_Mins', 'Fitness_Endurance-Time_Sec',\n",
    "                'FGC-Season', 'FGC-FGC_CU', 'FGC-FGC_CU_Zone', 'FGC-FGC_GSND',\n",
    "                'FGC-FGC_GSND_Zone', 'FGC-FGC_GSD', 'FGC-FGC_GSD_Zone', 'FGC-FGC_PU',\n",
    "                'FGC-FGC_PU_Zone', 'FGC-FGC_SRL', 'FGC-FGC_SRL_Zone', 'FGC-FGC_SRR',\n",
    "                'FGC-FGC_SRR_Zone', 'FGC-FGC_TL', 'FGC-FGC_TL_Zone', 'BIA-Season',\n",
    "                'BIA-BIA_Activity_Level_num', 'BIA-BIA_BMC', 'BIA-BIA_BMI',\n",
    "                'BIA-BIA_BMR', 'BIA-BIA_DEE', 'BIA-BIA_ECW', 'BIA-BIA_FFM',\n",
    "                'BIA-BIA_FFMI', 'BIA-BIA_FMI', 'BIA-BIA_Fat', 'BIA-BIA_Frame_num',\n",
    "                'BIA-BIA_ICW', 'BIA-BIA_LDM', 'BIA-BIA_LST', 'BIA-BIA_SMM',\n",
    "                'BIA-BIA_TBW', 'PAQ_A-Season', 'PAQ_A-PAQ_A_Total', 'PAQ_C-Season',\n",
    "                'PAQ_C-PAQ_C_Total', 'SDS-Season', 'SDS-SDS_Total_Raw',\n",
    "                'SDS-SDS_Total_T', 'PreInt_EduHx-Season',\n",
    "                'PreInt_EduHx-computerinternet_hoursday', 'sii']\n",
    "\n",
    "cat_c = ['Basic_Demos-Enroll_Season', 'CGAS-Season', 'Physical-Season', \n",
    "          'Fitness_Endurance-Season', 'FGC-Season', 'BIA-Season', \n",
    "          'PAQ_A-Season', 'PAQ_C-Season', 'SDS-Season', 'PreInt_EduHx-Season']\n",
    "\n",
    "train_ts = load_time_series(\"/kaggle/input/child-mind-institute-problematic-internet-use/series_train.parquet\")\n",
    "test_ts = load_time_series(\"/kaggle/input/child-mind-institute-problematic-internet-use/series_test.parquet\")\n",
    "\n",
    "time_series_cols = train_ts.columns.tolist()\n",
    "time_series_cols.remove(\"id\")\n",
    "\n",
    "train = pd.merge(train, train_ts, how=\"left\", on='id')\n",
    "test = pd.merge(test, test_ts, how=\"left\", on='id')\n",
    "\n",
    "train = train.drop('id', axis=1)\n",
    "test = test.drop('id', axis=1)\n",
    "\n",
    "featuresCols += time_series_cols\n",
    "\n",
    "train = train[featuresCols]\n",
    "train = train.dropna(subset='sii')\n",
    "\n",
    "def update(df):\n",
    "    global cat_c\n",
    "    for c in cat_c: \n",
    "        df[c] = df[c].fillna('Missing')\n",
    "        df[c] = df[c].astype('category')\n",
    "    return df\n",
    "\n",
    "train = update(train)\n",
    "test = update(test)\n",
    "\n",
    "def create_mapping(column, dataset):\n",
    "    unique_values = dataset[column].unique()\n",
    "    return {value: idx for idx, value in enumerate(unique_values)}\n",
    "\n",
    "for col in cat_c:\n",
    "    mapping = create_mapping(col, train)\n",
    "    mappingTe = create_mapping(col, test)\n",
    "    \n",
    "    train[col] = train[col].replace(mapping).astype(int)\n",
    "    test[col] = test[col].replace(mappingTe).astype(int)\n",
    "\n",
    "def quadratic_weighted_kappa(y_true, y_pred):\n",
    "    return cohen_kappa_score(y_true, y_pred, weights='quadratic')\n",
    "\n",
    "def threshold_Rounder(oof_non_rounded, thresholds):\n",
    "    return np.where(oof_non_rounded < thresholds[0], 0,\n",
    "                    np.where(oof_non_rounded < thresholds[1], 1,\n",
    "                             np.where(oof_non_rounded < thresholds[2], 2, 3)))\n",
    "\n",
    "def evaluate_predictions(thresholds, y_true, oof_non_rounded):\n",
    "    rounded_p = threshold_Rounder(oof_non_rounded, thresholds)\n",
    "    return -quadratic_weighted_kappa(y_true, rounded_p)\n",
    "\n",
    "def TrainML(model_class, test_data):\n",
    "    X = train.drop(['sii'], axis=1)\n",
    "    y = train['sii']\n",
    "\n",
    "    SKF = StratifiedKFold(n_splits=n_splits, shuffle=True, random_state=SEED)\n",
    "    \n",
    "    train_S = []\n",
    "    test_S = []\n",
    "    \n",
    "    oof_non_rounded = np.zeros(len(y), dtype=float) \n",
    "    oof_rounded = np.zeros(len(y), dtype=int) \n",
    "    test_preds = np.zeros((len(test_data), n_splits))\n",
    "\n",
    "    for fold, (train_idx, test_idx) in enumerate(tqdm(SKF.split(X, y), desc=\"Training Folds\", total=n_splits)):\n",
    "        X_train, X_val = X.iloc[train_idx], X.iloc[test_idx]\n",
    "        y_train, y_val = y.iloc[train_idx], y.iloc[test_idx]\n",
    "\n",
    "        model = clone(model_class)\n",
    "        model.fit(X_train, y_train)\n",
    "\n",
    "        y_train_pred = model.predict(X_train)\n",
    "        y_val_pred = model.predict(X_val)\n",
    "\n",
    "        oof_non_rounded[test_idx] = y_val_pred\n",
    "        y_val_pred_rounded = y_val_pred.round(0).astype(int)\n",
    "        oof_rounded[test_idx] = y_val_pred_rounded\n",
    "\n",
    "        train_kappa = quadratic_weighted_kappa(y_train, y_train_pred.round(0).astype(int))\n",
    "        val_kappa = quadratic_weighted_kappa(y_val, y_val_pred_rounded)\n",
    "\n",
    "        train_S.append(train_kappa)\n",
    "        test_S.append(val_kappa)\n",
    "        \n",
    "        test_preds[:, fold] = model.predict(test_data)\n",
    "        \n",
    "        print(f\"Fold {fold+1} - Train QWK: {train_kappa:.4f}, Validation QWK: {val_kappa:.4f}\")\n",
    "        clear_output(wait=True)\n",
    "\n",
    "    print(f\"Mean Train QWK --> {np.mean(train_S):.4f}\")\n",
    "    print(f\"Mean Validation QWK ---> {np.mean(test_S):.4f}\")\n",
    "\n",
    "    KappaOPtimizer = minimize(evaluate_predictions,\n",
    "                              x0=[0.5, 1.5, 2.5], args=(y, oof_non_rounded), \n",
    "                              method='Nelder-Mead')\n",
    "    assert KappaOPtimizer.success, \"Optimization did not converge.\"\n",
    "    \n",
    "    oof_tuned = threshold_Rounder(oof_non_rounded, KappaOPtimizer.x)\n",
    "    tKappa = quadratic_weighted_kappa(y, oof_tuned)\n",
    "\n",
    "    print(f\"----> || Optimized QWK SCORE :: {Fore.CYAN}{Style.BRIGHT} {tKappa:.3f}{Style.RESET_ALL}\")\n",
    "\n",
    "    tpm = test_preds.mean(axis=1)\n",
    "    tp_rounded = threshold_Rounder(tpm, KappaOPtimizer.x)\n",
    "\n",
    "    return tp_rounded\n",
    "\n",
    "imputer = SimpleImputer(strategy='median')\n",
    "\n",
    "ensemble = VotingRegressor(estimators=[\n",
    "    ('lgb', Pipeline(steps=[('imputer', imputer), ('regressor', LGBMRegressor(random_state=SEED))])),\n",
    "    ('xgb', Pipeline(steps=[('imputer', imputer), ('regressor', XGBRegressor(random_state=SEED))])),\n",
    "    ('cat', Pipeline(steps=[('imputer', imputer), ('regressor', CatBoostRegressor(random_state=SEED, silent=True))])),\n",
    "    ('rf', Pipeline(steps=[('imputer', imputer), ('regressor', RandomForestRegressor(random_state=SEED))])),\n",
    "    ('gb', Pipeline(steps=[('imputer', imputer), ('regressor', GradientBoostingRegressor(random_state=SEED))]))\n",
    "    # ('tabnet', Pipeline(steps=[('imputer', imputer), ('regressor', TabnetWrapper(**TabNet_Params))]))  # New:TabNet\n",
    "])\n",
    "\n",
    "Submission3 = TrainML(ensemble, test)\n",
    "\n",
    "Submission3 = TrainML(ensemble, test)\n",
    "Submission3 = pd.DataFrame({\n",
    "    'id': sample['id'],\n",
    "    'sii': Submission3\n",
    "})\n",
    "\n",
    "Submission3"
   ]
  },
  {
   "cell_type": "markdown",
   "id": "856e275e",
   "metadata": {
    "papermill": {
     "duration": 0.034533,
     "end_time": "2025-03-02T12:21:16.732681",
     "exception": false,
     "start_time": "2025-03-02T12:21:16.698148",
     "status": "completed"
    },
    "tags": []
   },
   "source": [
    "### Choose The Best Model:"
   ]
  },
  {
   "cell_type": "code",
   "execution_count": 38,
   "id": "e86b41d9",
   "metadata": {
    "execution": {
     "iopub.execute_input": "2025-03-02T12:21:16.802743Z",
     "iopub.status.busy": "2025-03-02T12:21:16.802041Z",
     "iopub.status.idle": "2025-03-02T12:21:16.817965Z",
     "shell.execute_reply": "2025-03-02T12:21:16.816998Z"
    },
    "papermill": {
     "duration": 0.053393,
     "end_time": "2025-03-02T12:21:16.819622",
     "exception": false,
     "start_time": "2025-03-02T12:21:16.766229",
     "status": "completed"
    },
    "tags": []
   },
   "outputs": [
    {
     "name": "stdout",
     "output_type": "stream",
     "text": [
      "Majority voting completed and saved to 'Final_Submission.csv'\n"
     ]
    }
   ],
   "source": [
    "sub1 = Submission1\n",
    "sub2 = Submission2\n",
    "sub3 = Submission3\n",
    "\n",
    "sub1 = sub1.sort_values(by='id').reset_index(drop=True)\n",
    "sub2 = sub2.sort_values(by='id').reset_index(drop=True)\n",
    "sub3 = sub3.sort_values(by='id').reset_index(drop=True)\n",
    "\n",
    "combined = pd.DataFrame({\n",
    "    'id': sub1['id'],\n",
    "    'sii_1': sub1['sii'],\n",
    "    'sii_2': sub2['sii'],\n",
    "    'sii_3': sub3['sii']\n",
    "})\n",
    "\n",
    "def majority_vote(row):\n",
    "    return row.mode()[0]\n",
    "\n",
    "combined['final_sii'] = combined[['sii_1', 'sii_2', 'sii_3']].apply(majority_vote, axis=1)\n",
    "\n",
    "final_submission = combined[['id', 'final_sii']].rename(columns={'final_sii': 'sii'})\n",
    "\n",
    "final_submission.to_csv('submission.csv', index=False)\n",
    "\n",
    "print(\"Majority voting completed and saved to 'Final_Submission.csv'\")"
   ]
  },
  {
   "cell_type": "code",
   "execution_count": 39,
   "id": "fb1d7db9",
   "metadata": {
    "execution": {
     "iopub.execute_input": "2025-03-02T12:21:16.887027Z",
     "iopub.status.busy": "2025-03-02T12:21:16.886558Z",
     "iopub.status.idle": "2025-03-02T12:21:16.894334Z",
     "shell.execute_reply": "2025-03-02T12:21:16.893431Z"
    },
    "papermill": {
     "duration": 0.043273,
     "end_time": "2025-03-02T12:21:16.895891",
     "exception": false,
     "start_time": "2025-03-02T12:21:16.852618",
     "status": "completed"
    },
    "tags": []
   },
   "outputs": [
    {
     "data": {
      "text/html": [
       "<div>\n",
       "<style scoped>\n",
       "    .dataframe tbody tr th:only-of-type {\n",
       "        vertical-align: middle;\n",
       "    }\n",
       "\n",
       "    .dataframe tbody tr th {\n",
       "        vertical-align: top;\n",
       "    }\n",
       "\n",
       "    .dataframe thead th {\n",
       "        text-align: right;\n",
       "    }\n",
       "</style>\n",
       "<table border=\"1\" class=\"dataframe\">\n",
       "  <thead>\n",
       "    <tr style=\"text-align: right;\">\n",
       "      <th></th>\n",
       "      <th>id</th>\n",
       "      <th>sii</th>\n",
       "    </tr>\n",
       "  </thead>\n",
       "  <tbody>\n",
       "    <tr>\n",
       "      <th>0</th>\n",
       "      <td>00008ff9</td>\n",
       "      <td>0</td>\n",
       "    </tr>\n",
       "    <tr>\n",
       "      <th>1</th>\n",
       "      <td>000fd460</td>\n",
       "      <td>0</td>\n",
       "    </tr>\n",
       "    <tr>\n",
       "      <th>2</th>\n",
       "      <td>00105258</td>\n",
       "      <td>0</td>\n",
       "    </tr>\n",
       "    <tr>\n",
       "      <th>3</th>\n",
       "      <td>00115b9f</td>\n",
       "      <td>0</td>\n",
       "    </tr>\n",
       "    <tr>\n",
       "      <th>4</th>\n",
       "      <td>0016bb22</td>\n",
       "      <td>1</td>\n",
       "    </tr>\n",
       "    <tr>\n",
       "      <th>5</th>\n",
       "      <td>001f3379</td>\n",
       "      <td>1</td>\n",
       "    </tr>\n",
       "    <tr>\n",
       "      <th>6</th>\n",
       "      <td>0038ba98</td>\n",
       "      <td>0</td>\n",
       "    </tr>\n",
       "    <tr>\n",
       "      <th>7</th>\n",
       "      <td>0068a485</td>\n",
       "      <td>0</td>\n",
       "    </tr>\n",
       "    <tr>\n",
       "      <th>8</th>\n",
       "      <td>0069fbed</td>\n",
       "      <td>1</td>\n",
       "    </tr>\n",
       "    <tr>\n",
       "      <th>9</th>\n",
       "      <td>0083e397</td>\n",
       "      <td>0</td>\n",
       "    </tr>\n",
       "    <tr>\n",
       "      <th>10</th>\n",
       "      <td>0087dd65</td>\n",
       "      <td>1</td>\n",
       "    </tr>\n",
       "    <tr>\n",
       "      <th>11</th>\n",
       "      <td>00abe655</td>\n",
       "      <td>0</td>\n",
       "    </tr>\n",
       "    <tr>\n",
       "      <th>12</th>\n",
       "      <td>00ae59c9</td>\n",
       "      <td>1</td>\n",
       "    </tr>\n",
       "    <tr>\n",
       "      <th>13</th>\n",
       "      <td>00af6387</td>\n",
       "      <td>1</td>\n",
       "    </tr>\n",
       "    <tr>\n",
       "      <th>14</th>\n",
       "      <td>00bd4359</td>\n",
       "      <td>1</td>\n",
       "    </tr>\n",
       "    <tr>\n",
       "      <th>15</th>\n",
       "      <td>00c0cd71</td>\n",
       "      <td>1</td>\n",
       "    </tr>\n",
       "    <tr>\n",
       "      <th>16</th>\n",
       "      <td>00d56d4b</td>\n",
       "      <td>0</td>\n",
       "    </tr>\n",
       "    <tr>\n",
       "      <th>17</th>\n",
       "      <td>00d9913d</td>\n",
       "      <td>0</td>\n",
       "    </tr>\n",
       "    <tr>\n",
       "      <th>18</th>\n",
       "      <td>00e6167c</td>\n",
       "      <td>0</td>\n",
       "    </tr>\n",
       "    <tr>\n",
       "      <th>19</th>\n",
       "      <td>00ebc35d</td>\n",
       "      <td>1</td>\n",
       "    </tr>\n",
       "  </tbody>\n",
       "</table>\n",
       "</div>"
      ],
      "text/plain": [
       "          id  sii\n",
       "0   00008ff9    0\n",
       "1   000fd460    0\n",
       "2   00105258    0\n",
       "3   00115b9f    0\n",
       "4   0016bb22    1\n",
       "5   001f3379    1\n",
       "6   0038ba98    0\n",
       "7   0068a485    0\n",
       "8   0069fbed    1\n",
       "9   0083e397    0\n",
       "10  0087dd65    1\n",
       "11  00abe655    0\n",
       "12  00ae59c9    1\n",
       "13  00af6387    1\n",
       "14  00bd4359    1\n",
       "15  00c0cd71    1\n",
       "16  00d56d4b    0\n",
       "17  00d9913d    0\n",
       "18  00e6167c    0\n",
       "19  00ebc35d    1"
      ]
     },
     "execution_count": 39,
     "metadata": {},
     "output_type": "execute_result"
    }
   ],
   "source": [
    "final_submission"
   ]
  }
 ],
 "metadata": {
  "kaggle": {
   "accelerator": "nvidiaTeslaT4",
   "dataSources": [
    {
     "databundleVersionId": 9643020,
     "sourceId": 81933,
     "sourceType": "competition"
    },
    {
     "datasetId": 921302,
     "sourceId": 7453542,
     "sourceType": "datasetVersion"
    }
   ],
   "dockerImageVersionId": 30805,
   "isGpuEnabled": true,
   "isInternetEnabled": true,
   "language": "python",
   "sourceType": "notebook"
  },
  "kernelspec": {
   "display_name": "Python 3",
   "language": "python",
   "name": "python3"
  },
  "language_info": {
   "codemirror_mode": {
    "name": "ipython",
    "version": 3
   },
   "file_extension": ".py",
   "mimetype": "text/x-python",
   "name": "python",
   "nbconvert_exporter": "python",
   "pygments_lexer": "ipython3",
   "version": "3.10.14"
  },
  "papermill": {
   "default_parameters": {},
   "duration": 728.714159,
   "end_time": "2025-03-02T12:21:19.909885",
   "environment_variables": {},
   "exception": null,
   "input_path": "__notebook__.ipynb",
   "output_path": "__notebook__.ipynb",
   "parameters": {},
   "start_time": "2025-03-02T12:09:11.195726",
   "version": "2.6.0"
  }
 },
 "nbformat": 4,
 "nbformat_minor": 5
}
